{
 "cells": [
  {
   "cell_type": "markdown",
   "id": "5cef8632-bfb9-4cf3-aa18-b7fa3a62f0bf",
   "metadata": {
    "editable": true,
    "slideshow": {
     "slide_type": "slide"
    },
    "tags": []
   },
   "source": [
    "# Python built ins\n",
    "### Pre-lecture readings:\n",
    "- Data types and conversions\n",
    "\n",
    "### Goals for today\n",
    "1. Basics of using functions\n",
    "2. Lists\n",
    "3. Dictionaries"
   ]
  },
  {
   "cell_type": "markdown",
   "id": "9eb6cd80-28d1-41ba-9a4c-6099464dc215",
   "metadata": {
    "editable": true,
    "slideshow": {
     "slide_type": "slide"
    },
    "tags": []
   },
   "source": [
    "---\n",
    "# Functions  \n",
    "\n"
   ]
  },
  {
   "cell_type": "markdown",
   "id": "35432013-252f-498a-910f-b5bee906f4df",
   "metadata": {
    "editable": true,
    "slideshow": {
     "slide_type": "slide"
    },
    "tags": []
   },
   "source": [
    "## A function may take zero or more **arguments**\n",
    "\n",
    "An **argument** is a value passed into a function, inside parentheses. \n",
    "*   `len()` takes exactly one argument\n",
    "*   `int()`, `str()`, and `float()` take one argument\n",
    "*   `print` takes zero or more\n",
    "    *   `print` with no arguments prints a blank line\n",
    "*   We must always use parentheses when calling a function, even if they're empty, so that Python knows a function is being called\n",
    "\n",
    "~~~python\n",
    "print('before')\n",
    "print()\n",
    "print('after')\n",
    "~~~"
   ]
  },
  {
   "cell_type": "code",
   "execution_count": null,
   "id": "f29e4da0-1b38-48ae-93bd-1c3783aad02c",
   "metadata": {
    "collapsed": false,
    "editable": true,
    "jupyter": {
     "outputs_hidden": false
    },
    "slideshow": {
     "slide_type": "slide"
    },
    "tags": []
   },
   "outputs": [],
   "source": [
    "x = [12, 13, 4]\n",
    "len(x)\n",
    "\n",
    "print()\n",
    "print(\"hello\")\n",
    "print"
   ]
  },
  {
   "cell_type": "markdown",
   "id": "0a6c8be1-3dbc-4952-b0b2-d6e84d8d5e2e",
   "metadata": {
    "editable": true,
    "slideshow": {
     "slide_type": "slide"
    },
    "tags": []
   },
   "source": [
    "## Every function **returns** something\n",
    "\n",
    "*   Every function call produces some result\n",
    "*   If the function doesn't have a useful result to return, it usually returns the special value `None`. `None` is a Python object that stands in anytime there is no value.\n",
    "*   Somewhat counter-intuitively, `print()` returns `None`. The `print()` function prints its arguments directly to the output, but when we attempt to assign the result of `print()` to a variable, that variable ends up with a value of `None`:\n",
    "\n",
    "~~~python\n",
    "result = print('example')\n",
    "print('result of print is', result)\n",
    "~~~"
   ]
  },
  {
   "cell_type": "code",
   "execution_count": null,
   "id": "133dcc12-b850-430d-8430-0ca6c79cd051",
   "metadata": {
    "collapsed": false,
    "editable": true,
    "jupyter": {
     "outputs_hidden": false
    },
    "slideshow": {
     "slide_type": "slide"
    },
    "tags": []
   },
   "outputs": [],
   "source": [
    "result = print(\"example\")\n",
    "print(\"result of print is\", result)"
   ]
  },
  {
   "cell_type": "markdown",
   "id": "c5967efb-fd0d-4dd3-b3c3-5fd4969436fd",
   "metadata": {
    "editable": true,
    "slideshow": {
     "slide_type": "slide"
    },
    "tags": []
   },
   "source": [
    "## Commonly-used built-in functions include `max`, `min`, and `round`.\n",
    "\n",
    "*   Use `max()` to find the largest value of two or more values\n",
    "*   Use `min()` to find the smallest\n",
    "*   Both work on character strings as well as numbers\n",
    "    *   \"Larger\" and \"smaller\" use (0-9, A-Z, a-z) to compare letters\n",
    "\n",
    "~~~python\n",
    "print(max(1, 2, 3))\n",
    "print(min('a', 'A', '0'))\n",
    "~~~"
   ]
  },
  {
   "cell_type": "code",
   "execution_count": null,
   "id": "781806eb-4ae9-4053-8385-f7531d9ca619",
   "metadata": {
    "collapsed": false,
    "editable": true,
    "jupyter": {
     "outputs_hidden": false
    },
    "slideshow": {
     "slide_type": "slide"
    },
    "tags": []
   },
   "outputs": [],
   "source": []
  },
  {
   "cell_type": "markdown",
   "id": "5814cd52-ad03-4dd0-8f09-e919f96b0838",
   "metadata": {
    "editable": true,
    "slideshow": {
     "slide_type": "slide"
    },
    "tags": []
   },
   "source": [
    "## Functions may only work for certain (combinations of) arguments\n",
    "\n",
    "`max()` and `min()` must be given at least two values to compare. They must also be given things that can meaningfully be compared.\n",
    "\n",
    "See what happens when you run each of the following:\n",
    "~~~python\n",
    "print(max(999))\n",
    "print(max(1, 'a'))\n",
    "~~~"
   ]
  },
  {
   "cell_type": "code",
   "execution_count": null,
   "id": "73d968da-8f10-46ff-8392-696e02c6ef2e",
   "metadata": {
    "collapsed": false,
    "editable": true,
    "jupyter": {
     "outputs_hidden": false
    },
    "slideshow": {
     "slide_type": "slide"
    },
    "tags": []
   },
   "outputs": [],
   "source": []
  },
  {
   "cell_type": "markdown",
   "id": "59cc0d06-2096-49df-8751-7e3023f4e11b",
   "metadata": {
    "editable": true,
    "slideshow": {
     "slide_type": "slide"
    },
    "tags": []
   },
   "source": [
    "## Functions may have default values for some arguments\n",
    "\n",
    "`round()` will round off a floating-point number. By default, it rounds to zero decimal places:\n",
    "\n",
    "~~~python\n",
    "round(3.712)\n",
    "~~~"
   ]
  },
  {
   "cell_type": "code",
   "execution_count": null,
   "id": "6d8c5bf8-98f0-4f8e-adb6-8725d9130d00",
   "metadata": {
    "collapsed": false,
    "editable": true,
    "jupyter": {
     "outputs_hidden": false
    },
    "slideshow": {
     "slide_type": "slide"
    },
    "tags": []
   },
   "outputs": [],
   "source": [
    "z = round(3.500)\n",
    "type(z)\n",
    "print(z)\n",
    "\n",
    "round(4.5)"
   ]
  },
  {
   "cell_type": "markdown",
   "id": "76a83a62-be55-407f-a618-81ad97c92ac8",
   "metadata": {
    "editable": true,
    "slideshow": {
     "slide_type": "slide"
    },
    "tags": []
   },
   "source": [
    "We can specify the number of decimal places we want by passing a second argument\n",
    "\n",
    "~~~python\n",
    "round(3.712, 1)\n",
    "~~~"
   ]
  },
  {
   "cell_type": "markdown",
   "id": "b82a2492-35d4-4d6a-ad01-5c244996e4ec",
   "metadata": {
    "editable": true,
    "slideshow": {
     "slide_type": "slide"
    },
    "tags": []
   },
   "source": [
    "---\n",
    "# Errors\n",
    "\n",
    "You can fix syntax errors by reading the source and runtime errors by tracing execution"
   ]
  },
  {
   "cell_type": "markdown",
   "id": "5ea615be-f100-45f3-8a16-a8b87a1b648f",
   "metadata": {
    "editable": true,
    "slideshow": {
     "slide_type": "slide"
    },
    "tags": []
   },
   "source": [
    "## Python reports a *syntax* error when there is an error in a program that makes it impossible to parse (making it impossible to interpret)\n",
    "\n",
    "Syntax refers to the structure of a program. \n",
    "\n",
    "Python won't even try to run the program if it can't be parsed\n",
    "\n"
   ]
  },
  {
   "cell_type": "markdown",
   "id": "16681186-5871-44a2-aa9f-0abb254c5c57",
   "metadata": {
    "editable": true,
    "slideshow": {
     "slide_type": "slide"
    },
    "tags": []
   },
   "source": [
    "Look more closely at this error message:\n",
    "\n",
    "~~~python\n",
    "print(\"hello world\"\n",
    "~~~"
   ]
  },
  {
   "cell_type": "code",
   "execution_count": null,
   "id": "c270e70e-5c8b-4fbb-99d7-621ca14223ae",
   "metadata": {
    "collapsed": false,
    "editable": true,
    "jupyter": {
     "outputs_hidden": false
    },
    "slideshow": {
     "slide_type": "slide"
    },
    "tags": []
   },
   "outputs": [],
   "source": [
    "print(\"hello world\""
   ]
  },
  {
   "cell_type": "markdown",
   "id": "2bf106dd-49bf-4fcc-8435-fba71916dec7",
   "metadata": {
    "editable": true,
    "slideshow": {
     "slide_type": "slide"
    },
    "tags": []
   },
   "source": [
    "*   The message indicates a problem on first line of the input (\"line 1\")\n",
    "*   The number in square brackets indicates the cell number that the error occurred in (the number in square brackets to the left of the cell). Note that cells are numbered based on the sequence they are *executed* in, not their order in the notebook. So if you execute the cell above again, this number will change.\n",
    "*   Next is the problematic line of code, indicating the start of the problem with a `^` pointer\n",
    "*   Finally, the type of error is provided on the last line"
   ]
  },
  {
   "cell_type": "markdown",
   "id": "16d38a6a-c508-40a9-9262-edc349f6ede9",
   "metadata": {
    "editable": true,
    "slideshow": {
     "slide_type": "slide"
    },
    "tags": []
   },
   "source": [
    "## Python reports a *runtime* error when something goes wrong while a program is executing\n",
    "\n",
    "~~~python\n",
    "age = 53\n",
    "remaining = 100 - aege # mis-spelled 'age'\n",
    "~~~"
   ]
  },
  {
   "cell_type": "code",
   "execution_count": null,
   "id": "0682a487-f64e-44eb-b47e-67f4dfb4fead",
   "metadata": {
    "collapsed": false,
    "editable": true,
    "jupyter": {
     "outputs_hidden": false
    },
    "slideshow": {
     "slide_type": "slide"
    },
    "tags": []
   },
   "outputs": [],
   "source": [
    "age = 53\n",
    "remaining = 100 - aege # mis-spelled 'age'"
   ]
  },
  {
   "cell_type": "markdown",
   "id": "feba3f64-b921-4741-870f-d8a0ed5c05cd",
   "metadata": {
    "editable": true,
    "slideshow": {
     "slide_type": "slide"
    },
    "tags": []
   },
   "source": [
    "---\n",
    "# Getting Help"
   ]
  },
  {
   "cell_type": "markdown",
   "id": "0c05fd07-6a2d-4b70-b2bc-9d2e16fe7b76",
   "metadata": {
    "editable": true,
    "slideshow": {
     "slide_type": "slide"
    },
    "tags": []
   },
   "source": [
    "## Use the built-in function `help` to get help for a function\n",
    "\n",
    "Every built-in function has online documentation.\n",
    "\n",
    "~~~python\n",
    "help(round)\n",
    "~~~"
   ]
  },
  {
   "cell_type": "code",
   "execution_count": null,
   "id": "46ef1dad-0c4b-480d-a53e-006c7074a492",
   "metadata": {
    "collapsed": false,
    "editable": true,
    "jupyter": {
     "outputs_hidden": false
    },
    "slideshow": {
     "slide_type": "slide"
    },
    "tags": []
   },
   "outputs": [],
   "source": [
    "help(round)"
   ]
  },
  {
   "cell_type": "markdown",
   "id": "4ee0f78f-241b-4a4b-ab68-d89be3a8371d",
   "metadata": {
    "editable": true,
    "slideshow": {
     "slide_type": "slide"
    },
    "tags": []
   },
   "source": [
    "## The Jupyter Notebook has two ways to get help\n",
    "\n",
    "#### Option 1:\n",
    "- Place the cursor near where the function is invoked in a cell (i.e., the function name or its parameters),\n",
    "- Hold down `shift`, and press `tab`\n"
   ]
  },
  {
   "cell_type": "markdown",
   "id": "c837dd5d-de2a-495b-9902-9644aa41d749",
   "metadata": {
    "editable": true,
    "slideshow": {
     "slide_type": "slide"
    },
    "tags": []
   },
   "source": [
    "#### Option 2:\n",
    "Type the function name in a cell with a question mark after it. Then run the cell"
   ]
  },
  {
   "cell_type": "code",
   "execution_count": null,
   "id": "e548f071-1c44-4bd4-9eca-06e6fa7581ef",
   "metadata": {
    "collapsed": false,
    "editable": true,
    "jupyter": {
     "outputs_hidden": false
    },
    "slideshow": {
     "slide_type": "slide"
    },
    "tags": []
   },
   "outputs": [],
   "source": [
    "help?"
   ]
  },
  {
   "cell_type": "markdown",
   "id": "4e12f051-7a31-4767-8c2d-c8a33338c348",
   "metadata": {
    "editable": true,
    "slideshow": {
     "slide_type": "slide"
    },
    "tags": []
   },
   "source": [
    "---\n",
    "# Lists"
   ]
  },
  {
   "cell_type": "markdown",
   "id": "ad28b34d-114b-4b11-9dde-f9940e522da5",
   "metadata": {
    "editable": true,
    "slideshow": {
     "slide_type": "slide"
    },
    "tags": []
   },
   "source": [
    "## A list stores many values in a single structure\n",
    "\n",
    "- We have seen how to store values by assigning them to variables\n",
    "- With data sets of any reasonable size, it would rapidly become inefficient and confusing to store each data point with a separate variable name\n",
    "- For example, here are average life expectancies for Canada over 100 years, from the Gapminder data set:\n",
    "\n",
    "~~~python\n",
    "life_exp_1900 = 48.1\n",
    "life_exp_1920 = 56.6\n",
    "life_exp_1940 = 64.0\n",
    "life_exp_1960 = 71.0\n",
    "life_exp_1980 = 75.2\n",
    "life_exp_2000 = 79.2\n",
    "~~~\n",
    "\n",
    "- While you can store the data this way, it requires a lot of variable names. As well, although there is structure in the data (they reflect an ordered sequence of dates), this ordering is not reflected in how the data are stored. \n",
    "- We can use a **list** to store many values together\n",
    "- Lists are defined by one or more items contained within square brackets `[]`, with individual values (*list items*) separated by commas `,`. So this code:\n",
    "\n",
    "~~~python\n",
    "life_exp = [48.1, 56.6, 64.0, 71.0, 75.2, 79.2]\n",
    "print('Life expectancies:', life_exp)\n",
    "~~~\n",
    "\n",
    "Produces this output:\n",
    "~~~result\n",
    "Life expectancies: [48.1, 56.6, 64.0, 71.0, 75.2, 79.2]\n",
    "~~~"
   ]
  },
  {
   "cell_type": "markdown",
   "id": "9b602aab-616e-4b66-919d-f4f5570af243",
   "metadata": {
    "editable": true,
    "slideshow": {
     "slide_type": "slide"
    },
    "tags": []
   },
   "source": [
    "---\n",
    "### Practice Problem:\n",
    "- Create a list with the following values:\n",
    "```python\n",
    "1, 3, 8, 11, 18, 34, 5, 2, 8\n",
    "```\n",
    "- Calculate the following and assign their values to variables.\n",
    "    - Length\n",
    "    - Max value\n",
    "    - Min value\n",
    "- Print off these three values in a single formatted print statement"
   ]
  },
  {
   "cell_type": "code",
   "execution_count": null,
   "id": "6d662bbb-8ce4-4947-af85-1dfefb6ddbac",
   "metadata": {
    "editable": true,
    "slideshow": {
     "slide_type": "slide"
    },
    "tags": []
   },
   "outputs": [],
   "source": [
    "# Your answer here\n"
   ]
  },
  {
   "cell_type": "markdown",
   "id": "a81e5f6c-028d-473f-b970-a6005c8a1fb6",
   "metadata": {
    "editable": true,
    "slideshow": {
     "slide_type": "slide"
    },
    "tags": []
   },
   "source": [
    "## Lists may contain values of different types\n",
    "\n",
    "A single list may contain virtually any Python data type, including integers, floats, strings, and even other lists!.\n",
    "\n",
    "~~~python\n",
    "personal_info = ['First Name', 'Costanza', \n",
    "                'Last Name', 'Raghnall', \n",
    "                'Age', 42, \n",
    "                'Major', 'Science', \n",
    "                'Year', 4,\n",
    "                 'courses', [482, 313]\n",
    "               ]\n",
    "~~~\n",
    "\n",
    "Note in the above that Python allows us to input a list over multiple lines. Jupyter nicely indents the additional lines to help us see that they are continuations of the same list.\n",
    "\n",
    "(*Data generated by [https://www.behindthename.com](https://www.behindthename.com)*)"
   ]
  },
  {
   "cell_type": "markdown",
   "id": "e86a5df5-6c85-404d-a987-583662286b63",
   "metadata": {
    "editable": true,
    "slideshow": {
     "slide_type": "slide"
    },
    "tags": []
   },
   "source": [
    "## Indexing is similar for lists and strings\n",
    "\n",
    "We previously saw how we could get single characters from a character string, using indexes in square brackets:\n",
    "\n",
    "~~~python\n",
    "element = 'carbon'\n",
    "print('zeroth character:', element[0])\n",
    "print('third character:', element[3])\n",
    "~~~"
   ]
  },
  {
   "cell_type": "markdown",
   "id": "5dfe8afc-65b5-4f39-ae9e-e4b1337e55c0",
   "metadata": {
    "editable": true,
    "slideshow": {
     "slide_type": "slide"
    },
    "tags": []
   },
   "source": [
    "---\n",
    "### Practice Problem\n",
    "- Using the list `personal_info` defined below, print the following by slicing the list:  \n",
    "  - 'Raghnall'  \n",
    "  - 'Year'  \n",
    "  - 482"
   ]
  },
  {
   "cell_type": "code",
   "execution_count": null,
   "id": "55bb5dfc-0659-49d8-aad5-a13a19f427de",
   "metadata": {
    "editable": true,
    "slideshow": {
     "slide_type": "slide"
    },
    "tags": []
   },
   "outputs": [],
   "source": [
    "# Your answer here\n",
    "personal_info = ['First Name', 'Costanza', \n",
    "                'Last Name', 'Raghnall', \n",
    "                'Age', 42, \n",
    "                'Major', 'Science', \n",
    "                'Year', 4,\n",
    "                 'Courses', [482, 313]\n",
    "               ]\n"
   ]
  },
  {
   "cell_type": "markdown",
   "id": "dc44bd99-3bbe-4321-84e7-d4d9a7ed3f64",
   "metadata": {
    "editable": true,
    "slideshow": {
     "slide_type": "slide"
    },
    "tags": []
   },
   "source": [
    "---\n",
    "### Practice Problem\n",
    "- Using indexing, replace the information from `personal_info` with your own information."
   ]
  },
  {
   "cell_type": "code",
   "execution_count": null,
   "id": "4270da6e-4813-4a1f-8feb-17b565134de3",
   "metadata": {
    "editable": true,
    "slideshow": {
     "slide_type": "slide"
    },
    "tags": []
   },
   "outputs": [],
   "source": [
    "# Your answer here\n"
   ]
  },
  {
   "cell_type": "markdown",
   "id": "de257908-40f2-4468-a8b0-20ead69581dd",
   "metadata": {
    "editable": true,
    "slideshow": {
     "slide_type": "slide"
    },
    "tags": []
   },
   "source": [
    "---\n",
    "### Practice Problem\n",
    "Using the following list:\n",
    "```python\n",
    "ordered_list = [0, 1, 2, 3, 4, 5, 6, 7, 8, 9, 10]\n",
    "```\n",
    "\n",
    "- print off the values 1 to 6\n",
    "- print off all the odd numbers\n",
    "- print off the last two values"
   ]
  },
  {
   "cell_type": "code",
   "execution_count": null,
   "id": "fdeeb5f6-7ef6-4b20-8b49-79e3dd45c554",
   "metadata": {
    "editable": true,
    "slideshow": {
     "slide_type": "slide"
    },
    "tags": []
   },
   "outputs": [],
   "source": [
    "# Your answer here\n",
    "ordered_list = [0, 1, 2, 3, 4, 5, 6, 7, 8, 9, 10]\n"
   ]
  },
  {
   "cell_type": "markdown",
   "id": "1146fedc-7f3b-4fc4-9b3f-fcae7e475eeb",
   "metadata": {
    "editable": true,
    "slideshow": {
     "slide_type": "slide"
    },
    "tags": []
   },
   "source": [
    "---\n",
    "# Methods\n",
    "*   `.append()` is a list *method*\n",
    "*   Methods are like functions, but tied to a particular type of object. In other words, the fact that there is a list `.append()` method does not mean that we can use `.append()` with other Python objects that aren't lists. \n",
    "*   Use *object_name.method_name()* to call methods.\n",
    "*   We will meet other methods of lists as we go along.\n",
    "*   Use `help(list)` for a preview of the methods available for objects of type `list`    "
   ]
  },
  {
   "cell_type": "markdown",
   "id": "0837c850-b6be-4751-9068-3826492d50d7",
   "metadata": {
    "editable": true,
    "slideshow": {
     "slide_type": "slide"
    },
    "tags": []
   },
   "source": [
    "---\n",
    "### Practice Problem\n",
    "Create a list with the following values\n",
    "```python\n",
    "10, 13, 99, 1, 37\n",
    "```\n",
    "- Append the value `97` to the list\n",
    "- Insert the value `14` after 99\n",
    "- Extend the list to include the following `[10, 14, 1, 22]`\n",
    "- Remove the value `13`\n"
   ]
  },
  {
   "cell_type": "code",
   "execution_count": null,
   "id": "33fa1cf9-3bc6-47b4-abe6-2b439ef5f6b8",
   "metadata": {
    "editable": true,
    "slideshow": {
     "slide_type": "slide"
    },
    "tags": []
   },
   "outputs": [],
   "source": [
    "# your answer here\n",
    "# Create the initial list\n",
    "numbers = [10, 13, 99, 1, 37]\n",
    "\n"
   ]
  },
  {
   "cell_type": "markdown",
   "id": "0454ffa6-3d4c-4e71-b6f7-e7e5ed367fb4",
   "metadata": {
    "editable": true,
    "slideshow": {
     "slide_type": "slide"
    },
    "tags": []
   },
   "source": [
    "--- \n",
    "# Dictionaries\n"
   ]
  },
  {
   "cell_type": "markdown",
   "id": "f7151895-ad81-4eb1-8988-75692a292913",
   "metadata": {
    "editable": true,
    "slideshow": {
     "slide_type": "slide"
    },
    "tags": []
   },
   "source": [
    "## Dictionaries are mappings\n",
    "\n",
    "- Python provides a valuable data type called the **dictionary** (often abbreviated as \"dict\")\n",
    "- Dictionaries are *collections* — Python data types that store multiple values — like lists or strings\n",
    "- However, dictionaries are *mappings*. Like a traditional dictionary that contains a word, followed by a definition, dictionaries are pairings of **keys** and **values**\n",
    "- A dictionary can be defined using curly braces that specify key-value mappings using the colon (`:`)\n",
    "- For example, the following defines a dictionary with six keys (`First Name`, `Last Name`, etc.), each with an associated value:\n",
    "\n",
    "~~~python\n",
    "personal_info = {'First Name': 'Costanza', \n",
    "                'Last Name': 'Raghnall', \n",
    "                'Age': 42, \n",
    "                'Major': 'Science', \n",
    "                'Year': 4,\n",
    "                 'Courses': [482, 313]\n",
    "                }\n",
    "~~~\n"
   ]
  },
  {
   "cell_type": "markdown",
   "id": "247b000a-3b5e-4d3d-9f32-7720f4e6d143",
   "metadata": {
    "editable": true,
    "slideshow": {
     "slide_type": "slide"
    },
    "tags": []
   },
   "source": [
    "- Like lists, dictionaries can contain a mixture of data types. \n",
    "- Dictionary **keys** must be an *immutable* type, such as a string or number (int or float). This is because dictionaries are organized by keys, and once a key is defined, it cannot be changed. \n",
    "- Dictionary **values** can be any type. \n",
    "\n",
    "The values in a dictionary are accessed using their keys inside square brackets:\n",
    "\n",
    "~~~python\n",
    "my_info['First Name']\n",
    "~~~"
   ]
  },
  {
   "cell_type": "markdown",
   "id": "30732c87-8421-466a-b6f9-a9053634a0c8",
   "metadata": {
    "editable": true,
    "slideshow": {
     "slide_type": "slide"
    },
    "tags": []
   },
   "source": [
    "---\n",
    "### Practice problem\n",
    "- Using the dictionary called `personal_info`, modify the values for your own data. Print your result\n",
    "- Remove the entry 'Major' using the `del` statement\n",
    "- Add the entry back\n",
    "- Remove the entry 'Courses' using the `pop` method\n",
    "- Print all the keys of the dictionary\n",
    "- Print all the values of the dictionary\n",
    "- Print both the keys and values"
   ]
  },
  {
   "cell_type": "code",
   "execution_count": null,
   "id": "dea2e8b4-2adb-42bc-b521-f47268ab4c0b",
   "metadata": {
    "editable": true,
    "slideshow": {
     "slide_type": "slide"
    },
    "tags": []
   },
   "outputs": [],
   "source": [
    "# Your answer here\n",
    "# Initial dictionary\n",
    "personal_info = {\n",
    "    'First Name': 'Costanza',\n",
    "    'Last Name': 'Raghnall',\n",
    "    'Age': 42,\n",
    "    'Major': 'Science',\n",
    "    'Year': 4,\n",
    "    'Courses': [482, 313]\n",
    "}\n"
   ]
  },
  {
   "cell_type": "markdown",
   "id": "033abd43-f22e-40d5-ac82-91c242302f88",
   "metadata": {
    "editable": true,
    "slideshow": {
     "slide_type": "slide"
    },
    "tags": []
   },
   "source": [
    "---\n",
    "### Practice problem\n",
    "- Create a nested dictionary that contains the courses you are taking this year as keys\n",
    "- The values for each course should be their own dictionary which contain the following keys:\n",
    "    - Course title\n",
    "    - Course number\n",
    "    - Building\n",
    "    - Day/time (value should be another dictionary with keys 'Day' and 'Time')"
   ]
  },
  {
   "cell_type": "code",
   "execution_count": null,
   "id": "6fa05c49-67a9-4620-9ac0-299785768f0a",
   "metadata": {
    "editable": true,
    "slideshow": {
     "slide_type": "slide"
    },
    "tags": []
   },
   "outputs": [],
   "source": [
    "# Your answer here\n"
   ]
  },
  {
   "cell_type": "markdown",
   "id": "18d6f7bc-3bdf-4936-946b-f3da7acde684",
   "metadata": {
    "editable": true,
    "slideshow": {
     "slide_type": "slide"
    },
    "tags": []
   },
   "source": [
    "---\n",
    "## Summary of Key Points:\n",
    "- Functions are Python commands that return a result\n",
    "- Commonly-used built-in functions include `max`, `min`, and `round`\n",
    "- A function may take zero or more arguments\n",
    "    - Functions may only work for certain (combinations of) arguments\n",
    "    - Functions may have default values for some arguments\n",
    "- Fix syntax errors by reading the source code, and runtime errors by tracing the program's execution\n",
    "- Use the built-in function `help` to get help for a function\n",
    "- The Jupyter Notebook has two other ways to get help\n",
    "    - use a `?` followed by the function name\n",
    "    - position cursor over command name and press the `shift` + `tab` keys\n",
    "- Python reports a syntax error when it can't understand the structure of a program and interpret it (e.g., failing to close round brackets)\n",
    "- Python reports a runtime error when something goes wrong while a program is executing"
   ]
  }
 ],
 "metadata": {
  "kernelspec": {
   "display_name": "Python 3 (ipykernel)",
   "language": "python",
   "name": "python3"
  },
  "language_info": {
   "codemirror_mode": {
    "name": "ipython",
    "version": 3
   },
   "file_extension": ".py",
   "mimetype": "text/x-python",
   "name": "python",
   "nbconvert_exporter": "python",
   "pygments_lexer": "ipython3",
   "version": "3.10.14"
  }
 },
 "nbformat": 4,
 "nbformat_minor": 5
}
