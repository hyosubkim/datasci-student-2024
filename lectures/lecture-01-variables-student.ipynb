{
 "cells": [
  {
   "cell_type": "markdown",
   "id": "4913e166-7113-45e3-bf65-5a048c83b5ad",
   "metadata": {
    "editable": true,
    "slideshow": {
     "slide_type": "slide"
    },
    "tags": []
   },
   "source": [
    "# Variables and data types\n",
    "### Pre-lecture readings:\n",
    "- Variables and Assignment\n",
    "- Data types and conversions\n",
    "### Goals for today\n",
    "1. Review the Jupyter Notebook\n",
    "2. Understand how to create and manipulate variables\n",
    "3. Understand basic data types\n",
    "4. Convert between data types"
   ]
  },
  {
   "cell_type": "markdown",
   "id": "2ada12c5-ab95-46b7-83d5-8c618c1a446c",
   "metadata": {
    "editable": true,
    "slideshow": {
     "slide_type": "slide"
    },
    "tags": []
   },
   "source": [
    "---\n",
    "## Rules for variable naming\n",
    "\n",
    "**Variable names must:**\n",
    "- Start with a letter or the underscore character and cannot start with a number\n",
    "- Contain only alpha-numeric characters and underscores (A-z, 0-9, and _ )\n",
    "- Variable names that start with underscores like `__aarons_real_age` have a special meaning\n",
    "    so we won't do that until we understand the convention.\n",
    "\n",
    "Additionally, variable names are case sensitive (age and AGE are different)\n"
   ]
  },
  {
   "cell_type": "markdown",
   "id": "fa67defb-46f8-4291-9cdd-28c717733f01",
   "metadata": {
    "editable": true,
    "slideshow": {
     "slide_type": "slide"
    },
    "tags": []
   },
   "source": [
    "## Assigning variables\n",
    "- Variables can be thought of as 'containers' that store data\n",
    "- In Python we assign variables with the `=` symbol\n",
    "\n",
    "```python\n",
    "x = 15\n",
    "y = 35\n",
    "name = \"Lisa\"\n",
    "```\n",
    "- Variables can then be used to access that data later\n",
    "```python\n",
    "x_and_y = x + y\n",
    "x_minus_y = x - y\n",
    "```"
   ]
  },
  {
   "cell_type": "markdown",
   "id": "5db4fdbf-f4f7-4251-b23c-c50a22d73eef",
   "metadata": {
    "editable": true,
    "slideshow": {
     "slide_type": "slide"
    },
    "tags": []
   },
   "source": [
    "---\n",
    "### Practice problem 1: print off name and age  \n",
    "- Have python print off a statement that reads:   \"My name is  `name` and I am `age` years old.\"    \n",
    "- Name and age should be created as variables before you print.  \n",
    "- Hint: You will need to use an f-string. \n",
    "\n",
    "Here is an example of how to use an f-string.\n",
    "```python\n",
    "num = 10\n",
    "print(f\"the number is {num}\")\n",
    "```\n"
   ]
  },
  {
   "cell_type": "code",
   "execution_count": null,
   "id": "581a93d9-0f61-46c2-9e8b-5ded6fa02be9",
   "metadata": {
    "slideshow": {
     "slide_type": "slide"
    }
   },
   "outputs": [],
   "source": [
    "# Your answer here\n"
   ]
  },
  {
   "cell_type": "markdown",
   "id": "e3e14c87-b1d8-46ba-beeb-1847910a27e4",
   "metadata": {
    "slideshow": {
     "slide_type": "slide"
    }
   },
   "source": [
    "--- \n",
    "### Practice problem 2: Using input   \n",
    "- Use the input function to ask the user what their name and age is, and store these as variables.\n",
    "- Print off the result in the same format you used in practice problem 1.  \n",
    "\n",
    "The input function can be used as following:\n",
    "```python\n",
    "number = input(\"Choose a number between one and 10\")\n",
    "```"
   ]
  },
  {
   "cell_type": "code",
   "execution_count": null,
   "id": "0ae01e28-8114-453c-a22f-9b1ea159fadb",
   "metadata": {
    "slideshow": {
     "slide_type": "slide"
    }
   },
   "outputs": [],
   "source": [
    "# Your answer here\n"
   ]
  },
  {
   "cell_type": "markdown",
   "id": "8e469ff7-5b8a-4ea9-a3c7-cbb913411b91",
   "metadata": {
    "slideshow": {
     "slide_type": "slide"
    }
   },
   "source": [
    "---\n",
    "# Math with variables\n",
    "An expression is a piece of code that represents a value. If we are dealing with numerical expressions, the algebraic precedence rules from arithmetic apply. A simple mnemonic for those rules is “PEDMAS”, which stands for:\n",
    "\n",
    "- (P)arentheses, then\n",
    "- (E)xponents, then\n",
    "- (D)ivision or (M)ultiplication (both have equal precedence, and so the order is determined left to right), then\n",
    "- (A)ddition or (S)ubtraction (both have equal precedence, and so the order is determined left to right)\n"
   ]
  },
  {
   "cell_type": "markdown",
   "id": "1251b748-c3d5-47e3-8f12-0ba4c9c3510c",
   "metadata": {
    "slideshow": {
     "slide_type": "slide"
    }
   },
   "source": [
    "---\n",
    "### Practice Problem 1: Calculate BMI\n",
    "BMI is calculated as $\\frac{kg}{m^2}$\n",
    "- Create variables for height and mass and assign them values\n",
    "- Using these variables calculate BMI\n"
   ]
  },
  {
   "cell_type": "code",
   "execution_count": null,
   "id": "ac827c18-802e-4609-b8e8-41d36cd830f0",
   "metadata": {
    "slideshow": {
     "slide_type": "slide"
    }
   },
   "outputs": [],
   "source": [
    "# Your answer here\n"
   ]
  },
  {
   "cell_type": "markdown",
   "id": "7c5bdc65-bd94-46ec-a4e5-3be4b8afb3f7",
   "metadata": {
    "slideshow": {
     "slide_type": "slide"
    }
   },
   "source": [
    "---\n",
    "### Practice Problem 2: Calculate velocity\n",
    "Using the following equation, we can calculate the final velocity of an object, given an initial velocity, acceleration, and time.  \n",
    "$$v_{final} = v_0 + at$$ \n",
    "\n",
    "- Ask the user for an initial velocity ($v_0$) and calculate the final velocity given: Print off your results.\n",
    "$$a = 5.6 \\ m/s^2$$\n",
    "$$t = 5 \\;s$$\n"
   ]
  },
  {
   "cell_type": "code",
   "execution_count": null,
   "id": "df46fcb5-9525-4ac0-83b7-de14166c72ce",
   "metadata": {
    "slideshow": {
     "slide_type": "slide"
    }
   },
   "outputs": [],
   "source": [
    "# Your answer here\n"
   ]
  },
  {
   "cell_type": "markdown",
   "id": "4f5aeae1-c233-4bee-96bc-8c0aef6decea",
   "metadata": {
    "slideshow": {
     "slide_type": "slide"
    }
   },
   "source": [
    "---\n",
    "### Practice Problem 3: Calculate change in position\n",
    "Using the following equation, we can calculate the change in position.\n",
    "$$\\Delta x = (\\frac{v_{final} + v_0}{2})t$$\n",
    "Use the variables given in practice problem 2 (including your $v_{final}$ you calculated) to solve for the change in position. Print off your result"
   ]
  },
  {
   "cell_type": "code",
   "execution_count": null,
   "id": "dfc3f5f4-8009-4434-ac89-b34b79d0af83",
   "metadata": {
    "slideshow": {
     "slide_type": "slide"
    }
   },
   "outputs": [],
   "source": [
    "# Your answer here\n"
   ]
  },
  {
   "cell_type": "markdown",
   "id": "14bdb011-e244-4dd4-beb6-a4cffe568727",
   "metadata": {
    "slideshow": {
     "slide_type": "slide"
    }
   },
   "source": [
    "--- \n",
    "### Practice Problem 4:\n",
    "Using the following variables, evaluate each of the functions and output the result:\n",
    "\n",
    "```python\n",
    "x = 1\n",
    "y = 2\n",
    "z = 3\n",
    "```\n",
    "\n",
    "$\\dfrac{(x + 1)^2}{y} - z^y$ (Eqn. 1)  \n",
    "$y - \\dfrac{z/x}{y^2} $ (Eqn. 2)   \n",
    "$y - \\dfrac{y}{2x^2} + \\dfrac{y^2\\cdot{z^2}}{y^3}$ (Eqn. 3)\n"
   ]
  },
  {
   "cell_type": "code",
   "execution_count": null,
   "id": "ccc0610f-d407-404e-81e1-c907e53cba17",
   "metadata": {
    "slideshow": {
     "slide_type": "slide"
    }
   },
   "outputs": [],
   "source": [
    "# Your answer here\n"
   ]
  },
  {
   "cell_type": "markdown",
   "id": "e12b3e11-674b-4035-bc14-74b3bc968a6f",
   "metadata": {
    "slideshow": {
     "slide_type": "slide"
    }
   },
   "source": [
    "---\n",
    "## Variable Types\n",
    "### Practice problem 1:\n",
    "- What type of data is each of the following values?\n",
    "- Each one is either of type `float`, `int`, `str`, or `bool`. Write your answer in Markdown in the cell below. *Make sure to add two spaces after each answer in order to print each new letter on a new line.*    \n",
    "    a) 10.0  \n",
    "    b)'pi'  \n",
    "    c) 17  \n",
    "    d) '3.14'  \n",
    "    e) True  \n",
    "    f) \"False\"  \n",
    "    g) -0.01  \n"
   ]
  },
  {
   "cell_type": "markdown",
   "id": "188863d7-618f-4e18-b34e-b1d777cf8045",
   "metadata": {},
   "source": [
    "**YOUR ANSWER HERE**  \n",
    "a)  \n",
    "b)  \n",
    "c)  \n",
    "d)  \n",
    "e)  \n",
    "f)  \n",
    "g)  "
   ]
  },
  {
   "cell_type": "markdown",
   "id": "ba4e1d7d-40d4-4f14-bd35-6c7ab3dfb27b",
   "metadata": {
    "editable": true,
    "slideshow": {
     "slide_type": "slide"
    },
    "tags": []
   },
   "source": [
    "---\n",
    "# Booleans\n",
    "- In Python, boolean variables can have two values: `True` or `False`\n",
    "- These are case-sensitive\n",
    "\n",
    "Creating boolean variables:\n",
    "```python\n",
    "is_injured = True\n",
    "can_play = False\n",
    "```\n",
    "Boolean operations:\n",
    "- `and`: Returns True if both operands are True\n",
    "- `or`: Returns True if at least one operand is True\n",
    "- `not`: Inverts the boolean value\n",
    "\n",
    "Comparison operators:\n",
    "- `==` (equal to), `!=` (not equal to)\n",
    "- `>` (greater than), `<` (less than)\n",
    "- `>=` (greater than or equal to), `<=` (less than or equal to)\n",
    "\n",
    "```"
   ]
  },
  {
   "cell_type": "markdown",
   "id": "7042c6be-43ac-4e1a-910b-2e08ad3961c1",
   "metadata": {
    "slideshow": {
     "slide_type": "slide"
    }
   },
   "source": [
    "---\n",
    "### Practice Problem 1:\n",
    "- Evaluate the following boolean expressions without running code, then check your answers with code.\n",
    "```python\n",
    "2 > 3 \n",
    "3 == 3.0\n",
    "5.0 == 5.0\n",
    "3.0 != 4.0\n",
    "False or True\n",
    "False and True \n",
    "True and True\n",
    "(4 < 8 and 3 + 1 == 4) or 1 != 2"
   ]
  },
  {
   "cell_type": "markdown",
   "id": "d66c85dc-3d94-4507-ace3-3bdd2a7f0028",
   "metadata": {
    "slideshow": {
     "slide_type": "slide"
    }
   },
   "source": [
    "**YOUR ANSWER HERE**  (without code)\n",
    "\n",
    "\n"
   ]
  },
  {
   "cell_type": "code",
   "execution_count": null,
   "id": "d9a8ec2e-a688-48b4-be6a-33849a2d112a",
   "metadata": {
    "slideshow": {
     "slide_type": "slide"
    }
   },
   "outputs": [],
   "source": [
    "# Check your answers here with code\n"
   ]
  },
  {
   "cell_type": "markdown",
   "id": "e1e1d16a-b10d-4fdc-b2c1-887f132c9d5f",
   "metadata": {
    "slideshow": {
     "slide_type": "slide"
    }
   },
   "source": [
    "--- \n",
    "## Manipulating Strings\n",
    "\n",
    "Creation:\n",
    "- Strings are created using single quotes `'...'` or double quotes `\"...\"`\n",
    "\n",
    "Common String Operations:\n",
    "- Concatenation: Use `+` to join strings\n",
    "- Repetition: Use `*` to repeat strings\n",
    "- Indexing: Access individual characters with `[]`, e.g., `s[0]` for the first character\n",
    "- Slicing: Extract substrings with `[start:end]`, e.g., `s[1:4]`\n"
   ]
  },
  {
   "cell_type": "markdown",
   "id": "30bc7f9a-667e-492a-8e6e-61a6b60f30b4",
   "metadata": {
    "slideshow": {
     "slide_type": "slide"
    }
   },
   "source": [
    "---\n",
    "### Practice problem 1: adding strings\n",
    "- Assign variables for first and last name. Create a new variable that has the form of \"FirstName LastName\". Note  the space between the names."
   ]
  },
  {
   "cell_type": "code",
   "execution_count": null,
   "id": "99e572d5-99c0-4164-bd2c-1079ed8eedad",
   "metadata": {
    "slideshow": {
     "slide_type": "slide"
    }
   },
   "outputs": [],
   "source": [
    "# Your answer here\n"
   ]
  },
  {
   "cell_type": "markdown",
   "id": "61ea6d26-e155-43c3-ab59-3463b7668667",
   "metadata": {
    "slideshow": {
     "slide_type": "slide"
    }
   },
   "source": [
    "---\n",
    "### Practice problem 2: Multiplying string\n",
    "- Print off a word of your choice 10 times. You should only use one print statement."
   ]
  },
  {
   "cell_type": "code",
   "execution_count": null,
   "id": "26526531-3859-4eea-a587-e22334dcded7",
   "metadata": {
    "slideshow": {
     "slide_type": "slide"
    }
   },
   "outputs": [],
   "source": [
    "# Your answer here\n"
   ]
  },
  {
   "cell_type": "markdown",
   "id": "351fc67f-c8aa-40f7-a973-cc1648edf853",
   "metadata": {
    "slideshow": {
     "slide_type": "slide"
    }
   },
   "source": [
    "---\n",
    "### Practice Problem 3: Slicing strings\n",
    "```python\n",
    "greeting = \"Hi, my name is Gregg. How are you?\"\n",
    "```\n",
    "- Slice the variable greeting so that it only include the person's name.\n",
    "- Slice the greeting so it only includes \"How are you?\".\n",
    "- Print the greeting, but replace `Gregg` with your name. Do not modify the variable, use slicing and f-string to accomplish this."
   ]
  },
  {
   "cell_type": "code",
   "execution_count": null,
   "id": "36ca7a3a-dde8-4223-bfc9-365079ebfb29",
   "metadata": {
    "slideshow": {
     "slide_type": "slide"
    }
   },
   "outputs": [],
   "source": [
    "# Your answer here\n",
    "greeting = \"Hi, my name is Gregg. How are you?\"\n"
   ]
  },
  {
   "cell_type": "markdown",
   "id": "dbcbbdbd-4e32-4da1-b124-e6c33087d761",
   "metadata": {
    "slideshow": {
     "slide_type": "slide"
    }
   },
   "source": [
    "--- \n",
    "# Updating variables\n",
    "\n",
    "Variables can be updated by assigning a new value:\n",
    " ```python\n",
    " x = 5\n",
    " x = 10  # x is now 10\n",
    " ```\n",
    "Shorthand operators combine operation and assignment:\n",
    " ```python\n",
    " x += 5  # Equivalent to x = x + 5\n",
    " x *= 2  # Equivalent to x = x * 2\n",
    " ```\n",
    "\n",
    "To increase or decrease by 1:\n",
    " ```python\n",
    " x += 1  # Increment\n",
    " x -= 1  # Decrement\n",
    " ```\n",
    "Update multiple variables at once:\n",
    " ```python\n",
    " x, y = 1, 2\n",
    " x, y = y, x  # Swap values\n",
    "\n",
    "\n"
   ]
  },
  {
   "cell_type": "markdown",
   "id": "cf0cebe3-d1b8-48c8-b850-34a7bc11be1e",
   "metadata": {
    "editable": true,
    "slideshow": {
     "slide_type": "slide"
    },
    "tags": []
   },
   "source": [
    "---\n",
    "### Practice problem 1:\n",
    "Given the following code snippet, what is the value of x, y, and w? Check your answer with code.\n",
    "```python\n",
    "x = 10\n",
    "y = 3 * x\n",
    "x = x + 7\n",
    "w = x + y\n",
    "y = x + w\n",
    "x = 14\n",
    "x + y\n",
    "```"
   ]
  },
  {
   "cell_type": "markdown",
   "id": "26595edc-6823-4b09-833d-2432172af38c",
   "metadata": {
    "editable": true,
    "slideshow": {
     "slide_type": "slide"
    },
    "tags": []
   },
   "source": [
    "**Your answer here:**   \n",
    "x =   \n",
    "y =   \n",
    "w =   "
   ]
  },
  {
   "cell_type": "code",
   "execution_count": null,
   "id": "5f085b6e-c2e6-4231-b088-508602567f15",
   "metadata": {
    "editable": true,
    "slideshow": {
     "slide_type": ""
    },
    "tags": []
   },
   "outputs": [],
   "source": [
    "# Check your answer here\n"
   ]
  },
  {
   "cell_type": "markdown",
   "id": "0bad26a7-1b5e-4839-9f73-faca6461750e",
   "metadata": {
    "slideshow": {
     "slide_type": "slide"
    }
   },
   "source": [
    "---\n",
    "### Practice Problem 2:\n",
    "What is the type of x, y, and z? Check your answer with code.\n",
    "```Python\n",
    "x = 10.0\n",
    "y = 1\n",
    "w = '5'\n",
    "int(w)\n",
    "w = x + 5\n",
    "y = str(y)\n",
    "x = x + 5\n",
    "int(x)\n",
    "```"
   ]
  },
  {
   "cell_type": "markdown",
   "id": "39059a22-f33c-4b94-b9f1-9f4a19f5ad38",
   "metadata": {
    "editable": true,
    "slideshow": {
     "slide_type": "slide"
    },
    "tags": []
   },
   "source": [
    "**Your answer here:**  \n",
    "x =   \n",
    "y =   \n",
    "w =   "
   ]
  },
  {
   "cell_type": "code",
   "execution_count": null,
   "id": "292a384e-c0c8-4b22-820e-71d3994f3f1f",
   "metadata": {},
   "outputs": [],
   "source": [
    "# Check your answer here\n"
   ]
  },
  {
   "cell_type": "markdown",
   "id": "706e4ab9-160a-488b-917d-edb34c316e85",
   "metadata": {
    "slideshow": {
     "slide_type": "slide"
    }
   },
   "source": [
    "# Conclusions\n",
    "Today we learned how to:\n",
    "- Use variables to store values\n",
    "- Use print to display values\n",
    "- Variables persist between cells\n",
    "- Variables must be created before they are used\n",
    "- Variables can be used in calculations\n",
    "- Python is case-sensitive\n",
    "- Variables only change value when something is assigned to them\n"
   ]
  }
 ],
 "metadata": {
  "celltoolbar": "Slideshow",
  "kernelspec": {
   "display_name": "Python 3 (ipykernel)",
   "language": "python",
   "name": "python3"
  },
  "language_info": {
   "codemirror_mode": {
    "name": "ipython",
    "version": 3
   },
   "file_extension": ".py",
   "mimetype": "text/x-python",
   "name": "python",
   "nbconvert_exporter": "python",
   "pygments_lexer": "ipython3",
   "version": "3.10.14"
  }
 },
 "nbformat": 4,
 "nbformat_minor": 5
}
