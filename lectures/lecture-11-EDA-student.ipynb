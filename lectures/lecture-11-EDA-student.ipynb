{
 "cells": [
  {
   "cell_type": "markdown",
   "id": "da46937a-ad01-4e19-a965-31cf2f9ae38b",
   "metadata": {
    "editable": true,
    "slideshow": {
     "slide_type": "slide"
    },
    "tags": []
   },
   "source": [
    "# Exploratory Data Analysis\n",
    "\n",
    "### Pre-readings\n",
    "- Chapter 5\n",
    "\n",
    "### Learning objectives\n",
    "- Today we will be exploring a data set investigating stimulus response compatibility.   \n",
    "- Learn how to use split-apply-combine to average repeated measures data appropriately\n",
    "- Learn how to properly visualize repeated measures data with Seaborn\n",
    "- Understand the difference between within-subjects variability versus between-subjects variability\n",
    "- Understand how conflating these two sources of variance leads to incorrect statistical inferences  \n"
   ]
  },
  {
   "cell_type": "markdown",
   "id": "ddc8a704-96ee-40c4-804f-6bac270127b4",
   "metadata": {
    "editable": true,
    "slideshow": {
     "slide_type": "slide"
    },
    "tags": []
   },
   "source": [
    "## What is stimulus response compatibility\n",
    "- When the stimulus and the response are compatible, reaction times tend to decrease and mistakes tend to decrease. In other words, people respond faster and more accuately. However, when stimuli are incompatible, reaction times increase and mistakes increase, or people are slower and make more mistakes.\n",
    "- The data we are going to look at come from a standard SR-compatibility experiment. Participants performed a task in which they had to press a key in response to a stimulus in two conditions; compatible and incompatible.  \n",
    "- In the compatible (left figure), the stimulus and response were on the same side and in the incompatible (right figure), the stimulus and response were on opposite sides.\n",
    "- We are going to explore the response times for these different conditions, as well as the accuracy."
   ]
  },
  {
   "cell_type": "markdown",
   "id": "78933c59-a9e0-46c4-9789-97984cb3880a",
   "metadata": {
    "editable": true,
    "slideshow": {
     "slide_type": ""
    },
    "tags": []
   },
   "source": [
    "<img src=\"../images/sr.png\" width=600>"
   ]
  },
  {
   "cell_type": "markdown",
   "id": "b856f1c3-2c5a-4b07-96b4-425a8251cb40",
   "metadata": {
    "editable": true,
    "slideshow": {
     "slide_type": "slide"
    },
    "tags": []
   },
   "source": [
    "---\n",
    "### Task 1: Getting our data\n",
    "- import the necessary libraries\n",
    "- load the  data set 'sr_compatibility.csv' and examine it\n",
    "- Determine the structure of the data\n",
    "- Come up with a plan on how you plan to explore this dataset."
   ]
  },
  {
   "cell_type": "code",
   "execution_count": null,
   "id": "3ee085a7-d77f-4ad4-8078-caff37e089d3",
   "metadata": {
    "editable": true,
    "slideshow": {
     "slide_type": "slide"
    },
    "tags": []
   },
   "outputs": [],
   "source": [
    "# your answer here\n"
   ]
  },
  {
   "cell_type": "code",
   "execution_count": null,
   "id": "2b2b50b2-1bb0-47d5-b9cd-9e4d965b5653",
   "metadata": {
    "editable": true,
    "slideshow": {
     "slide_type": "slide"
    },
    "tags": []
   },
   "outputs": [],
   "source": [
    "# your answer here\n"
   ]
  },
  {
   "cell_type": "markdown",
   "id": "682bcc22-9c95-4cfe-a73c-126c7f797eb4",
   "metadata": {
    "editable": true,
    "slideshow": {
     "slide_type": "slide"
    },
    "tags": []
   },
   "source": [
    "### Take a couple of minutes to think about different ways of exploring this data and write them down below."
   ]
  },
  {
   "cell_type": "markdown",
   "id": "d4adeb7c-c53f-41ee-8f07-f91aa809ff0b",
   "metadata": {},
   "source": [
    "Your answer here\n"
   ]
  },
  {
   "cell_type": "markdown",
   "id": "6f7fc8f5-5736-4938-838c-53830db45487",
   "metadata": {
    "editable": true,
    "slideshow": {
     "slide_type": "slide"
    },
    "tags": []
   },
   "source": [
    "---\n",
    "### Task 2: Taking a look at our data more closely\n",
    "- First, let's take a look at our reaction time data as a whole. This is an important first step to understand our data set.\n",
    "- Plot the reaction times for the different conditions to get an idea of the data.\n",
    "- Use at least 3 different plot types to examine the data\n"
   ]
  },
  {
   "cell_type": "code",
   "execution_count": null,
   "id": "12d56754-5186-4f1a-97c2-7174631f92a0",
   "metadata": {
    "editable": true,
    "slideshow": {
     "slide_type": "slide"
    },
    "tags": []
   },
   "outputs": [],
   "source": [
    "# your answer here\n"
   ]
  },
  {
   "cell_type": "markdown",
   "id": "e8125050-3610-4130-8244-b326df1a5771",
   "metadata": {
    "editable": true,
    "slideshow": {
     "slide_type": "slide"
    },
    "tags": []
   },
   "source": [
    "---\n",
    "### Task 3: Summarize our response times\n",
    "- Now that we have seen our data, let's compute some descriptive statistics.\n",
    "- Use the `describe` method to evaluate the characteristics of the data.\n",
    "- Do this for  the whole data set, and also for each participant."
   ]
  },
  {
   "cell_type": "code",
   "execution_count": null,
   "id": "e28afe51-8463-44b7-95db-8840dcd4dc7d",
   "metadata": {
    "editable": true,
    "slideshow": {
     "slide_type": "slide"
    },
    "tags": []
   },
   "outputs": [],
   "source": [
    "# your answer here (whole data set)\n"
   ]
  },
  {
   "cell_type": "code",
   "execution_count": null,
   "id": "b6690efd-3652-476f-9c80-cd48e29ed8ba",
   "metadata": {
    "editable": true,
    "slideshow": {
     "slide_type": "slide"
    },
    "tags": []
   },
   "outputs": [],
   "source": [
    "# your answer here (per participant)\n"
   ]
  },
  {
   "cell_type": "markdown",
   "id": "ed6584a6-f204-42a5-972f-933cf178baba",
   "metadata": {
    "editable": true,
    "slideshow": {
     "slide_type": "slide"
    },
    "tags": []
   },
   "source": [
    "---\n",
    "### Task 4: Plotting each participant\n",
    "- Now let's take a closer look at each participant's data by plotting their response times.\n",
    "- Plot the response time for each participant in a separate subplot."
   ]
  },
  {
   "cell_type": "code",
   "execution_count": null,
   "id": "9f093577-df54-47b7-94a2-00838d3972f2",
   "metadata": {
    "editable": true,
    "slideshow": {
     "slide_type": "slide"
    },
    "tags": []
   },
   "outputs": [],
   "source": [
    "# your answer here\n"
   ]
  },
  {
   "cell_type": "markdown",
   "id": "4d3096ae-65aa-4a11-973b-c4c27dd3f615",
   "metadata": {
    "editable": true,
    "slideshow": {
     "slide_type": "slide"
    },
    "tags": []
   },
   "source": [
    "---\n",
    "# Dealing with repeated measures\n",
    "- When looking at our data we have to consider both the within participant variability as well as the between participant variability.\n",
    "- Therefore, we must first aggregate our data within our participants to examine the effects."
   ]
  },
  {
   "cell_type": "markdown",
   "id": "025fa259-3ce2-4398-8eb7-40ef07d50ff0",
   "metadata": {
    "editable": true,
    "slideshow": {
     "slide_type": "slide"
    },
    "tags": []
   },
   "source": [
    "### Task 5: Comparing confidence interval calculations\n",
    "- Create a point plot with confidence intervals to examine our data (as we did above)\n",
    "- Do this with and without using the `units` keywords and compare the results. Did the mean change? Did the confidence interval?"
   ]
  },
  {
   "cell_type": "code",
   "execution_count": null,
   "id": "13453bb9-2b34-4b56-a56a-2467fac2e672",
   "metadata": {
    "editable": true,
    "slideshow": {
     "slide_type": "slide"
    },
    "tags": []
   },
   "outputs": [],
   "source": [
    "# your answer here\n",
    "\n"
   ]
  },
  {
   "cell_type": "markdown",
   "id": "6b697244-38df-4530-8b52-7a67f06a8b3a",
   "metadata": {
    "editable": true,
    "slideshow": {
     "slide_type": "slide"
    },
    "tags": []
   },
   "source": [
    "### Task 6: Split-apply-combine\n",
    "- Use the split-apply-combine to aggregate the data yourselves.\n",
    "- First create a summary table for your aggregated data\n",
    "- Then create a new dataframe that only contains the participant averages and not every trial\n"
   ]
  },
  {
   "cell_type": "code",
   "execution_count": null,
   "id": "c9ff05dc-33f9-4a43-88b2-ef77b4bdd0bf",
   "metadata": {
    "editable": true,
    "slideshow": {
     "slide_type": "slide"
    },
    "tags": []
   },
   "outputs": [],
   "source": [
    "# Your answer here\n"
   ]
  },
  {
   "cell_type": "code",
   "execution_count": null,
   "id": "0826f2fa-7f20-47d3-b9eb-68c438167bea",
   "metadata": {
    "editable": true,
    "slideshow": {
     "slide_type": "slide"
    },
    "tags": []
   },
   "outputs": [],
   "source": [
    "# your answer here\n"
   ]
  },
  {
   "cell_type": "markdown",
   "id": "14c2ca31-f7d5-4d53-8bc1-54f20da2b068",
   "metadata": {
    "editable": true,
    "slideshow": {
     "slide_type": "slide"
    },
    "tags": []
   },
   "source": [
    "---\n",
    "### Task 7: Looking at the interaction\n",
    "- We have been plotting our data by condition previously, but now we will look at it more carefully. The SR compatibility experiment effect manifests as an interaction effect, so now we will plot that effect.\n",
    "- An interaction means that the impact of one independent variable (e.g., response side) on the outcome (dependent) variable (i.e., `ResponseTime`) depends on the level of another independent variable (e.g., stimulus side). (Check out [this page](https://statisticsbyjim.com/regression/interaction-effects/) for a description of a very funny but real interaction effect between food and condiment.) \n",
    "- Essentially, the response side reaction times depends on the side the stimulus was presented on (and vice versa).\n",
    "- Produce a figure that demonstrates this interaction effect."
   ]
  },
  {
   "cell_type": "code",
   "execution_count": null,
   "id": "a818c51f-c53f-4d3a-b623-b5f4b8f85656",
   "metadata": {
    "editable": true,
    "slideshow": {
     "slide_type": "slide"
    },
    "tags": []
   },
   "outputs": [],
   "source": [
    "# Your answer here\n"
   ]
  },
  {
   "cell_type": "markdown",
   "id": "4fe84a3b-b528-4f36-b9bc-3174a8ab805b",
   "metadata": {
    "editable": true,
    "slideshow": {
     "slide_type": "slide"
    },
    "tags": []
   },
   "source": [
    "---\n",
    "# Dealing with outliers\n",
    "\n",
    "### Tukey's Method\n",
    "- Outliers are defined as points that are more than $1.5 \\times IQR$ above/below the third/first quartile.\n",
    "\n"
   ]
  },
  {
   "cell_type": "markdown",
   "id": "c0fce5b4-5711-4b12-b5fa-217277e0d754",
   "metadata": {
    "editable": true,
    "slideshow": {
     "slide_type": "slide"
    },
    "tags": []
   },
   "source": [
    "\n",
    "**Step 1:**\n",
    "- Calculate your quartiles and the upper and lower thresholds for an outlier."
   ]
  },
  {
   "cell_type": "code",
   "execution_count": null,
   "id": "3c32a075-50ff-427f-9bdb-3a9cf9eafde1",
   "metadata": {
    "editable": true,
    "slideshow": {
     "slide_type": "slide"
    },
    "tags": []
   },
   "outputs": [],
   "source": [
    "# Your answer here\n"
   ]
  },
  {
   "cell_type": "markdown",
   "id": "f2249ab6-ee2c-48eb-a73c-45569729fd20",
   "metadata": {
    "editable": true,
    "slideshow": {
     "slide_type": "slide"
    },
    "tags": []
   },
   "source": [
    "**Step 2:**\n",
    "- Identify all the data points that are above or below this threshold."
   ]
  },
  {
   "cell_type": "code",
   "execution_count": null,
   "id": "31cada6a-04ef-4f8c-97fe-47c6064a8e4c",
   "metadata": {
    "editable": true,
    "slideshow": {
     "slide_type": "slide"
    },
    "tags": []
   },
   "outputs": [],
   "source": [
    "# Your answer here\n"
   ]
  },
  {
   "cell_type": "markdown",
   "id": "153ba9a1-1508-4d4b-8caf-d256f19148fa",
   "metadata": {
    "editable": true,
    "slideshow": {
     "slide_type": "slide"
    },
    "tags": []
   },
   "source": [
    "**Step 3:**\n",
    "- Create a new dataframe that has the outliers you identified in step 2 removed."
   ]
  },
  {
   "cell_type": "code",
   "execution_count": null,
   "id": "9329d113-7706-47c3-aec9-7b5d0cc2f360",
   "metadata": {
    "editable": true,
    "slideshow": {
     "slide_type": "slide"
    },
    "tags": []
   },
   "outputs": [],
   "source": [
    "# Your answer here\n"
   ]
  },
  {
   "cell_type": "markdown",
   "id": "8504c3ac-1aa5-465d-b719-8974931af91e",
   "metadata": {
    "editable": true,
    "slideshow": {
     "slide_type": "slide"
    },
    "tags": []
   },
   "source": [
    "**Step 4:**\n",
    "- Regenerate the figure in task 7 with this new dataframe"
   ]
  },
  {
   "cell_type": "code",
   "execution_count": null,
   "id": "069b8c61-e936-4a1f-904f-f5eab6c783f8",
   "metadata": {
    "editable": true,
    "slideshow": {
     "slide_type": "slide"
    },
    "tags": []
   },
   "outputs": [],
   "source": [
    "# Your answer here\n"
   ]
  },
  {
   "cell_type": "markdown",
   "id": "7675f55d-2231-4fca-8ea3-cbec0f788a04",
   "metadata": {
    "editable": true,
    "slideshow": {
     "slide_type": "slide"
    },
    "tags": []
   },
   "source": [
    "---\n",
    "# Looking at accuracy\n",
    "- Follow the same logic we used for the response time data and explore the accuracy results.\n",
    "- This data is binary (1 or 0), not continuous like the response time data, so you may have to take a slightly different approach."
   ]
  },
  {
   "cell_type": "code",
   "execution_count": null,
   "id": "3312194d-74b7-4eb8-8eb3-a437b168d3ca",
   "metadata": {
    "editable": true,
    "slideshow": {
     "slide_type": "slide"
    },
    "tags": []
   },
   "outputs": [],
   "source": [
    "# your answer here\n"
   ]
  },
  {
   "cell_type": "code",
   "execution_count": null,
   "id": "a8081f2f-b316-4da9-aa34-9a29401153d2",
   "metadata": {
    "editable": true,
    "slideshow": {
     "slide_type": "slide"
    },
    "tags": []
   },
   "outputs": [],
   "source": [
    "# your answer here\n"
   ]
  },
  {
   "cell_type": "markdown",
   "id": "9f672a1d-0f67-4511-af7b-d69cb5c0d440",
   "metadata": {},
   "source": [
    "### Continue your analyses of accuracy following the same steps we used for response times"
   ]
  }
 ],
 "metadata": {
  "kernelspec": {
   "display_name": "Python 3 (ipykernel)",
   "language": "python",
   "name": "python3"
  },
  "language_info": {
   "codemirror_mode": {
    "name": "ipython",
    "version": 3
   },
   "file_extension": ".py",
   "mimetype": "text/x-python",
   "name": "python",
   "nbconvert_exporter": "python",
   "pygments_lexer": "ipython3",
   "version": "3.10.14"
  }
 },
 "nbformat": 4,
 "nbformat_minor": 5
}
