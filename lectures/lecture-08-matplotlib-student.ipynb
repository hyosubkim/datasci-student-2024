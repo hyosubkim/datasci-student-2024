{
 "cells": [
  {
   "cell_type": "markdown",
   "id": "a7c2cf3b-613f-4436-ad50-ef12bdc8c80a",
   "metadata": {
    "editable": true,
    "slideshow": {
     "slide_type": "slide"
    },
    "tags": []
   },
   "source": [
    "# Lecture 8 - matplotlib\n",
    "\n",
    "### Pre-readings\n",
    "- Chapter 4\n",
    "\n",
    "### Learning Objectives\n",
    "- Create a time series plot showing a single data set\n",
    "- Create a scatter plot showing relationship between two data sets\n",
    "- Use methods to plot directly from pandas DataFrames\n",
    "- Customize basic features of a plot, such as axis labels, titles, colours, and line styles\n",
    "---"
   ]
  },
  {
   "cell_type": "markdown",
   "id": "fce790f9-92b3-43a8-8498-770377af4e14",
   "metadata": {
    "editable": true,
    "slideshow": {
     "slide_type": "slide"
    },
    "tags": []
   },
   "source": [
    "## Object oriented vs procedural plotting\n",
    "Both can be used to achieve the same thing, but are fundamentally different. In essence, procedural progamming will focus on calling functions while object oriented will use methods. Functions would be called by name and would take in  data (parameters) and return data (outputs), with the function defining the operations that should be done on that data. Methods on the other hand, may also take in and return data, but the object that the method belongs to would be implicitly passed as an input.\n",
    "\n",
    "We have used both functions and methods previously, you may have not been aware of the differences. Let's look at an example we already know:\n",
    "\n",
    "**Calculating a mean with numpy and pandas**\n",
    "- We have commonly used the mean function from the `numpy` library. This is a function as we call it as `output = np.mean(input)`. Note how this function takes some input and returns the output.\n",
    "- Now lets compare this with the `pandas` library. Suppose we have some dataframe called `df`, which for simpliclity only contains one column. If we wanted to calculated the mean of `df` we can just call `df.mean()` without expliclity inputting the data. This is a method, because the data from `df` is implicilty passed into the function. More specifcially, this is because the `pandas` method `mean()` is a method that is associated with the object `df`.\n",
    "\n",
    "**Matplotlib**\n",
    "- In matplotlib we can create figures using either and object oriented (method) or a procedural (function) based approach. It is important to be comfortable with both ways to plot data, as you will see both used commonly."
   ]
  },
  {
   "cell_type": "markdown",
   "id": "90c61899-002f-4d66-9901-6becfd4a9aba",
   "metadata": {
    "editable": true,
    "slideshow": {
     "slide_type": "slide"
    },
    "tags": []
   },
   "source": [
    "### Anatomy of a figure\n",
    "\n",
    "The code below is taken straight from [Matplotlib's documentation](https://matplotlib.org/stable/gallery/showcase/anatomy.html). It's provided here so you have a reference to all of the different parts of a Matplotlib figure. For now, just focus primarily on the methods and functions we talk about in the textbook and lecture notebooks, but understand that later you may want to control other details of your figures. \n",
    "\n",
    "- What is a figure and what are the elements of a figure?"
   ]
  },
  {
   "cell_type": "code",
   "execution_count": null,
   "id": "59585c82-4ef5-40c2-bdb5-d58db20c8bd8",
   "metadata": {
    "editable": true,
    "slideshow": {
     "slide_type": "slide"
    },
    "tags": []
   },
   "outputs": [],
   "source": [
    "import numpy as np\n",
    "import matplotlib.pyplot as plt\n",
    "from matplotlib.ticker import AutoMinorLocator, MultipleLocator, FuncFormatter\n",
    "%config InlineBackend.figure_format='retina'\n",
    "\n",
    "np.random.seed(19680801)\n",
    "\n",
    "X = np.linspace(0.5, 3.5, 100)\n",
    "Y1 = 3+np.cos(X)\n",
    "Y2 = 1+np.cos(1+X/0.75)/2\n",
    "Y3 = np.random.uniform(Y1, Y2, len(X))\n",
    "\n",
    "fig = plt.figure(figsize=(8, 8))\n",
    "ax = fig.add_subplot(1, 1, 1, aspect=1)\n",
    "\n",
    "\n",
    "def minor_tick(x, pos):\n",
    "    if not x % 1.0:\n",
    "        return \"\"\n",
    "    return \"%.2f\" % x\n",
    "\n",
    "ax.xaxis.set_major_locator(MultipleLocator(1.000))\n",
    "ax.xaxis.set_minor_locator(AutoMinorLocator(4))\n",
    "ax.yaxis.set_major_locator(MultipleLocator(1.000))\n",
    "ax.yaxis.set_minor_locator(AutoMinorLocator(4))\n",
    "ax.xaxis.set_minor_formatter(FuncFormatter(minor_tick))\n",
    "\n",
    "ax.set_xlim(0, 4)\n",
    "ax.set_ylim(0, 4)\n",
    "\n",
    "ax.tick_params(which='major', width=1.0)\n",
    "ax.tick_params(which='major', length=10)\n",
    "ax.tick_params(which='minor', width=1.0, labelsize=10)\n",
    "ax.tick_params(which='minor', length=5, labelsize=10, labelcolor='0.25')\n",
    "\n",
    "ax.grid(linestyle=\"--\", linewidth=0.5, color='.25', zorder=-10)\n",
    "\n",
    "ax.plot(X, Y1, c=(0.25, 0.25, 1.00), lw=2, label=\"Blue signal\", zorder=10)\n",
    "ax.plot(X, Y2, c=(1.00, 0.25, 0.25), lw=2, label=\"Red signal\")\n",
    "ax.plot(X, Y3, linewidth=0,\n",
    "        marker='o', markerfacecolor='w', markeredgecolor='k')\n",
    "\n",
    "ax.set_title(\"Anatomy of a figure\", fontsize=20, verticalalignment='bottom')\n",
    "ax.set_xlabel(\"X axis label\")\n",
    "ax.set_ylabel(\"Y axis label\")\n",
    "\n",
    "ax.legend(loc='upper right')\n",
    "\n",
    "\n",
    "def circle(x, y, radius=0.15):\n",
    "    from matplotlib.patches import Circle\n",
    "    from matplotlib.patheffects import withStroke\n",
    "    circle = Circle((x, y), radius, clip_on=False, zorder=10, linewidth=1,\n",
    "                    edgecolor='black', facecolor=(0, 0, 0, .0125),\n",
    "                    path_effects=[withStroke(linewidth=5, foreground='w')])\n",
    "    ax.add_artist(circle)\n",
    "\n",
    "\n",
    "def text(x, y, text):\n",
    "    ax.text(x, y, text, backgroundcolor=\"white\",\n",
    "            ha='center', va='top', weight='bold', color='blue')\n",
    "\n",
    "\n",
    "# Minor tick\n",
    "circle(0.50, -0.10)\n",
    "text(0.50, -0.32, \"Minor tick label\")\n",
    "\n",
    "# Major tick\n",
    "circle(-0.03, 4.00)\n",
    "text(0.03, 3.80, \"Major tick\")\n",
    "\n",
    "# Minor tick\n",
    "circle(0.00, 3.50)\n",
    "text(0.00, 3.30, \"Minor tick\")\n",
    "\n",
    "# Major tick label\n",
    "circle(-0.15, 3.00)\n",
    "text(-0.15, 2.80, \"Major tick label\")\n",
    "\n",
    "# X Label\n",
    "circle(1.80, -0.27)\n",
    "text(1.80, -0.45, \"X axis label\")\n",
    "\n",
    "# Y Label\n",
    "circle(-0.27, 1.80)\n",
    "text(-0.27, 1.6, \"Y axis label\")\n",
    "\n",
    "# Title\n",
    "circle(1.60, 4.13)\n",
    "text(1.60, 3.93, \"Title\")\n",
    "\n",
    "# Blue plot\n",
    "circle(1.75, 2.80)\n",
    "text(1.75, 2.60, \"Line\\n(line plot)\")\n",
    "\n",
    "# Red plot\n",
    "circle(1.20, 0.60)\n",
    "text(1.20, 0.40, \"Line\\n(line plot)\")\n",
    "\n",
    "# Scatter plot\n",
    "circle(3.20, 1.75)\n",
    "text(3.20, 1.55, \"Markers\\n(scatter plot)\")\n",
    "\n",
    "# Grid\n",
    "circle(3.00, 3.00)\n",
    "text(3.00, 2.80, \"Grid\")\n",
    "\n",
    "# Legend\n",
    "circle(3.70, 3.80)\n",
    "text(3.70, 3.60, \"Legend\")\n",
    "\n",
    "# Axes\n",
    "circle(0.5, 0.5)\n",
    "text(0.5, 0.3, \"Axes\")\n",
    "\n",
    "# Figure\n",
    "circle(-0.3, 0.65)\n",
    "text(-0.3, 0.45, \"Figure\")\n",
    "\n",
    "color = 'blue'\n",
    "ax.annotate('Spines', xy=(4.0, 0.35), xytext=(3.3, 0.5),\n",
    "            weight='bold', color=color,\n",
    "            arrowprops=dict(arrowstyle='->',\n",
    "                            connectionstyle=\"arc3\",\n",
    "                            color=color))\n",
    "\n",
    "ax.annotate('', xy=(3.15, 0.0), xytext=(3.45, 0.45),\n",
    "            weight='bold', color=color,\n",
    "            arrowprops=dict(arrowstyle='->',\n",
    "                            connectionstyle=\"arc3\",\n",
    "                            color=color))\n",
    "\n",
    "ax.text(4.0, -0.4, \"Made with http://matplotlib.org\",\n",
    "        fontsize=10, ha=\"right\", color='.5')\n",
    "\n",
    "plt.show()\n",
    "\n"
   ]
  },
  {
   "cell_type": "markdown",
   "id": "dd0959f7-056d-43b9-a266-1de9e065fad6",
   "metadata": {
    "editable": true,
    "slideshow": {
     "slide_type": "slide"
    },
    "tags": []
   },
   "source": [
    "---\n",
    "## Practice making simple figures\n",
    "### Practice Problem\n",
    "- Using a procedural plotting framework, plot the sinewave stored in y against x.\n",
    "- Add appropriate x and y labels, as well as a title."
   ]
  },
  {
   "cell_type": "code",
   "execution_count": null,
   "id": "67d91a30-ff96-4b1a-9337-a3c540df8c25",
   "metadata": {
    "editable": true,
    "slideshow": {
     "slide_type": "slide"
    },
    "tags": []
   },
   "outputs": [],
   "source": [
    "# imports\n",
    "import numpy as np\n",
    "import matplotlib.pyplot as plt\n",
    "import pandas as pd"
   ]
  },
  {
   "cell_type": "code",
   "execution_count": null,
   "id": "c03c32b9-4829-4940-b8a2-703b30e47ed6",
   "metadata": {
    "editable": true,
    "slideshow": {
     "slide_type": ""
    },
    "tags": []
   },
   "outputs": [],
   "source": [
    "# starter code\n",
    "x = np.linspace(0, 4*np.pi, 2000)\n",
    "y = np.sin(x)\n",
    "\n",
    "# your answer here\n"
   ]
  },
  {
   "cell_type": "markdown",
   "id": "7c6b8fea-ff76-4ebd-92b0-6d71b5fa5a0a",
   "metadata": {
    "editable": true,
    "slideshow": {
     "slide_type": "slide"
    },
    "tags": []
   },
   "source": [
    "---\n",
    "### Practice Problem\n",
    "- Repeat the same figure in an object oriented framework"
   ]
  },
  {
   "cell_type": "code",
   "execution_count": null,
   "id": "6e831ea4-8035-473b-b99e-09010e78c4f5",
   "metadata": {
    "editable": true,
    "slideshow": {
     "slide_type": "slide"
    },
    "tags": []
   },
   "outputs": [],
   "source": [
    "# your answer here\n"
   ]
  },
  {
   "cell_type": "markdown",
   "id": "519ac40c-9476-40b7-8dc1-742d302c6432",
   "metadata": {
    "editable": true,
    "slideshow": {
     "slide_type": "slide"
    },
    "tags": []
   },
   "source": [
    "---\n",
    "### Practice Problem\n",
    "- Given the three sine waves, y1, y2, y3, plot them all on the same plot.\n",
    "- Use an object oriented approach"
   ]
  },
  {
   "cell_type": "code",
   "execution_count": null,
   "id": "4499c646-29fe-485a-bf3a-7a46c509ce9f",
   "metadata": {
    "editable": true,
    "slideshow": {
     "slide_type": "slide"
    },
    "tags": []
   },
   "outputs": [],
   "source": [
    "# starter code\n",
    "x = np.linspace(0, 4*np.pi, 2000)\n",
    "y1 = np.sin(x)\n",
    "y2 = np.sin(x)*1.5\n",
    "y3 = np.sin(x)*2\n",
    "\n",
    "# your answer here\n"
   ]
  },
  {
   "cell_type": "markdown",
   "id": "45f5e6fb-cd43-4af5-b35a-dc7754c5eb95",
   "metadata": {
    "editable": true,
    "slideshow": {
     "slide_type": "slide"
    },
    "tags": []
   },
   "source": [
    "---\n",
    "### Practice Problem\n",
    "- Plot the three sine waves above on separate subplots.\n",
    "- Create a subplot that contains each sine wave in a different row\n",
    "- On a separate figure, create a subplot that contains each sine wave in a different column"
   ]
  },
  {
   "cell_type": "code",
   "execution_count": null,
   "id": "4c36eb1b-2855-4116-9c26-c6af1edc0198",
   "metadata": {
    "editable": true,
    "slideshow": {
     "slide_type": "slide"
    },
    "tags": []
   },
   "outputs": [],
   "source": [
    "# your answer here\n",
    "# Plot 1: Three sine waves in different rows\n"
   ]
  },
  {
   "cell_type": "code",
   "execution_count": null,
   "id": "5c69404e-7306-4423-943b-115a9272c37d",
   "metadata": {
    "editable": true,
    "slideshow": {
     "slide_type": "slide"
    },
    "tags": []
   },
   "outputs": [],
   "source": [
    "# your answer here\n",
    "# Plot 2: Three sine waves in different columns\n"
   ]
  },
  {
   "cell_type": "markdown",
   "id": "93f59013-c13d-4b5f-b6f5-d9d6c146f6fd",
   "metadata": {
    "editable": true,
    "slideshow": {
     "slide_type": "slide"
    },
    "tags": []
   },
   "source": [
    "---\n",
    "## Analyze and plot some data\n",
    "\n",
    "Our imaginary colleague “Dr. Maverick” has invented a new miracle drug that promises to cure arthritis inflammation flare-ups after only 3 weeks since initially taking the medication! Naturally, we wish to see the clinical trial data, and so they have provided us with a CSV spreadsheet containing the clinical trial data.\n",
    "\n",
    "The CSV file contains the number of inflammation flare-ups per day for the 60 patients in the initial clinical trial, with the trial lasting 40 days. Each row corresponds to a patient, and each column corresponds to a day in the trial (i.e., wide-form data). Once a patient has their first inflammation flare-up they take the medication and wait a few weeks for it to take effect and reduce flare-ups.\n",
    "\n",
    "To see how effective the treatment is we would like to:\n",
    "\n",
    "- Calculate the average inflammation per day across all patients.\n",
    "- Plot the result to discuss and share with colleagues.\n"
   ]
  },
  {
   "cell_type": "markdown",
   "id": "8476c840-3b96-4ce3-9653-9227c4be6f55",
   "metadata": {
    "editable": true,
    "slideshow": {
     "slide_type": "slide"
    },
    "tags": []
   },
   "source": [
    "---\n",
    "### Task 1:\n",
    "Using NumPy, import the CSV file named \"inflammation-01.csv\" and enter the correct value for the \"delimiter\" keyword argument (kwarg). Make sure your array has shape 60x40 (see: https://numpy.org/doc/stable/reference/generated/numpy.ndarray.shape.html). \n",
    "\n",
    "**Of course, you could read in the data first with `pandas`, but we want to at least see how NumPy could be used to read in data as well.**"
   ]
  },
  {
   "cell_type": "code",
   "execution_count": null,
   "id": "0052660c-5d7c-4282-b1d1-7340b6f8e976",
   "metadata": {
    "editable": true,
    "slideshow": {
     "slide_type": "slide"
    },
    "tags": []
   },
   "outputs": [],
   "source": [
    "# your answer here\n",
    "\n"
   ]
  },
  {
   "cell_type": "markdown",
   "id": "da473a2f-5d72-4519-8254-c85111feb6e0",
   "metadata": {
    "editable": true,
    "slideshow": {
     "slide_type": "slide"
    },
    "tags": []
   },
   "source": [
    "---\n",
    "### Task 2: Create a `subjects` variable containing each subject's ID\n",
    "\n",
    "Create a varaiable called `subjects` that holds a unique subject ID for each subject (i.e., \"s01, s02,...,s60\"), which you will use as indices for a data frame you will create in later steps. Note that each ID should be 3 characters in length. **Do this in one line by combining a list comprehension with a conditional.** The syntax for this is: \"do something if some-condition else do something-else...\" followed by the remaining list comprehension syntax you are already familiar with.  "
   ]
  },
  {
   "cell_type": "code",
   "execution_count": null,
   "id": "2d06b7de-87c9-4d64-ba12-448b894a0bb3",
   "metadata": {
    "editable": true,
    "slideshow": {
     "slide_type": "slide"
    },
    "tags": []
   },
   "outputs": [],
   "source": [
    "# your answer here\n"
   ]
  },
  {
   "cell_type": "markdown",
   "id": "38cc2573-847d-40da-bbcd-dde58124158f",
   "metadata": {
    "editable": true,
    "slideshow": {
     "slide_type": "slide"
    },
    "tags": []
   },
   "source": [
    "---\n",
    "### Task 3: Create a DataFrame containing the inflammation data and use `subjects` as the index. \n",
    "\n",
    "Also, display the first several lines of your DataFrame to make sure the `subjects` variable serves as the index column. "
   ]
  },
  {
   "cell_type": "code",
   "execution_count": null,
   "id": "dbc711e5-b276-434f-a8dd-9b16959bdaae",
   "metadata": {
    "editable": true,
    "slideshow": {
     "slide_type": "slide"
    },
    "tags": []
   },
   "outputs": [],
   "source": [
    "# your answer here\n"
   ]
  },
  {
   "cell_type": "markdown",
   "id": "e3856c07-5f89-4377-bf1d-813b637f1591",
   "metadata": {
    "editable": true,
    "slideshow": {
     "slide_type": "slide"
    },
    "tags": []
   },
   "source": [
    "---\n",
    "### Task 4: Plot the average inflammation for each day. \n",
    "We want to see how the average inflammation across subjects changes on a day-to-day basis. Take this step-by-step: First, assign these values to a variable `avg_inflammation`; second, use matplotlib to plot `avg_inflammation`."
   ]
  },
  {
   "cell_type": "code",
   "execution_count": null,
   "id": "ef03443f-6f71-4ef4-991e-3965c5d12131",
   "metadata": {
    "editable": true,
    "slideshow": {
     "slide_type": "slide"
    },
    "tags": []
   },
   "outputs": [],
   "source": [
    "# your answer here\n"
   ]
  },
  {
   "cell_type": "markdown",
   "id": "c5c2e1fd-4c9d-4286-9ad7-e038e9ba0535",
   "metadata": {
    "editable": true,
    "slideshow": {
     "slide_type": "slide"
    },
    "tags": []
   },
   "source": [
    "---\n",
    "### Task 5: Plot the max inflammation for each day.\n",
    "\n",
    "The result above should have been a reasonably linear rise and fall, in line with Dr. Maverick’s claim that the medication takes 3 weeks to take effect. But a good data scientist doesn’t just consider the average of a dataset, so let’s have a look at two other statistics, the max and min of the data. "
   ]
  },
  {
   "cell_type": "code",
   "execution_count": null,
   "id": "09dcf1a7-2940-44ee-a955-fd11c66bc7eb",
   "metadata": {
    "editable": true,
    "slideshow": {
     "slide_type": "slide"
    },
    "tags": []
   },
   "outputs": [],
   "source": [
    "# your answer here\n"
   ]
  },
  {
   "cell_type": "markdown",
   "id": "1aeff773-ecaf-4d98-aba1-3787d0feddfd",
   "metadata": {
    "editable": true,
    "slideshow": {
     "slide_type": "slide"
    },
    "tags": []
   },
   "source": [
    "### Task 6: Plot the min of the data. "
   ]
  },
  {
   "cell_type": "code",
   "execution_count": null,
   "id": "8a876237-a81b-4154-b00a-f411a567593a",
   "metadata": {
    "editable": true,
    "slideshow": {
     "slide_type": "slide"
    },
    "tags": []
   },
   "outputs": [],
   "source": [
    "# your answer here\n"
   ]
  },
  {
   "cell_type": "markdown",
   "id": "2938372c-9976-4100-a487-b6007a4fd709",
   "metadata": {
    "editable": true,
    "slideshow": {
     "slide_type": "slide"
    },
    "tags": []
   },
   "source": [
    "---\n",
    "### Task 7: Plotting with subplots\n",
    "\n",
    "Since these plots are similar and can be thought of as all part of the same analysis, let's plot them in a single figure using subplots. First, create a single row of three figure panels (i.e., subplots). Specify a sensible figure size, too, but don't worry if it seems off - you can always go back and change it.\n",
    "\n",
    "Now, in the first set of axes, plot the average. In the second, plot the max, and in the third, plot the min."
   ]
  },
  {
   "cell_type": "code",
   "execution_count": null,
   "id": "2d0c0c84-02e8-4f09-8b50-65e21992fe29",
   "metadata": {
    "editable": true,
    "slideshow": {
     "slide_type": "slide"
    },
    "tags": []
   },
   "outputs": [],
   "source": [
    "# your answer here\n"
   ]
  },
  {
   "cell_type": "markdown",
   "id": "319153a0-e155-443b-8664-3a9e21e6478e",
   "metadata": {
    "editable": true,
    "slideshow": {
     "slide_type": "slide"
    },
    "tags": []
   },
   "source": [
    "### Task 8: Customize the plots\n",
    "- You should see the same figures you plotted earlier, but now all in one nice row. Now copy your code into the cell below and add appropriate `x` and `y` axis labels.\n",
    "- After you add sensible axis labels, add a good figure title. And, as a last step, make sure the y-axis labels aren't smooshed up against the neighboring subplot.\n",
    "- One last thing, add a fourth subplot to show the standard deviation across days. Of course, you'll want to label its axes and make sure everything looks nice, just like you did for the first three panels. "
   ]
  },
  {
   "cell_type": "code",
   "execution_count": null,
   "id": "75af8051-0963-4dc2-9483-e2f9b8ec497e",
   "metadata": {
    "editable": true,
    "slideshow": {
     "slide_type": "slide"
    },
    "tags": []
   },
   "outputs": [],
   "source": [
    "# your answer here\n"
   ]
  },
  {
   "cell_type": "markdown",
   "id": "4c0bc6fe-3901-49c7-8844-bb333931eb2d",
   "metadata": {
    "editable": true,
    "slideshow": {
     "slide_type": "slide"
    },
    "tags": []
   },
   "source": [
    "---\n",
    "### Task 9: Using the `label` parameter to easily create legends\n",
    "\n",
    "Let's say you wanted to plot both max and min in the same figure. A nice way to do that would be to use different colors for each, and also to label them appropriately. Go ahead and do that, and remember to continue using object-oriented plotting as opposed to procedural. "
   ]
  },
  {
   "cell_type": "code",
   "execution_count": null,
   "id": "d33ea141-41f9-45da-ab5e-5b15f4c7748c",
   "metadata": {
    "editable": true,
    "slideshow": {
     "slide_type": "slide"
    },
    "tags": []
   },
   "outputs": [],
   "source": [
    "# your answer here\n"
   ]
  },
  {
   "cell_type": "markdown",
   "id": "9b0327cc-5bfc-403e-9060-e24470bedec3",
   "metadata": {
    "editable": true,
    "slideshow": {
     "slide_type": "slide"
    },
    "tags": []
   },
   "source": [
    "### Task 10:\n",
    "Now add the average inflammation to the figure, making sure to include it in your legend as well. \n",
    "\n",
    "Personally, I prefer not having Matplotlib's default frame around the legend. Look at Matplotlib's API docs to see how you can get rid of it and test it out. "
   ]
  },
  {
   "cell_type": "code",
   "execution_count": null,
   "id": "70bfef9b-3184-4902-9a79-a28a3968ddf9",
   "metadata": {
    "editable": true,
    "slideshow": {
     "slide_type": "slide"
    },
    "tags": []
   },
   "outputs": [],
   "source": [
    "# your answer here\n"
   ]
  },
  {
   "cell_type": "markdown",
   "id": "6fab65cb-b4d0-4a1e-a48b-63c0df678158",
   "metadata": {
    "editable": true,
    "slideshow": {
     "slide_type": "slide"
    },
    "tags": []
   },
   "source": [
    "---\n",
    "## Fancy heatmap.\n",
    "\n",
    "You've seen figures like this before and may have even been a bit perplexed by them. Don't be! The figure below is a 2D grid of rows and columns in which the \"warmth\" of the color indicates the cell value (hence, the name \"heatmaps\"). In this particular case, the rows represent individual subjects and the columns the days. The color corresponds to the number of inflammation bouts for a particular subject on a particular day - in other words, all of the data are plotted compactly in one pretty cool looking figure! Every heatmap you see will be of the same structure; however, the particular mapping between what rows vs columns represent will be different, that's all. "
   ]
  },
  {
   "cell_type": "code",
   "execution_count": null,
   "id": "9ec3d9ad-79d6-45eb-8570-57539f87f29e",
   "metadata": {
    "editable": true,
    "slideshow": {
     "slide_type": ""
    },
    "tags": []
   },
   "outputs": [],
   "source": [
    "image = plt.imshow(data)\n",
    "cax = plt.axes([0.75, 0.1, 0.025, 0.78])\n",
    "plt.colorbar(cax=cax)\n",
    "plt.show()"
   ]
  },
  {
   "cell_type": "markdown",
   "id": "1c0b3392-9480-484a-9b2b-6bd5fdb7fa87",
   "metadata": {},
   "source": [
    "---\n",
    "This lab comes from Software Carpentry's [Programming with Python workshop](https://swcarpentry.github.io/python-novice-inflammation/). "
   ]
  }
 ],
 "metadata": {
  "kernelspec": {
   "display_name": "Python 3 (ipykernel)",
   "language": "python",
   "name": "python3"
  },
  "language_info": {
   "codemirror_mode": {
    "name": "ipython",
    "version": 3
   },
   "file_extension": ".py",
   "mimetype": "text/x-python",
   "name": "python",
   "nbconvert_exporter": "python",
   "pygments_lexer": "ipython3",
   "version": "3.10.14"
  }
 },
 "nbformat": 4,
 "nbformat_minor": 5
}
