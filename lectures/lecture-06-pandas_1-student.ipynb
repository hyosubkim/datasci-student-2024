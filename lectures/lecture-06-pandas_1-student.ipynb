{
 "cells": [
  {
   "cell_type": "markdown",
   "id": "b6699062-7535-4d24-8315-7bc33cbbbbb5",
   "metadata": {
    "editable": true,
    "slideshow": {
     "slide_type": "slide"
    },
    "tags": []
   },
   "source": [
    "<img src=\"https://pandas.pydata.org/static/img/pandas.svg\" width=200px>\n",
    "\n",
    "# pandas DataFrames\n",
    "---\n",
    "## Pre-readings\n",
    "- Chapter 3: working with data\n",
    "## Learning Objectives:\n",
    "- Select individual values from a Pandas dataframe\n",
    "- Select entire rows or entire columns from a dataframe\n",
    "- Select a subset of both rows and columns from a dataframe in a single operation\n",
    "- Select a subset of a dataframe by a single Boolean criterion\n",
    "- Obtain descriptive statistics for subsets of data within a table\n",
    "- Use the split-apply-combine paradigm to work with data\n",
    "---"
   ]
  },
  {
   "cell_type": "markdown",
   "id": "e9c783d7-bbf4-4154-983f-cffaccaec97a",
   "metadata": {
    "editable": true,
    "slideshow": {
     "slide_type": "slide"
    },
    "tags": []
   },
   "source": [
    "# `pandas` DataFrames\n",
    "\n",
    "In this portion of the lecture we will be working with pseudo data from a motor control experiment involving reaching movements to visual targets. The goal is to familiarize yourselves with processing and analyzing data using the `pandas` library. **Hint: Every answer should be possible with one line of code. The only exceptions are when you want to view your data frame after doing the task, i.e., call `df.head()` or something similar.** "
   ]
  },
  {
   "cell_type": "markdown",
   "id": "85f8bfea-cc26-4f68-ba5b-2f7f078d4f25",
   "metadata": {
    "editable": true,
    "slideshow": {
     "slide_type": "slide"
    },
    "tags": []
   },
   "source": [
    "## Preliminaries\n",
    "Import the `NumPy` and `pandas` libraries using appropriate aliases."
   ]
  },
  {
   "cell_type": "code",
   "execution_count": null,
   "id": "839238ed-a2e6-4d2b-baee-34669c49844f",
   "metadata": {
    "editable": true,
    "slideshow": {
     "slide_type": ""
    },
    "tags": []
   },
   "outputs": [],
   "source": [
    "# Your answer here\n"
   ]
  },
  {
   "cell_type": "markdown",
   "id": "4384db39-c854-4711-af2e-98aaca6b294c",
   "metadata": {
    "editable": true,
    "slideshow": {
     "slide_type": "slide"
    },
    "tags": []
   },
   "source": [
    "Execute the next cell so that the `data` dictionary is created. Besides `participantID`, the values in each cell represent the corresponding subject's average for that variable across the 100 trials of the experiment.\n",
    "- `sex` represents the biological sex of the subject \n",
    "- `RT` stands for \"reaction time\", the elapsed time between visual target presentation and movement onset\n",
    "- `MT` stands for \"movement time\", the elapsed time between movement onset and movement end\n",
    "- `Error` refers to the Euclidean distance (in mm) between the reach endpoint and the center of the target"
   ]
  },
  {
   "cell_type": "code",
   "execution_count": null,
   "id": "fefb3399-e341-47f7-bc60-f2dc5a3ff6d1",
   "metadata": {
    "editable": true,
    "slideshow": {
     "slide_type": ""
    },
    "tags": []
   },
   "outputs": [],
   "source": [
    "# Run this cell\n",
    "data = {\n",
    "    \"participantID\": [\"s01\", \"s02\", \"s03\", \"s04\", \"s05\", \n",
    "                      \"s06\", \"s07\", \"s08\", \"s09\", \"s10\"],\n",
    "    \"sex\": [\"M\", \"M\", \"F\", \"M\", \"F\", \"F\", \"F\", \"M\", \"F\", \"M\"], \n",
    "    \"RT\": [432, 501, 498, 1399, 359, 444, 442, 491, 508, 380], \n",
    "    \"MT\": [195, 233, 201, 176, 240, 300, 205, 223, 191, 366],\n",
    "    \"Error\": [23.2, 15.6, 10.9, 11.3, 19.0, 10.1, 24.2, 11.7, 9.8, 8.3]\n",
    "}"
   ]
  },
  {
   "cell_type": "markdown",
   "id": "2026b858-b2b1-4ac8-8894-fbca3af0c70d",
   "metadata": {
    "editable": true,
    "slideshow": {
     "slide_type": "slide"
    },
    "tags": []
   },
   "source": [
    "---\n",
    "## Creating DataFrames\n",
    "- We can turn existing dictionaries into DataFrames using the `DataFrame` function.\n",
    "- Remember we can use pandas functions since we imported it above as `pd`.\n",
    "- To use the library you can call the function as `pd.function()`.\n",
    "\n"
   ]
  },
  {
   "cell_type": "markdown",
   "id": "0c4ad957-8082-407c-b3b0-7f37239d84f1",
   "metadata": {
    "editable": true,
    "slideshow": {
     "slide_type": "slide"
    },
    "tags": []
   },
   "source": [
    "\n",
    "### Practice Problem:\n",
    "- Convert `data` to a pandas DataFrame called `df`.\n",
    "- Use the `.head()` method to view your new data frame."
   ]
  },
  {
   "cell_type": "code",
   "execution_count": null,
   "id": "640f5e35-4fd5-4c15-88ab-df9e5811b0a3",
   "metadata": {
    "editable": true,
    "slideshow": {
     "slide_type": "slide"
    },
    "tags": []
   },
   "outputs": [],
   "source": [
    "# Your answer here\n"
   ]
  },
  {
   "cell_type": "markdown",
   "id": "b1d384d6-e5a7-4545-a2ff-f6881289b3d6",
   "metadata": {
    "editable": true,
    "slideshow": {
     "slide_type": "slide"
    },
    "tags": []
   },
   "source": [
    "---\n",
    "## Changing our index\n",
    "- Currently, our particiantID variable is a column, however, it would make more sense if it was the index to the dataframe.\n",
    "- To do this, we can use the `set_index()` method."
   ]
  },
  {
   "cell_type": "markdown",
   "id": "3f145e83-a025-4102-9e26-be39bca3d537",
   "metadata": {
    "editable": true,
    "slideshow": {
     "slide_type": "slide"
    },
    "tags": []
   },
   "source": [
    "\n",
    "### Practice Problem:\n",
    "- Update our dataframes index so that it is the `participantID` variable.\n",
    "- Check to see if it worked as expected"
   ]
  },
  {
   "cell_type": "code",
   "execution_count": null,
   "id": "9d83611f-d4e9-4c05-935a-5cb6b328afa0",
   "metadata": {
    "editable": true,
    "slideshow": {
     "slide_type": "slide"
    },
    "tags": []
   },
   "outputs": [],
   "source": [
    "# Your answer here\n"
   ]
  },
  {
   "cell_type": "markdown",
   "id": "5eda377b-1064-4798-90c1-94c7ea72e9b8",
   "metadata": {
    "editable": true,
    "slideshow": {
     "slide_type": "slide"
    },
    "tags": []
   },
   "source": [
    "---\n",
    "## Examining the data set\n",
    "- We can look at the data in our dataframe in multiple ways\n",
    "- We already saw how `df.head()` works, but there is also `df.sample()` or `df.tail()`.\n",
    "- We can also index into specific columns using `df['column_name']`."
   ]
  },
  {
   "cell_type": "markdown",
   "id": "4f9b59ce-f9bf-4f34-b52d-c80f6a0ef3cd",
   "metadata": {
    "editable": true,
    "slideshow": {
     "slide_type": "slide"
    },
    "tags": []
   },
   "source": [
    "\n",
    "### Practice Problem:\n",
    "- Explore each of these methods on the our DataFrame.\n",
    "- Write a short description of how each method works and what they can tell you about a DataFrame."
   ]
  },
  {
   "cell_type": "code",
   "execution_count": null,
   "id": "1621c313-7ff4-4cda-8021-87d63a3b12de",
   "metadata": {
    "editable": true,
    "slideshow": {
     "slide_type": "slide"
    },
    "tags": []
   },
   "outputs": [],
   "source": [
    "# your code here\n"
   ]
  },
  {
   "cell_type": "markdown",
   "id": "05544248-39ba-45e2-9874-250fcc5240ac",
   "metadata": {
    "editable": true,
    "slideshow": {
     "slide_type": ""
    },
    "tags": []
   },
   "source": [
    "**Your descriptions here**"
   ]
  },
  {
   "cell_type": "markdown",
   "id": "645232db-a6d8-4039-88eb-0ed4fce90733",
   "metadata": {},
   "source": []
  },
  {
   "cell_type": "markdown",
   "id": "8e565ab8-3c95-430c-bf48-c719b1729264",
   "metadata": {
    "editable": true,
    "slideshow": {
     "slide_type": "slide"
    },
    "tags": []
   },
   "source": [
    "--- \n",
    "## Indexing into the DataFrame\n",
    "- We can also used `loc` and `iloc` to access our DataFrame in a more systematic way.\n",
    "  \n",
    "`loc`: Label-based indexing\n",
    "- Uses labels/column names\n",
    "- Inclusive of last element\n",
    "- Syntax: `df.loc[row_label, column_label]`\n",
    "\n",
    "`iloc`: Integer-based indexing\n",
    "\n",
    "- Uses integer indices\n",
    "- Exclusive of last element\n",
    "- Syntax: `df.iloc[row_position, column_position]`"
   ]
  },
  {
   "cell_type": "markdown",
   "id": "a8ee9295-73cc-4532-b46e-1cb336f673d1",
   "metadata": {
    "editable": true,
    "slideshow": {
     "slide_type": "slide"
    },
    "tags": []
   },
   "source": [
    "### Practice Problem\n",
    "For each of these, use the `loc` and `iloc` methods. Note that one of these methods should be much preferred for this problem. Part of the exercise is going through the process and understanding why. \n",
    "\n",
    "- Access the RT for subject 7\n",
    "- Access the MT for subject 4\n",
    "- Access the RTs for subjects 2-6\n",
    "- Access the MTs for subejects 3, 6, 7"
   ]
  },
  {
   "cell_type": "code",
   "execution_count": null,
   "id": "aa7b20fe-370f-410b-9851-1b888d7ce2be",
   "metadata": {
    "editable": true,
    "slideshow": {
     "slide_type": "slide"
    },
    "tags": []
   },
   "outputs": [],
   "source": [
    "# your answer here\n"
   ]
  },
  {
   "cell_type": "markdown",
   "id": "2502aa45-4327-43e6-b448-d3cf4c276830",
   "metadata": {
    "editable": true,
    "slideshow": {
     "slide_type": "slide"
    },
    "tags": []
   },
   "source": [
    "---\n",
    "## Filtering data.\n",
    "- We can filter our data based on boolean statements\n",
    "- For example, if we want to only look at reactions times greater than 300 ms we can do the following:\n",
    "```python\n",
    "mask = df['ReactionTime'] > 300\n",
    "filtered_df = df[mask]\n",
    "```\n",
    "- We can combine this into one statment as follows:\n",
    "```python\n",
    "filtered_df = df[df['ReactionTime'] > 300]\n",
    "```"
   ]
  },
  {
   "cell_type": "markdown",
   "id": "e2452b8c-ef85-436e-bc6a-e33d99381565",
   "metadata": {
    "editable": true,
    "slideshow": {
     "slide_type": "slide"
    },
    "tags": []
   },
   "source": [
    "### Practice Problem:\n",
    "- Create a Boolean mask to differentiate between valid and invalid data (or \"outliers\").   \n",
    "- Here, invalid data are defined as an `Error` greater than 20mm *or* a `RT` greater than 1000ms. (Note: these are arbitrary thresholds; soon, you will learn much more principled ways of determining what is or is *not* an outlier value.)   \n",
    "- Also, it's typically your choice of whether you want your Boolean mask to have `True` values to represent valid or invalid data. However, for now, make sure `True` represents valid (i.e., non-outlier) values. "
   ]
  },
  {
   "cell_type": "code",
   "execution_count": null,
   "id": "9da88c00-a2a6-4797-a7a2-738e21760697",
   "metadata": {
    "editable": true,
    "slideshow": {
     "slide_type": "slide"
    },
    "tags": []
   },
   "outputs": [],
   "source": [
    "# Your answer here\n"
   ]
  },
  {
   "cell_type": "markdown",
   "id": "bc6b8e51-457f-4111-8d5e-4da7c74a115a",
   "metadata": {
    "editable": true,
    "slideshow": {
     "slide_type": ""
    },
    "tags": []
   },
   "source": [
    "#### Use your mask to display only valid rows from `df`. "
   ]
  },
  {
   "cell_type": "code",
   "execution_count": null,
   "id": "ca474e3d-6f82-452b-ba29-bb8c29a3e862",
   "metadata": {
    "editable": true,
    "slideshow": {
     "slide_type": ""
    },
    "tags": []
   },
   "outputs": [],
   "source": [
    "# Your answer here\n"
   ]
  },
  {
   "cell_type": "markdown",
   "id": "b24ef75c-08fd-460e-a00a-266498fcf481",
   "metadata": {
    "editable": true,
    "slideshow": {
     "slide_type": ""
    },
    "tags": []
   },
   "source": [
    "#### Assign the processed (filtered) data to a new DataFrame `df_filt`. "
   ]
  },
  {
   "cell_type": "code",
   "execution_count": null,
   "id": "108fae71-af2e-4e7b-882e-4f2371dc9466",
   "metadata": {
    "editable": true,
    "slideshow": {
     "slide_type": ""
    },
    "tags": []
   },
   "outputs": [],
   "source": [
    "# Your answer here\n"
   ]
  },
  {
   "cell_type": "markdown",
   "id": "7c6e32eb-9ea7-4287-921d-990ce36bfa22",
   "metadata": {
    "editable": true,
    "slideshow": {
     "slide_type": "slide"
    },
    "tags": []
   },
   "source": [
    "---\n",
    "#### Analyze the filtered data.\n",
    "\n",
    "Calculate mean `RT`s, `MT`s, and `Error`s across the remaining subjects and print the results. Do this in one line. "
   ]
  },
  {
   "cell_type": "code",
   "execution_count": null,
   "id": "e6aaa818-30f4-4d16-b5b9-d785abf08931",
   "metadata": {
    "editable": true,
    "slideshow": {
     "slide_type": "slide"
    },
    "tags": []
   },
   "outputs": [],
   "source": [
    "# Your answer here\n"
   ]
  },
  {
   "cell_type": "markdown",
   "id": "02a5261e-6e38-4bfb-b9d3-c85ea75b2737",
   "metadata": {
    "editable": true,
    "slideshow": {
     "slide_type": "slide"
    },
    "tags": []
   },
   "source": [
    "---\n",
    "#### Practice Problem:\n",
    "Returning to all 10 participants and the original `df`, create a new column `PerfIndex` that represents each participant's overall performance on the task (a lower score means better performance). The formula is: $$PerfIndex_i = \\frac{1}{3}RT_i + \\frac{2}{3}MT_i + Error_i^2$$  \n",
    "\n",
    "Here, $i$ indexes the subject whose data is being converted. Note that you may receive a \"SettingWithCopyWarning\" message; however, this is one case where you can ignore the message for now. (**Warning:** This is a rather arbitrary performance index; its use here is simply as part of the exercise and is not meant to provide any insight into actual motor control.)"
   ]
  },
  {
   "cell_type": "code",
   "execution_count": null,
   "id": "fab7d2c8-b312-483e-b5b7-91fdad85f5f1",
   "metadata": {
    "editable": true,
    "slideshow": {
     "slide_type": "slide"
    },
    "tags": []
   },
   "outputs": [],
   "source": [
    "# Your answer here\n",
    "# Approach 1: Create PerfIndex on the filtered DataFrame (may give SettingWithCopyWarning)\n"
   ]
  },
  {
   "cell_type": "markdown",
   "id": "5fd87100-e5e6-427f-918f-e2c72c2ff1e2",
   "metadata": {
    "editable": true,
    "slideshow": {
     "slide_type": "slide"
    },
    "tags": []
   },
   "source": [
    "---\n",
    "### Practice Problem:\n",
    "- Using a `pandas` method, determine who performed best in this experiment? "
   ]
  },
  {
   "cell_type": "code",
   "execution_count": null,
   "id": "9821964f-5dae-4bef-817f-6efd05ca09a5",
   "metadata": {
    "editable": true,
    "slideshow": {
     "slide_type": "slide"
    },
    "tags": []
   },
   "outputs": [],
   "source": [
    "# Your answer here\n"
   ]
  },
  {
   "cell_type": "markdown",
   "id": "85865d5f-943e-407a-ab11-08c4fe1a4825",
   "metadata": {
    "editable": true,
    "slideshow": {
     "slide_type": "slide"
    },
    "tags": []
   },
   "source": [
    "## Split-Apply-Combine\n",
    "\n",
    "A common task in data science is to split data into meaningful subgroups, apply an operation to each subgroup (e.g., compute the mean), and then combine the results into a single output, such as a table or a new DataFrame. This paradigm was famously [described by Hadley Wickham in a 2011 paper](http://dx.doi.org/10.18637/jss.v040.i01).\n",
    "\n",
    "`pandas` provides methods and grouping operations that are very efficient (*vectorized*) for split-apply-combine operations. \n"
   ]
  },
  {
   "cell_type": "markdown",
   "id": "e048d457-2170-49b5-9022-ad6b2a0a152b",
   "metadata": {
    "editable": true,
    "slideshow": {
     "slide_type": "slide"
    },
    "tags": []
   },
   "source": [
    "Here is an example from the textbook:\n",
    "### Split\n",
    "Now we can use this \"region\" column to split the data into groups, using a pandas method called `.groupby()`\n",
    "~~~python\n",
    "grouped_countries = df.groupby('region')\n",
    "~~~\n",
    "\n",
    "### Apply\n",
    "Now that we have split the data, we can apply a function separately to each group. Here we'll compute the mean GDP for each region, for each year:\n",
    "~~~python\n",
    "mean_gdp_by_region = grouped_countries.mean()\n",
    "~~~\n",
    "\n",
    "### Combine\n",
    "The combine step actually occurred with the *apply* step above — the result is automatically combined into a table of mean values organized by region. But since our *apply* step (`.mean()`) saved the result to a variable, we can view the resulting table as the output of the *combine* step:\n",
    "~~~python\n",
    "mean_gdp_by_region\n",
    "~~~"
   ]
  },
  {
   "cell_type": "markdown",
   "id": "cb0a5bc6-159f-4956-9d82-649fd856197a",
   "metadata": {
    "editable": true,
    "slideshow": {
     "slide_type": "slide"
    },
    "tags": []
   },
   "source": [
    "---\n",
    "### Practice Problem\n",
    "Were there any salient differences between males and females on this task? Apply the **split-apply-combine** paradigm to find out. There's no single right answer, but there are some logical starting points--e.g., comparing some measure of central tendency. By the way, I'm not looking for a rigorous statistical inference; I just want you to think and practice using the **split-apply-combine** technique. "
   ]
  },
  {
   "cell_type": "code",
   "execution_count": null,
   "id": "58aa01dc-acf1-4ea6-b8d3-27e83302c743",
   "metadata": {
    "editable": true,
    "slideshow": {
     "slide_type": "slide"
    },
    "tags": []
   },
   "outputs": [],
   "source": [
    "# Your answer here\n"
   ]
  },
  {
   "cell_type": "markdown",
   "id": "d39268ac-a9e4-41b6-8496-06a48da84033",
   "metadata": {
    "editable": true,
    "slideshow": {
     "slide_type": "slide"
    },
    "tags": []
   },
   "source": [
    "---\n",
    "# Summary of Key Points:\n",
    "- pandas DataFrames are a powerful way of storing and working with tabular (row/column) data\n",
    "- pandas columns and rows can have names\n",
    "- pandas row names are called *indexes* which are numeric by default, but can be given other labels\n",
    "- Use the `.iloc[]` method with a DataFrame to select values by integer location, using [row, column] format\n",
    "- Use the `.loc[]` method with a DataFrame to select rows and/or columns, using named slices\n",
    "- Use `:` on its own to mean all columns or all rows\n",
    "- Result of slicing can be used in further operations\n",
    "- Use comparisons to select data based on value\n",
    "- Select values or `NaN` using a Boolean mask\n",
    "- use split-apply-combine to derive analytics from groupings within a DataFrame"
   ]
  },
  {
   "cell_type": "markdown",
   "id": "2697abb5-d072-48f3-8e70-cc8206ad9859",
   "metadata": {},
   "source": [
    "---\n",
    "This notebook has been adapted from materials from NYU's [Lab in Cognition and Perception](https://cims.nyu.edu/~brenden/courses/labincp/course-content/syllabus.html), the [Data Science in Practice textbook](https://datascienceinpractice.github.io/docs/index.html), and [Software Carpentry's Plotting and Programming in Python workshop](https://swcarpentry.github.io/python-novice-gapminder/index.html)."
   ]
  }
 ],
 "metadata": {
  "kernelspec": {
   "display_name": "Python 3 (ipykernel)",
   "language": "python",
   "name": "python3"
  },
  "language_info": {
   "codemirror_mode": {
    "name": "ipython",
    "version": 3
   },
   "file_extension": ".py",
   "mimetype": "text/x-python",
   "name": "python",
   "nbconvert_exporter": "python",
   "pygments_lexer": "ipython3",
   "version": "3.10.14"
  }
 },
 "nbformat": 4,
 "nbformat_minor": 5
}
