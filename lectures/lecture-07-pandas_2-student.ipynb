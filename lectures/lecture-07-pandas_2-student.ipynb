{
 "cells": [
  {
   "cell_type": "markdown",
   "id": "438c27c0-47da-4adc-ab34-08ecdda5d2ea",
   "metadata": {
    "editable": true,
    "slideshow": {
     "slide_type": "slide"
    },
    "tags": []
   },
   "source": [
    "# Pandas cont.\n",
    "\n",
    "## Pre-readings\n",
    "- Chapter 3: working with data\n",
    "## Learning Objectives:\n",
    "- Reading and writing data\n",
    "- Working with pandas dataframes"
   ]
  },
  {
   "cell_type": "markdown",
   "id": "0b82555f-20b8-43a2-a53b-32a227d6278d",
   "metadata": {
    "editable": true,
    "slideshow": {
     "slide_type": "slide"
    },
    "tags": []
   },
   "source": [
    "---\n",
    "# Sensorimotor Adaptation\n",
    "- Sensorimotor adaptation is the process in which the central nervous system recalibrates our sensorimotor mappings in response to changing internal or external conditions.\n",
    "- For example, you automatically change your gait when walking on different surfaces, such as grass, ice, sand etc."
   ]
  },
  {
   "cell_type": "markdown",
   "id": "ecdd1a34-8200-4ee0-9659-c221cd12dd30",
   "metadata": {
    "editable": true,
    "slideshow": {
     "slide_type": "slide"
    },
    "tags": []
   },
   "source": [
    "## The data set   \n",
    "- This is a sample of the data taken from Tsay et al., (2024)\n",
    "- They investigated sensorimotor adaptation using an online experiment, and collected data from a wide range of participants.\n",
    "- Today we will be using a small subset of the data (200 participants)\n",
    "\n",
    "\n",
    "Tsay, J. S., Asmerian, H., Germine, L. T., Wilmer, J., Ivry, R. B., & Nakayama, K. (2024). Large-scale citizen science reveals predictors of sensorimotor adaptation. Nature Human Behaviour, 1–16. https://doi.org/10.1038/s41562-023-01798-0\n"
   ]
  },
  {
   "cell_type": "markdown",
   "id": "95cab55a-5d08-4418-871a-1b46dfd23748",
   "metadata": {
    "editable": true,
    "slideshow": {
     "slide_type": "slide"
    },
    "tags": []
   },
   "source": [
    "---\n",
    "# Analyze the dataset"
   ]
  },
  {
   "cell_type": "markdown",
   "id": "75e66afa-4450-4709-99c4-2ae8987dc665",
   "metadata": {
    "editable": true,
    "slideshow": {
     "slide_type": "slide"
    },
    "tags": []
   },
   "source": [
    "### Task 1: Import your libraries and load the data set\n",
    "The data is in csv format and is called 'adaptation_data_small.csv'. Note, it is in the folder 'data'."
   ]
  },
  {
   "cell_type": "code",
   "execution_count": null,
   "id": "5f251151-43f0-43e3-843f-1a730d1dc9d5",
   "metadata": {
    "editable": true,
    "slideshow": {
     "slide_type": "slide"
    },
    "tags": []
   },
   "outputs": [],
   "source": [
    "# Import your libraries here\n"
   ]
  },
  {
   "cell_type": "code",
   "execution_count": null,
   "id": "201515c7-9015-4d76-befc-92adf7a5d54e",
   "metadata": {
    "editable": true,
    "slideshow": {
     "slide_type": ""
    },
    "tags": []
   },
   "outputs": [],
   "source": [
    "# Load your data here in a dataframe called \"data\"\n"
   ]
  },
  {
   "cell_type": "markdown",
   "id": "869a4ea2-9276-429a-b9f5-8c725540713f",
   "metadata": {
    "editable": true,
    "slideshow": {
     "slide_type": "slide"
    },
    "tags": []
   },
   "source": [
    "### Task 2: Examine a random sample of 5 rows in the dataset."
   ]
  },
  {
   "cell_type": "code",
   "execution_count": null,
   "id": "3b2bbbc0-57ac-4542-add2-3471fb60b69e",
   "metadata": {
    "editable": true,
    "slideshow": {
     "slide_type": "slide"
    },
    "tags": []
   },
   "outputs": [],
   "source": [
    "# Your answer here\n"
   ]
  },
  {
   "cell_type": "markdown",
   "id": "3aa18eb5-8e79-485e-8631-24e0ee0932f9",
   "metadata": {
    "editable": true,
    "slideshow": {
     "slide_type": "slide"
    },
    "tags": []
   },
   "source": [
    "### Task 3: Examine your data set\n",
    "Determine what each variable type is. Use the `.nunique()` method to determine how many unique values each variable has. Do the values make sense to you? How would you check them? \n",
    "\n",
    "Now would be a good time to check out [pandas' API](https://pandas.pydata.org/docs/reference/general_functions.html) to learn about `.nunique()` and `.unique()`. You will want to reference this page for some other functions/methods we will use later. "
   ]
  },
  {
   "cell_type": "code",
   "execution_count": null,
   "id": "773ea506-6372-4e76-96a7-8c42e2605f77",
   "metadata": {
    "editable": true,
    "slideshow": {
     "slide_type": "slide"
    },
    "tags": []
   },
   "outputs": [],
   "source": [
    "# Your answer here\n"
   ]
  },
  {
   "cell_type": "markdown",
   "id": "363295b2-2af9-47e4-8f48-b259c3f87002",
   "metadata": {
    "editable": true,
    "slideshow": {
     "slide_type": "slide"
    },
    "tags": []
   },
   "source": [
    "### Task 4: Analyze reaction time and movement time\n",
    "- Mean RT and MT across the whole data set\n",
    "- Repeat the following, but only include the data if the RT is between 200ms and 600m AND the MT is < 250ms. Put these into a dataframe called `data_filt`."
   ]
  },
  {
   "cell_type": "code",
   "execution_count": null,
   "id": "24067953-8797-460e-a1d5-6e90f8c102ef",
   "metadata": {
    "editable": true,
    "slideshow": {
     "slide_type": "slide"
    },
    "tags": []
   },
   "outputs": [],
   "source": [
    "# Your answer here\n"
   ]
  },
  {
   "cell_type": "markdown",
   "id": "e371b6ee-3811-476a-ac43-b16477ad85b0",
   "metadata": {
    "editable": true,
    "slideshow": {
     "slide_type": "slide"
    },
    "tags": []
   },
   "source": [
    "### Task 5: Returning to the original `data` dataframe, answer the follow questions\n",
    "\n",
    "Hint: You may find `.sort_values()` to be useful.\n",
    "\n",
    "- Which major demonstrated the most adaptation?\n",
    "- Does sleep score affect someone's reaction time?\n",
    "- Does a participant's video game score affect their reaction time?"
   ]
  },
  {
   "cell_type": "code",
   "execution_count": null,
   "id": "44892c02-3c26-42fe-bd78-34530731c100",
   "metadata": {
    "editable": true,
    "slideshow": {
     "slide_type": "slide"
    },
    "tags": []
   },
   "outputs": [],
   "source": [
    "# 1. Calculate mean adaptation for different majors\n",
    "\n"
   ]
  },
  {
   "cell_type": "code",
   "execution_count": null,
   "id": "919cfce4-5eda-4e8d-adc5-9849aa6f708c",
   "metadata": {
    "editable": true,
    "slideshow": {
     "slide_type": "slide"
    },
    "tags": []
   },
   "outputs": [],
   "source": [
    "# 2. Calculate mean RT for different sleep score ranges\n"
   ]
  },
  {
   "cell_type": "code",
   "execution_count": null,
   "id": "b526b298-9dcb-41c8-ad2c-862572acde40",
   "metadata": {
    "editable": true,
    "slideshow": {
     "slide_type": "slide"
    },
    "tags": []
   },
   "outputs": [],
   "source": [
    "# 3. Calculate mean RT for different video game score ranges\n"
   ]
  },
  {
   "cell_type": "markdown",
   "id": "139d028c-22e2-41d6-85ea-aac45ab51116",
   "metadata": {
    "editable": true,
    "slideshow": {
     "slide_type": "slide"
    },
    "tags": []
   },
   "source": [
    "### Task 6: Calculate summary statistics for the following\n",
    "- RT and adaptation for participants who 'Agree' they are clumsy and 'Agree' with video games.\n",
    "- MT for participants who have a college education, are not male, and are not STEM majors.\n",
    "- Adaptation rates for even numbered participants (based on the values of \"Participant\") and who are either ArtsHum or STEM majors."
   ]
  },
  {
   "cell_type": "code",
   "execution_count": null,
   "id": "b3342202-1c7a-4700-94ac-413f15b65024",
   "metadata": {
    "editable": true,
    "slideshow": {
     "slide_type": "slide"
    },
    "tags": []
   },
   "outputs": [],
   "source": [
    "# Your answer here\n",
    "# 1. \n",
    "\n"
   ]
  },
  {
   "cell_type": "code",
   "execution_count": null,
   "id": "01300fc9-01ea-44e5-876d-68d27f17a21b",
   "metadata": {
    "editable": true,
    "slideshow": {
     "slide_type": "slide"
    },
    "tags": []
   },
   "outputs": [],
   "source": [
    "# Your answer here\n",
    "# 2.\n"
   ]
  },
  {
   "cell_type": "code",
   "execution_count": null,
   "id": "65995ad6-f205-4908-ab7b-8fc26ad4d8d9",
   "metadata": {
    "editable": true,
    "slideshow": {
     "slide_type": "slide"
    },
    "tags": []
   },
   "outputs": [],
   "source": [
    "# Your answer here\n",
    "# 3. \n"
   ]
  },
  {
   "cell_type": "markdown",
   "id": "cac31f4e-25fe-46a1-928c-0b1db1a062cd",
   "metadata": {
    "editable": true,
    "slideshow": {
     "slide_type": "slide"
    },
    "tags": []
   },
   "source": [
    "# Writing data to files\n",
    "- Create a new dataframe that contains data for only STEM majors.\n",
    "- Write this dataframe to a new csv file.\n",
    "- Load the csv back into python and check that it is correct."
   ]
  },
  {
   "cell_type": "code",
   "execution_count": null,
   "id": "8ac8f61e-2cd5-47ec-9fb7-e01700f0223f",
   "metadata": {
    "editable": true,
    "slideshow": {
     "slide_type": "slide"
    },
    "tags": []
   },
   "outputs": [],
   "source": []
  }
 ],
 "metadata": {
  "kernelspec": {
   "display_name": "Python 3 (ipykernel)",
   "language": "python",
   "name": "python3"
  },
  "language_info": {
   "codemirror_mode": {
    "name": "ipython",
    "version": 3
   },
   "file_extension": ".py",
   "mimetype": "text/x-python",
   "name": "python",
   "nbconvert_exporter": "python",
   "pygments_lexer": "ipython3",
   "version": "3.10.14"
  }
 },
 "nbformat": 4,
 "nbformat_minor": 5
}
