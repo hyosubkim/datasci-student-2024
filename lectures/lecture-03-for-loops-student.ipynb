{
 "cells": [
  {
   "cell_type": "markdown",
   "id": "5c226d85-c4d4-440e-a779-a450a3942288",
   "metadata": {
    "editable": true,
    "slideshow": {
     "slide_type": "slide"
    },
    "tags": []
   },
   "source": [
    "# `for` Loops\n",
    "\n",
    "## Pre-readings:\n",
    "- Chapter 3: Flow control\n",
    "\n",
    "## Learning Objectives:\n",
    "- Explain what for loops are normally used for.\n",
    "- Practice using for loops in different contexts\n",
    "\n",
    "---\n"
   ]
  },
  {
   "cell_type": "markdown",
   "id": "893cdaf0-fc57-4df2-9942-9e46fa07dcdf",
   "metadata": {
    "editable": true,
    "slideshow": {
     "slide_type": "slide"
    },
    "tags": []
   },
   "source": [
    "# A `for` loop is made up of a collection, a loop variable, and a body.\n",
    "\n",
    "~~~python\n",
    "for number in [2, 3, 5]:\n",
    "    print(number)\n",
    "~~~\n",
    "\n",
    "- The **collection**, `[2, 3, 5]`, is what the loop is being run on.\n",
    "- The **loop variable**, `number`, is what changes for each *iteration* of the loop.\n",
    "    - This keeps track of where we are in the loop — the \"current thing\"\n",
    "- The **body**, `print(number)`, specifies what to do for each value in the collection.\n",
    "\n",
    "\n"
   ]
  },
  {
   "cell_type": "markdown",
   "id": "afa5949f-440e-4fa1-9085-7f7ebab38af8",
   "metadata": {
    "editable": true,
    "slideshow": {
     "slide_type": "slide"
    },
    "tags": []
   },
   "source": [
    "## Two common ways to use for loops\n",
    "\n",
    "**Loop through a predefined list**\n",
    "\n",
    "```Python\n",
    "collection = [4, 7, 0]\n",
    "\n",
    "for loop_variable in collection:\n",
    "    # body\n",
    "    print(loop_variable)\n",
    "```\n",
    "**Loop for a given number of loops.**\n",
    "```Python\n",
    "for loop_variable in range(20):\n",
    "    # body\n",
    "    print(loop_variable)\n",
    "```"
   ]
  },
  {
   "cell_type": "markdown",
   "id": "243f127a-c5a9-4121-85a2-11cea6163924",
   "metadata": {
    "editable": true,
    "slideshow": {
     "slide_type": "slide"
    },
    "tags": []
   },
   "source": [
    "---\n",
    "### Practice Problem   \n",
    "Write a for loop to print off every even number from 0 to 20.  \n",
    "Store the values in a list.  \n",
    "You will want to use the `range` function."
   ]
  },
  {
   "cell_type": "code",
   "execution_count": null,
   "id": "bba2d36a-8f42-4092-923c-25297f758a71",
   "metadata": {
    "editable": true,
    "slideshow": {
     "slide_type": "slide"
    },
    "tags": []
   },
   "outputs": [],
   "source": [
    "# your answer here\n"
   ]
  },
  {
   "cell_type": "markdown",
   "id": "4c6f163f-6b5f-4041-bbef-45a555798125",
   "metadata": {
    "editable": true,
    "slideshow": {
     "slide_type": "slide"
    },
    "tags": []
   },
   "source": [
    "---\n",
    "### Practice Problem   \n",
    "Print off all the fruit in this list using a for loop.\n",
    "\n",
    "```\n",
    "fruits = ['apple', 'banana', 'pear', 'peach', 'strawberry', 'orange']\n",
    "```"
   ]
  },
  {
   "cell_type": "code",
   "execution_count": null,
   "id": "42c0b644-15c8-4590-ad1a-10883fcb229c",
   "metadata": {
    "editable": true,
    "slideshow": {
     "slide_type": "slide"
    },
    "tags": []
   },
   "outputs": [],
   "source": [
    "# your answer here\n",
    "fruits = ['apple', 'banana', 'pear', 'peach', 'strawberry', 'orange']\n"
   ]
  },
  {
   "cell_type": "markdown",
   "id": "43ee8845-1dd2-4da5-8be5-5c8b985fd704",
   "metadata": {
    "editable": true,
    "slideshow": {
     "slide_type": "slide"
    },
    "tags": []
   },
   "source": [
    "---\n",
    "### Practice Problem   \n",
    "Print off the product of each element in list A and B.   \n",
    "For example, if  `A = [1, 2]` and  `B = [2, 4]`, your answer would be 2 and 8.\n"
   ]
  },
  {
   "cell_type": "code",
   "execution_count": null,
   "id": "75686a1d-acd8-46ba-a1ff-6c262a8db0ac",
   "metadata": {
    "editable": true,
    "slideshow": {
     "slide_type": "slide"
    },
    "tags": []
   },
   "outputs": [],
   "source": [
    "# your answer here\n",
    "A = [7, 12, 4, 22, 9, 72, 19, 81, 17, 6, 28, 31, 1, 2, 10, 0]\n",
    "B = [4, 90, 3, 1, 33, 19, 44, 0, 11, 99, 51, 42, 44, 1, 2, 20]\n"
   ]
  },
  {
   "cell_type": "markdown",
   "id": "5553055d-ad8a-4913-af15-10b298332754",
   "metadata": {
    "editable": true,
    "slideshow": {
     "slide_type": "slide"
    },
    "tags": []
   },
   "source": [
    "---\n",
    "### Practice Problem   \n",
    "Calculate the average of list A from above. Note, you should not have to use any functions, only a for loop and the addition and division operators."
   ]
  },
  {
   "cell_type": "code",
   "execution_count": null,
   "id": "4d91e210-72ff-47ed-943a-643c9aeb8817",
   "metadata": {
    "editable": true,
    "slideshow": {
     "slide_type": "slide"
    },
    "tags": []
   },
   "outputs": [],
   "source": [
    "# your answer here\n"
   ]
  },
  {
   "cell_type": "markdown",
   "id": "10656bc4-697b-43e3-bb9f-26875f6dceea",
   "metadata": {
    "editable": true,
    "slideshow": {
     "slide_type": "slide"
    },
    "tags": []
   },
   "source": [
    "---\n",
    "### Practice Problem   \n",
    "Here is a dictionary `colleges` that lists the city and zip (as values) for several schools in NYC (the keys)."
   ]
  },
  {
   "cell_type": "code",
   "execution_count": null,
   "id": "85c036a3-40d8-4880-82bd-38f50f0ead92",
   "metadata": {
    "editable": true,
    "slideshow": {
     "slide_type": ""
    },
    "tags": []
   },
   "outputs": [],
   "source": [
    "# Run this to initialize the dictionary\n",
    "colleges = {}\n",
    "colleges['NYU'] = 'New York, NY 10012'\n",
    "colleges['Columbia'] = 'New York, NY 10027'\n",
    "colleges['Fordham'] = 'Bronx, NY 10458'\n",
    "colleges['Brooklyn college'] = 'Brooklyn, NY 11210'"
   ]
  },
  {
   "cell_type": "markdown",
   "id": "66c885e1-f247-40fa-a077-ca3d6628c7e3",
   "metadata": {
    "editable": true,
    "slideshow": {
     "slide_type": ""
    },
    "tags": []
   },
   "source": [
    "Write a `for` loop to iterate over the keys and return the values, printing in this format:\n",
    "```\n",
    "NYU : New York, NY 10012  \n",
    "Columbia : New York, NY 10027  \n",
    "Fordham : Bronx, NY 10458  \n",
    "Brooklyn college : Brooklyn, NY 11210 \n",
    "```"
   ]
  },
  {
   "cell_type": "code",
   "execution_count": null,
   "id": "8d3d27ca-24cd-4fd1-9b7b-8b2afdc0bb84",
   "metadata": {
    "editable": true,
    "slideshow": {
     "slide_type": "slide"
    },
    "tags": []
   },
   "outputs": [],
   "source": [
    "# your answer here\n"
   ]
  },
  {
   "cell_type": "markdown",
   "id": "e7983561-ac3a-4a82-96f4-bf246c5b43e2",
   "metadata": {
    "editable": true,
    "slideshow": {
     "slide_type": "slide"
    },
    "tags": []
   },
   "source": [
    "---\n",
    "### Practice Problem  \n",
    "Reverse the string `semordnilap`. Your output should be `palindromes`."
   ]
  },
  {
   "cell_type": "code",
   "execution_count": null,
   "id": "a9fdea93-20d5-4405-86bf-846a069c5f70",
   "metadata": {
    "editable": true,
    "slideshow": {
     "slide_type": "slide"
    },
    "tags": []
   },
   "outputs": [],
   "source": [
    "# your answer here\n"
   ]
  },
  {
   "cell_type": "markdown",
   "id": "3f2dd8b6-7f44-46d7-9333-71c7637f46a1",
   "metadata": {
    "editable": true,
    "slideshow": {
     "slide_type": "slide"
    },
    "tags": []
   },
   "source": [
    "---\n",
    "# Nested for loops\n",
    "- You can also place `for` loops inside another `for` loop, allowing you to repeat things in more complex ways.\n",
    "- For instance, you can print out a square as shown below.\n",
    "- Before you execute the code, go through it line-by-line to see if you can figure out how it will end up printing a square. In other words, write your prediction down on paper/tablet/whiteboard/etc.\n",
    "\n",
    "```\n",
    "for i in range(10):\n",
    "    for j in range(10):\n",
    "        print(\"*\", end=\" \")\n",
    "    print(\"\")\n",
    "```"
   ]
  },
  {
   "cell_type": "code",
   "execution_count": null,
   "id": "0db3771e-42af-456d-b055-98a2c353017c",
   "metadata": {
    "editable": true,
    "slideshow": {
     "slide_type": "slide"
    },
    "tags": []
   },
   "outputs": [],
   "source": [
    "for i in range(10):\n",
    "    for j in range(10):\n",
    "        print(\"*\", end=\" \")\n",
    "    print(\"\")"
   ]
  },
  {
   "cell_type": "markdown",
   "id": "7bd6302a-9469-44b7-9fdd-8a7215a1489a",
   "metadata": {
    "editable": true,
    "slideshow": {
     "slide_type": "slide"
    },
    "tags": []
   },
   "source": [
    "---\n",
    "### Practice Problem:  \n",
    "Write some code that produces the multiplication table below. Note that for each cell $c_{ij}$, its value is equal to the product of the row number $i$ and column number $j$, assuming they are numbered $1, 2, 3$.\n",
    "\n",
    "Here is what the output should look like when you run your code: \n",
    "```\n",
    "1 2 3      \n",
    "2 4 6        \n",
    "3 6 9 \n",
    "```"
   ]
  },
  {
   "cell_type": "code",
   "execution_count": null,
   "id": "814296a6-b820-4cad-ab5b-4abf2510a719",
   "metadata": {
    "editable": true,
    "slideshow": {
     "slide_type": "slide"
    },
    "tags": []
   },
   "outputs": [],
   "source": [
    "# your answer here\n"
   ]
  },
  {
   "cell_type": "markdown",
   "id": "0cf2e719-4371-48fa-a4ff-3748913565f6",
   "metadata": {
    "editable": true,
    "slideshow": {
     "slide_type": "slide"
    },
    "tags": []
   },
   "source": [
    "---\n",
    "# List comprehension\n",
    "\n",
    "- List comprehension is a special kind of `for` loop that you can use to create a list \n",
    "- This can be a very powerful and compact way of doing things\n",
    "- For example, the following code creates a list of values from 1 to 10 in a single line of code:\n",
    "\n",
    "```python\n",
    "[x for x in range(1, 11)]\n",
    "```"
   ]
  },
  {
   "cell_type": "code",
   "execution_count": null,
   "id": "e4d90288-1c29-49b0-b44f-557d7058b2ba",
   "metadata": {
    "editable": true,
    "slideshow": {
     "slide_type": ""
    },
    "tags": []
   },
   "outputs": [],
   "source": [
    "[x for x in range(1, 11)]"
   ]
  },
  {
   "cell_type": "markdown",
   "id": "c7175ad1-f5ca-4a6a-9522-ca536e2ffb47",
   "metadata": {
    "editable": true,
    "slideshow": {
     "slide_type": "slide"
    },
    "tags": []
   },
   "source": [
    "- List comprehension can be very useful if you want to apply some operation to every value in a list\n",
    "- For example, let's say we had a set of times in seconds, and we wanted to convert them to milliseconds (thousandths of a second):\n"
   ]
  },
  {
   "cell_type": "code",
   "execution_count": null,
   "id": "21d8d36e-2581-498b-9307-adef5be7fded",
   "metadata": {
    "editable": true,
    "slideshow": {
     "slide_type": ""
    },
    "tags": []
   },
   "outputs": [],
   "source": [
    "time_sec = [0.19859864, 1.35544082,  0.81298099,  1.80873061,  0.78908326, \n",
    "            1.40242708, 0.39563692,  1.91673302, 1.07524985, 1.02169021]\n",
    "\n",
    "time_ms = [t * 1000 for t in time_sec]\n",
    "\n",
    "print(time_ms)"
   ]
  },
  {
   "cell_type": "markdown",
   "id": "58fcba95-ba3f-4240-b256-fd09c1824a24",
   "metadata": {
    "editable": true,
    "slideshow": {
     "slide_type": "slide"
    },
    "tags": []
   },
   "source": [
    "---\n",
    "### Practice Problem:   \n",
    "Given the list `x`, calculate the squared values using list comprehension."
   ]
  },
  {
   "cell_type": "code",
   "execution_count": null,
   "id": "b5b5f81f-cfb6-4c72-b49a-a08e90776e9d",
   "metadata": {
    "editable": true,
    "slideshow": {
     "slide_type": "slide"
    },
    "tags": []
   },
   "outputs": [],
   "source": [
    "# your answer here\n",
    "x = [0, 5, 9, 12, 3, 19, 15, 14, 1, 90, 0, 1, 9, 3]\n"
   ]
  },
  {
   "cell_type": "markdown",
   "id": "b6043e68-ff31-4bd9-968f-3e2e22f4f9b6",
   "metadata": {
    "editable": true,
    "slideshow": {
     "slide_type": "slide"
    },
    "tags": []
   },
   "source": [
    "---\n",
    "### Practice Problem\n",
    "Given a list of temperatures in Fahrenheit, use list comprehension to create a new list with the equivalent temperatures in Celsius.   \n",
    "\n",
    "Use the following formula for conversion: C = (F - 32) * 5/9\n",
    "\n",
    "Write a list comprehension to convert all temperatures from Fahrenheit to Celsius."
   ]
  },
  {
   "cell_type": "code",
   "execution_count": null,
   "id": "6e9cc3db-aae8-458c-82fd-2e0f0311b232",
   "metadata": {
    "editable": true,
    "slideshow": {
     "slide_type": "slide"
    },
    "tags": []
   },
   "outputs": [],
   "source": [
    "# your answer here\n",
    "fahrenheit_temps = [32, 68, 86, 104, 212]\n"
   ]
  },
  {
   "cell_type": "markdown",
   "id": "f2d88fc4-69d7-4c71-b014-f4bc76e24f2a",
   "metadata": {
    "editable": true,
    "slideshow": {
     "slide_type": "slide"
    },
    "tags": []
   },
   "source": [
    "# Enumerate.\n",
    "- When looping through a list of values, we can also use the function `enumerate`.\n",
    "- Enumerate allows us to access both the value in the list, as well as the index.\n",
    "- The syntax is as follows"
   ]
  },
  {
   "cell_type": "code",
   "execution_count": null,
   "id": "9cc9c213-d178-488b-bfb2-434ecf4076ca",
   "metadata": {
    "editable": true,
    "slideshow": {
     "slide_type": ""
    },
    "tags": []
   },
   "outputs": [],
   "source": [
    "list_of_values = [0, 2, 4, 6, 8, 10]\n",
    "\n",
    "for idx, val in enumerate(list_of_values):\n",
    "    print(idx) # prints the index\n",
    "    print(val) # prints the value at that index"
   ]
  },
  {
   "cell_type": "markdown",
   "id": "8d75169b-decb-4bbd-acc9-804686fd2f74",
   "metadata": {
    "editable": true,
    "slideshow": {
     "slide_type": "slide"
    },
    "tags": []
   },
   "source": [
    "---\n",
    "### Practice Problem    \n",
    "Given the following list of fruits, print off the index and the fruit at that index using a for loop and enumerate\n",
    "```python\n",
    "fruits = ['apple', 'banana', 'pear', 'peach', 'strawberry', 'orange']\n",
    "```\n",
    "\n",
    "format your output as the following:   \n",
    "`The fruit at index _ is _____`"
   ]
  },
  {
   "cell_type": "code",
   "execution_count": null,
   "id": "df19857d-e27b-4a93-9220-cecd3b986a53",
   "metadata": {
    "editable": true,
    "slideshow": {
     "slide_type": "slide"
    },
    "tags": []
   },
   "outputs": [],
   "source": [
    "# your answer here\n",
    "fruits = ['apple', 'banana', 'pear', 'peach', 'strawberry', 'orange']\n",
    "    "
   ]
  },
  {
   "cell_type": "markdown",
   "id": "bce15feb-06a0-4014-ae7e-1127a1931a2f",
   "metadata": {
    "collapsed": false,
    "editable": true,
    "jupyter": {
     "outputs_hidden": false
    },
    "slideshow": {
     "slide_type": "slide"
    },
    "tags": []
   },
   "source": [
    "---\n",
    "## Summary of Key Points:\n",
    "\n",
    "- A `for` loop executes commands once for each value in a collection.\n",
    "- A `for` loop is made up of a collection, a loop variable, and a body.\n",
    "- The first line of the `for` loop must end with a colon, and the body must be indented.\n",
    "- Indentation is always meaningful in Python.\n",
    "- Loop variables can be called anything (but it is strongly advised to have a meaningful name to the looping variable).\n",
    "- The body of a loop can contain many statements.\n",
    "- Use `range` to iterate over a sequence of numbers.\n",
    "- The *accumulator* pattern turns many values into one.\n",
    "- List comprehension is a powerful way to create lists using a `for` loop, in a single line of code."
   ]
  },
  {
   "cell_type": "markdown",
   "id": "a2ac427f-1228-4771-80ca-8ca48d967070",
   "metadata": {
    "editable": true,
    "slideshow": {
     "slide_type": ""
    },
    "tags": []
   },
   "source": [
    "---\n",
    "This notebook was adapted from Aaron J. Newman's [Data Science for Psychology and Neuroscience - in Python](https://neuraldatascience.io/intro.html) and Software Carpentry's [Plotting and Programming in Python](http://swcarpentry.github.io/python-novice-gapminder/) workshop."
   ]
  }
 ],
 "metadata": {
  "kernelspec": {
   "display_name": "Python 3 (ipykernel)",
   "language": "python",
   "name": "python3"
  },
  "language_info": {
   "codemirror_mode": {
    "name": "ipython",
    "version": 3
   },
   "file_extension": ".py",
   "mimetype": "text/x-python",
   "name": "python",
   "nbconvert_exporter": "python",
   "pygments_lexer": "ipython3",
   "version": "3.10.14"
  }
 },
 "nbformat": 4,
 "nbformat_minor": 5
}
