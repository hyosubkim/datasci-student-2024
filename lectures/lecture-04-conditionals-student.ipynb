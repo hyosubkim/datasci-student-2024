{
 "cells": [
  {
   "cell_type": "markdown",
   "id": "b0a6a107-4e9b-4b14-890f-c8166b045051",
   "metadata": {
    "editable": true,
    "slideshow": {
     "slide_type": "slide"
    },
    "tags": []
   },
   "source": [
    "# Conditionals\n",
    "\n",
    "## Questions:\n",
    "- How can programs do different things for different data?\n",
    "\n",
    "## Learning Objectives:\n",
    "- Correctly write programs that use `if` and `else` statements and simple Boolean expressions \n",
    "- Trace the execution of conditionals \n",
    "---\n"
   ]
  },
  {
   "cell_type": "markdown",
   "id": "7521353a-9631-4f81-904f-7adcb270b24b",
   "metadata": {
    "collapsed": false,
    "editable": true,
    "jupyter": {
     "outputs_hidden": false
    },
    "slideshow": {
     "slide_type": "slide"
    },
    "tags": []
   },
   "source": [
    "## Use `if` statements to control whether or not a block of code is executed.\n",
    "\n",
    "*   An `if` statement (more properly called a *conditional* statement)\n",
    "    controls whether some block of code is executed or not.\n",
    "*   Structure is similar to a `for` statement:\n",
    "    *   First line opens with `if` and ends with a colon\n",
    "    *   Body containing one or more statements is indented (usually by 4 spaces)\n",
    "\n",
    "~~~python\n",
    "gdp = 49357\n",
    "\n",
    "if gdp > 10000:\n",
    "    print('With a GDP of', gdp, ', this is a wealthy country')\n",
    "~~~"
   ]
  },
  {
   "cell_type": "markdown",
   "id": "f9d7ee84-2e3e-4a28-a0eb-e26e01c68b5e",
   "metadata": {
    "collapsed": false,
    "editable": true,
    "jupyter": {
     "outputs_hidden": false
    },
    "slideshow": {
     "slide_type": "slide"
    },
    "tags": []
   },
   "source": [
    "## Conditionals are often used inside loops.\n",
    "\n",
    "*   Not much point using a conditional when we know the value (as above).\n",
    "*   But useful when we have a collection to process.\n",
    "\n",
    "~~~python\n",
    "gdp = [5900, 36100, 33700, 7400, 10700]\n",
    "for g in gdp:\n",
    "    if g > 10000:\n",
    "        print(g, 'is wealthy')\n",
    "~~~"
   ]
  },
  {
   "cell_type": "markdown",
   "id": "655ea1b7-ff3b-468d-abfc-a9fb38737794",
   "metadata": {
    "editable": true,
    "slideshow": {
     "slide_type": "slide"
    },
    "tags": []
   },
   "source": [
    "---\n",
    "### Practice Problem  \n",
    "Given the list `x`, loop through the values and print off the value only if it is even.\n",
    "\n",
    "**Hint:** You will probably want to use the modulo operator (which is the symbol `%` in Python) to test whether the remainder is zero after dividing a number $N$ by another number $m$. In this case $N$ is your loop variable, and $m$ would be 2."
   ]
  },
  {
   "cell_type": "code",
   "execution_count": 2,
   "id": "554e8f27-8dc5-4d66-89df-7e357d20163f",
   "metadata": {
    "editable": true,
    "slideshow": {
     "slide_type": "slide"
    },
    "tags": []
   },
   "outputs": [],
   "source": [
    "# your answer here\n",
    "x = [0, 1, 5, 10, 8, 1089, 14, 17, 19, 10]\n"
   ]
  },
  {
   "cell_type": "markdown",
   "id": "740fd123-2237-4884-bc5d-c955fc5242d2",
   "metadata": {
    "collapsed": false,
    "editable": true,
    "jupyter": {
     "outputs_hidden": false
    },
    "slideshow": {
     "slide_type": "slide"
    },
    "tags": []
   },
   "source": [
    "---\n",
    "## Use `else` to execute a block of code when an `if` condition is *not* true.\n",
    "\n",
    "*   `else` can be used following an `if`.\n",
    "*   Allows us to specify an alternative to execute when the `if` *branch* isn't taken.\n",
    "\n",
    "~~~python\n",
    "gdp = [5900, 36100, 33700, 7400, 10700]\n",
    "\n",
    "for g in gdp:\n",
    "    if g > 10000:\n",
    "        print(g, 'is wealthy')\n",
    "    else:\n",
    "        print(g, 'is poor')\n",
    "\n",
    "~~~"
   ]
  },
  {
   "cell_type": "markdown",
   "id": "65970b1c-0641-4099-83c1-e21d7fb04b9e",
   "metadata": {
    "collapsed": false,
    "editable": true,
    "jupyter": {
     "outputs_hidden": false
    },
    "slideshow": {
     "slide_type": "slide"
    },
    "tags": []
   },
   "source": [
    "## Use `elif` to specify additional tests.\n",
    "\n",
    "- May want to provide several alternative choices, each with its own test.\n",
    "- Use `elif` (short for \"else if\") and a condition to specify these.\n",
    "- Must come before the `else` (which is the \"catch-all\")\n",
    "\n",
    "~~~python      \n",
    "gdp = [5900, 36100, 33700, 7400, 10700]\n",
    "\n",
    "for g in gdp:\n",
    "    if g > 30000:\n",
    "        print(g, 'is very wealthy')\n",
    "    elif g > 10000:\n",
    "        print(g, 'is wealthy')\n",
    "    else:\n",
    "        print(g, 'is poor')\n",
    "~~~        "
   ]
  },
  {
   "cell_type": "markdown",
   "id": "a4f9605e-be98-4ebe-a1a6-e456af824687",
   "metadata": {
    "editable": true,
    "slideshow": {
     "slide_type": "slide"
    },
    "tags": []
   },
   "source": [
    "---\n",
    "### Practice Problem   \n",
    "Loop through the list `y`. Square each value in y and store the new value in a variable called `squared` and determine if `squared` is divisible by 5.   \n",
    "Print off in an f-string: `{squared} is divisible by 5` if the output is divisible by 5 and `{squared} is not divisible by 5` if the output is not divisible by 5."
   ]
  },
  {
   "cell_type": "code",
   "execution_count": 4,
   "id": "ee19f192-0105-40f0-a710-ca35119bb5d0",
   "metadata": {
    "editable": true,
    "slideshow": {
     "slide_type": "slide"
    },
    "tags": []
   },
   "outputs": [],
   "source": [
    "# your answer here\n",
    "y = [0, 4, 5, 6, 10, 12, 15, 19, 20, 25, 26, 28]\n"
   ]
  },
  {
   "cell_type": "markdown",
   "id": "a2a55818-f419-4ab6-a5a5-e4dc8c23e1f2",
   "metadata": {
    "collapsed": false,
    "editable": true,
    "jupyter": {
     "outputs_hidden": false
    },
    "slideshow": {
     "slide_type": "slide"
    },
    "tags": []
   },
   "source": [
    "---\n",
    "## Conditions are tested once, in order.\n",
    "\n",
    "- Python steps through the branches of the conditional in order, testing each in turn — so ordering matters!\n",
    "\n",
    "- For example, here is a grading scheme no student would want used:\n",
    "\n",
    "~~~python\n",
    "grade = 85\n",
    "\n",
    "if grade >= 70:\n",
    "    print('grade is C')\n",
    "elif grade >= 80:\n",
    "    print('grade is B')\n",
    "elif grade >= 90:\n",
    "    print('grade is A')\n",
    "~~~\n",
    "\n",
    "- Try out this code with different values of grade and see what happens. Why does it not assign the correct grade?"
   ]
  },
  {
   "cell_type": "code",
   "execution_count": null,
   "id": "17dfc975-e88c-448e-87b5-7f523a239961",
   "metadata": {
    "editable": true,
    "slideshow": {
     "slide_type": "slide"
    },
    "tags": []
   },
   "outputs": [],
   "source": [
    "# try it here\n",
    "grade = 85\n",
    "\n",
    "if grade >= 70:\n",
    "    print('grade is C')\n",
    "elif grade >= 80:\n",
    "    print('grade is B')\n",
    "elif grade >= 90:\n",
    "    print('grade is A')\n",
    "    "
   ]
  },
  {
   "cell_type": "markdown",
   "id": "a1556e81-be0d-4271-81d2-50a31bdeb434",
   "metadata": {
    "collapsed": false,
    "editable": true,
    "jupyter": {
     "outputs_hidden": false
    },
    "slideshow": {
     "slide_type": "slide"
    },
    "tags": []
   },
   "source": [
    "## We often use conditionals in a loop to modify the values of variables\n",
    "\n",
    "```python\n",
    "velocity = 5.0\n",
    "for i in range(5): # execute the loop 5 times\n",
    "    print('Step', i, ':', velocity)\n",
    "    if velocity > 20.0:\n",
    "        print('Moving too fast')\n",
    "        velocity = velocity - 5.0\n",
    "    elif velocity < 20.0:\n",
    "        print('Moving too slow')\n",
    "        velocity = velocity + 10.0\n",
    "    else:\n",
    "        print('Optimal speed')\n",
    "```"
   ]
  },
  {
   "cell_type": "markdown",
   "id": "fa4a5d55-5a89-465a-ae5d-c6f208595b57",
   "metadata": {
    "collapsed": false,
    "editable": true,
    "jupyter": {
     "outputs_hidden": false
    },
    "slideshow": {
     "slide_type": ""
    },
    "tags": []
   },
   "source": [
    "To trace execution, we can create a table showing the values of `i` and `velocity` each time through the loop:\n",
    "\n",
    "| **i** | **velocity** |\n",
    "|-------|--------------|\n",
    "| -     | 5           |\n",
    "| 0     | 5           |\n",
    "| 1     | 15           |\n",
    "| 2     | 25           |\n",
    "| 3     | 20           |\n",
    "| 4     | 20           |\n"
   ]
  },
  {
   "cell_type": "markdown",
   "id": "28ceb62f-f4e8-4b6e-b728-99200bf3d9cc",
   "metadata": {
    "editable": true,
    "slideshow": {
     "slide_type": "slide"
    },
    "tags": []
   },
   "source": [
    "---\n",
    "### Practice problem\n",
    "Modify the loop that modifes the velocity to make the following changes:\n",
    "- Increase the velocity by 7 when it is slower than 20\n",
    "- Decrease the velocity by 10 when it is faster than 25\n",
    "- When it is within the optimal range, increase the velocity by 1"
   ]
  },
  {
   "cell_type": "code",
   "execution_count": 6,
   "id": "64389561-a332-4c39-899e-c62382aba31c",
   "metadata": {
    "editable": true,
    "slideshow": {
     "slide_type": "slide"
    },
    "tags": []
   },
   "outputs": [],
   "source": [
    "velocity = 5.0\n"
   ]
  },
  {
   "cell_type": "markdown",
   "id": "ba7f3f54-4270-46c5-b98b-82b923d53877",
   "metadata": {
    "collapsed": false,
    "editable": true,
    "jupyter": {
     "outputs_hidden": false
    },
    "slideshow": {
     "slide_type": "slide"
    },
    "tags": []
   },
   "source": [
    "---\n",
    "## Compound Relations Using `and`, & `or`\n",
    "\n",
    "- Often, you want to check if some *combination* of things is true.\n",
    "- You can combine relations within a conditional using `and` and `or`.\n",
    "- Here's an example with the size of the planet and its corresponding biodiversity.\n",
    "- In this example, `pop` is short for the population of all living creatures found on the planet (our imaginary space travelers have very advanced measurement devices for counting such things!).\n",
    "- Let's define an \"interest\" index for planets whereby a planet is considered \"Very interesting\" if it is large (size > 10,000) and biodiverse (pop > 10 m); \"interesting\" if it is large *or* biodiverse (but not both); 'or \"not interesting\" if it is neither large nor biodiverse (for some reason, our explorers are biased towards big planets populated by many living creatures). \n",
    "\n",
    "\n",
    "~~~python\n",
    "size = [5900, 36100, 33700, 7400, 10700, 27538, 36180, 6557]\n",
    "pop = [3.6,    8.2,  10.4,  4.6,   10.1,  10.7,   0.3,  0.7]\n",
    "\n",
    "for i in range(8):\n",
    "    if pop[i] > 10.0 and size[i] > 10000:\n",
    "        print('planet is very interesting')\n",
    "    elif pop[i] > 10.0 or size[i] > 10000:\n",
    "        print('planet is interesting')\n",
    "    else:\n",
    "        print('planet is not interesting')\n",
    "~~~"
   ]
  },
  {
   "cell_type": "markdown",
   "id": "88859980-aaf8-4306-b4a8-ae777e8f3304",
   "metadata": {
    "collapsed": false,
    "editable": true,
    "jupyter": {
     "outputs_hidden": false
    },
    "slideshow": {
     "slide_type": "slide"
    },
    "tags": []
   },
   "source": [
    "Sometimes you may want to combine multiple `and`/`or` statements. For example, continuing the example above, we could define further nuance whereby a planet could be considered \"very interesting\" if has a population > 10 m *and* it is larger than > 10,000 *or* if it has a size > 30,000 regardless of its population size. We could re-write the first conditional statement from the above example as:\n",
    "\n",
    "~~~python\n",
    "if pop[i] > 10.0 and size[i] > 10000 or size[i] > 30000:\n",
    "    print('planet is very interesting')\n",
    "~~~\n",
    "\n",
    "However, this is potentially ambiguous — it could mean either:\n",
    "\n",
    "- *if population is > 10 and the size is either > 10,000 or > 30,000* \n",
    "- i.e., `if pop[i] > 10.0 and (size[i] > 10000 or size[i] > 30000)`\n",
    "\n",
    "or \n",
    "\n",
    "- *if the population is > 10 and the size is > 10,000, or, if the size is > 30,000*\n",
    "- i.e., `(if pop[i] > 10.0 and size[i] > 10000) or size[i] > 30000`\n",
    "\n",
    "Of the above two examples, only the second meets our new definition of \"very interesting\". The first example will fail because it only tests if size > 30,000 if population is > 10.\n",
    "\n",
    "Python has a precedence order (\"order of operations\") whereby it evaluates `and` before `or`. However, just like with arithmetic, you can and should use parentheses (as in the code examples above)whenever there is possible ambiguity.  A good general rule is to *always* use parentheses when mixing `and` and `or` in the same condition.  "
   ]
  },
  {
   "cell_type": "markdown",
   "id": "eec66ea8-fb5d-40fa-800b-01bd7e605810",
   "metadata": {
    "editable": true,
    "slideshow": {
     "slide_type": "slide"
    },
    "tags": []
   },
   "source": [
    "---\n",
    "### Practice Problem   \n",
    "Fizz Buzz!\n",
    "\n",
    "Write a short program that prints each number from 1 to 100 on a new line:\n",
    "\n",
    "- For each multiple of 3, print “Fizz” instead of the number.   \n",
    "- For each multiple of 5, print “Buzz” instead of the number.  \n",
    "- For numbers which are multiples of both 3 and 5, print “Fizz Buzz” instead of the number.  \n",
    "\n",
    "**Hint:** You will probably want to use the modulo operator (which is the symbol `%` in Python) to test whether the remainder is zero after dividing a number $N$ by another number $m$. Your program should produce output like this:\n",
    "\n"
   ]
  },
  {
   "cell_type": "markdown",
   "id": "071582e5-e02d-4e5c-a265-b9ee2109990a",
   "metadata": {
    "editable": true,
    "slideshow": {
     "slide_type": ""
    },
    "tags": []
   },
   "source": [
    "```\n",
    "1  \n",
    "2  \n",
    "Fizz  \n",
    "4  \n",
    "Buzz  \n",
    "Fizz  \n",
    "7  \n",
    "8  \n",
    "Fizz  \n",
    "Buzz  \n",
    "11  \n",
    "Fizz  \n",
    "13  \n",
    "14  \n",
    "Fizz Buzz  \n",
    "16  \n",
    "...\n",
    "```"
   ]
  },
  {
   "cell_type": "code",
   "execution_count": 8,
   "id": "9531e243-e6af-41b1-8942-399f60799816",
   "metadata": {
    "editable": true,
    "slideshow": {
     "slide_type": "slide"
    },
    "tags": []
   },
   "outputs": [],
   "source": [
    "# your answer here\n"
   ]
  },
  {
   "cell_type": "markdown",
   "id": "d22a4b5d-681e-40a2-a91d-1f920f55ab63",
   "metadata": {
    "editable": true,
    "slideshow": {
     "slide_type": "slide"
    },
    "tags": []
   },
   "source": [
    "---\n",
    "### Practice Problem  \n",
    "Is it prime?\n",
    "\n",
    "Write a short program that determines whether a number $N$ is a prime number. Remember, a prime number is a natural number greater than 1 that is only divisible with zero remainder by the number 1 and itself. The first few prime numbers are 2, 3, 5, 7, 11, 13, 17, 19, 23, 29,...\n",
    "\n",
    "Don't worry about implementing a fancy algorithm for testing primeness. For now, it’s ok to implement a simple brute force method. And to simplify things, only positive integer values are allowed to be used for testing. Do not use a function you find on the internet or a built-in function to test primeness. *The purpose of this exercise is for you to write your own code.*\n",
    "\n",
    "Your program should run like so:"
   ]
  },
  {
   "cell_type": "markdown",
   "id": "bf4cd738-669f-4b8c-ab35-09f544f78ec6",
   "metadata": {},
   "source": [
    "```\n",
    "Enter a number: 7  \n",
    "The number 7 is prime.\n",
    "```"
   ]
  },
  {
   "cell_type": "markdown",
   "id": "f58ce95a-a6c2-48aa-aaa1-001ba9acf96d",
   "metadata": {},
   "source": [
    "and:"
   ]
  },
  {
   "cell_type": "markdown",
   "id": "ba48260d-4f4b-428e-9cfa-3dc9b5efeddd",
   "metadata": {},
   "source": [
    "```\n",
    "Enter a number: 12  \n",
    "The number 12 is not prime.\n",
    "```"
   ]
  },
  {
   "cell_type": "code",
   "execution_count": 14,
   "id": "813ab85a-b321-4b1f-b1d9-85fe29ec43b7",
   "metadata": {
    "editable": true,
    "slideshow": {
     "slide_type": "slide"
    },
    "tags": []
   },
   "outputs": [
    {
     "name": "stdin",
     "output_type": "stream",
     "text": [
      "Enter a number:  110\n"
     ]
    },
    {
     "name": "stdout",
     "output_type": "stream",
     "text": [
      "The number 110 is not prime.\n"
     ]
    }
   ],
   "source": [
    "# your answer here\n"
   ]
  },
  {
   "cell_type": "markdown",
   "id": "02837ebf-ae16-4714-87c1-3c50cd0a759b",
   "metadata": {
    "editable": true,
    "slideshow": {
     "slide_type": "slide"
    },
    "tags": []
   },
   "source": [
    "---\n",
    "### Practice Problem   \n",
    "Using the list `random_values` which contains 1000 random values between 1 and 100, use a for loop and conditional statements to sort these numbers into 4 quartiles (i.e., 4 equal-sized bins that are separated based on their values). The first quartile will contain the lowest 25% of values, the second quartile will contain values that are greater than 25-50% of all values, etc. Some starter code and hints have been provided. "
   ]
  },
  {
   "cell_type": "code",
   "execution_count": null,
   "id": "e2374e02-daaa-40bb-a0c6-ecbe817aa7f1",
   "metadata": {
    "editable": true,
    "slideshow": {
     "slide_type": "slide"
    },
    "tags": []
   },
   "outputs": [],
   "source": [
    "import numpy as np\n",
    "# Generating a list of 1000 random numbers between 1 and 100\n",
    "random_values = np.random.uniform(1, 100, size=1000).tolist()\n",
    "\n",
    "# Initialize lists for each quartile\n",
    "\n",
    "\n",
    "# Sort the random_values list\n",
    "sorted_values = sorted(random_values)\n",
    "\n",
    "# Find the quartile boundaries\n",
    "\n",
    "\n",
    "# Sort values into quartiles (As an exercise, do NOT use sorted_values here)\n",
    "for value in random_values:\n",
    "    \n",
    "\n",
    "# Print results\n"
   ]
  },
  {
   "cell_type": "markdown",
   "id": "e3f9e502-3b90-40bd-9709-1f763be26b0f",
   "metadata": {
    "collapsed": false,
    "editable": true,
    "jupyter": {
     "outputs_hidden": false
    },
    "slideshow": {
     "slide_type": "slide"
    },
    "tags": []
   },
   "source": [
    "---\n",
    "## Summary of Key Points:\n",
    "- Use `if` statements to control whether or not a block of code is executed.\n",
    "- Conditionals are often used inside loops.\n",
    "- Use `else` to execute a block of code when an `if` condition is *not* true.\n",
    "- Use `elif` to specify additional tests.\n",
    "- Conditions are tested once, in order."
   ]
  },
  {
   "cell_type": "markdown",
   "id": "29f55970-c47c-42fd-9d1d-df6880dfe377",
   "metadata": {
    "editable": true,
    "slideshow": {
     "slide_type": ""
    },
    "tags": []
   },
   "source": [
    "---\n",
    "This notebook was adapted from Aaron J. Newman's [Data Science for Psychology and Neuroscience - in Python](https://neuraldatascience.io/intro.html) and Software Carpentry's [Plotting and Programming in Python](http://swcarpentry.github.io/python-novice-gapminder/) workshop."
   ]
  }
 ],
 "metadata": {
  "kernelspec": {
   "display_name": "Python 3 (ipykernel)",
   "language": "python",
   "name": "python3"
  },
  "language_info": {
   "codemirror_mode": {
    "name": "ipython",
    "version": 3
   },
   "file_extension": ".py",
   "mimetype": "text/x-python",
   "name": "python",
   "nbconvert_exporter": "python",
   "pygments_lexer": "ipython3",
   "version": "3.10.14"
  }
 },
 "nbformat": 4,
 "nbformat_minor": 5
}
