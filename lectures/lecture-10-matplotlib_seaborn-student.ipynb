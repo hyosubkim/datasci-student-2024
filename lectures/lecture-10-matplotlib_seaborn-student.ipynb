{
 "cells": [
  {
   "cell_type": "markdown",
   "id": "68dec838-c86c-4306-b9e4-7064d0ec35ff",
   "metadata": {
    "editable": true,
    "slideshow": {
     "slide_type": "slide"
    },
    "tags": []
   },
   "source": [
    "# Combining matplotlib and seaborn\n",
    "### Learning Objectives\n",
    "- Learn to plot time series data\n",
    "- Combine matplotlib with seaborn plots"
   ]
  },
  {
   "cell_type": "code",
   "execution_count": null,
   "id": "9e15f97f-e61c-40f2-9816-edcad47d212d",
   "metadata": {
    "editable": true,
    "slideshow": {
     "slide_type": "slide"
    },
    "tags": []
   },
   "outputs": [],
   "source": [
    "# imports\n",
    "import pandas as pd\n",
    "import matplotlib.pyplot as plt\n",
    "import seaborn as sns\n",
    "import numpy as np"
   ]
  },
  {
   "cell_type": "markdown",
   "id": "f7ebad80-bdd2-4d54-9e6e-b4719be43eb5",
   "metadata": {
    "editable": true,
    "slideshow": {
     "slide_type": "slide"
    },
    "tags": []
   },
   "source": [
    "---\n",
    "# Plotting time series data\n",
    "- Triphasic EMG\n",
    "- When people make rapid single joint movements (elbow extension for example), we see a typical EMG pattern known as a triphasic burst. This burst follows the pattern of agonist $\\rightarrow$ antagonist $\\rightarrow$ agonist.\n",
    "- In our example data set, the order will go biceps $\\rightarrow$ triceps $\\rightarrow$ biceps"
   ]
  },
  {
   "cell_type": "markdown",
   "id": "f1c07ba3-1f95-4726-8c9a-d6085f7c6d23",
   "metadata": {
    "editable": true,
    "slideshow": {
     "slide_type": "slide"
    },
    "tags": []
   },
   "source": [
    "---\n",
    "### Task 1\n",
    "- Load the data file 'emg_data.csv' in the data folder as a dataframe.\n",
    "- Take a look at the data and figure out what you have."
   ]
  },
  {
   "cell_type": "code",
   "execution_count": null,
   "id": "61ad467a-7255-4aa2-bd85-0c02f0b6d503",
   "metadata": {
    "editable": true,
    "slideshow": {
     "slide_type": "slide"
    },
    "tags": []
   },
   "outputs": [],
   "source": [
    "# Your answer here\n"
   ]
  },
  {
   "cell_type": "markdown",
   "id": "b14d37e5-a37f-49e5-8b64-d5f206d44735",
   "metadata": {
    "editable": true,
    "slideshow": {
     "slide_type": "slide"
    },
    "tags": []
   },
   "source": [
    "---\n",
    "### Task 2\n",
    "- Our data was collected at 1000 Hz, which means each data point is 1 ms from each other.\n",
    "- Create a new column in the dataframe that represents time in seconds (not ms)."
   ]
  },
  {
   "cell_type": "code",
   "execution_count": null,
   "id": "71ca1888-7612-4dff-a28e-e4027f11a2bb",
   "metadata": {
    "editable": true,
    "slideshow": {
     "slide_type": "slide"
    },
    "tags": []
   },
   "outputs": [],
   "source": [
    "# your answer here"
   ]
  },
  {
   "cell_type": "markdown",
   "id": "e5071c26-7a09-4c86-b838-d5c9f34f7aa3",
   "metadata": {
    "editable": true,
    "slideshow": {
     "slide_type": "slide"
    },
    "tags": []
   },
   "source": [
    "---\n",
    "### Task 3\n",
    "- First we are going to rectify the EMG. To do this, you want to take the absolute value of the signal. You can use the numpy function `abs` to do this. Create two new columns in the dataframe to represent this data.\n",
    "- Now that your EMG is rectified, plot your biceps and triceps EMG signals against time using matplotlib on separate subplots.\n",
    "- Create appropriate titles and axes. Note, EMG is expressed in Volts.\n",
    "- Repeat this plotting process, but instead of using matplotlib to make the plot, use seaborn. Note, you should still use matplotlib to create the figure and axes for your subplots, only use seaborn to plot the data on the axes. (https://seaborn.pydata.org/generated/seaborn.lineplot.html)"
   ]
  },
  {
   "cell_type": "code",
   "execution_count": null,
   "id": "1777864c-e75f-41b0-985a-88cc77fb63dd",
   "metadata": {
    "editable": true,
    "slideshow": {
     "slide_type": "slide"
    },
    "tags": []
   },
   "outputs": [],
   "source": [
    "# rectify data here\n"
   ]
  },
  {
   "cell_type": "code",
   "execution_count": null,
   "id": "0fd5e0f8-1404-4dce-834b-6826e1963332",
   "metadata": {
    "editable": true,
    "slideshow": {
     "slide_type": "slide"
    },
    "tags": []
   },
   "outputs": [],
   "source": [
    "# matplotlib answer here\n"
   ]
  },
  {
   "cell_type": "code",
   "execution_count": null,
   "id": "bb1d7717-016b-44dd-8868-38195fd98936",
   "metadata": {
    "editable": true,
    "slideshow": {
     "slide_type": "slide"
    },
    "tags": []
   },
   "outputs": [],
   "source": [
    "# seaborn answer here\n"
   ]
  },
  {
   "cell_type": "markdown",
   "id": "b507f334-c877-48d6-9e31-80a5c6241b0e",
   "metadata": {
    "editable": true,
    "slideshow": {
     "slide_type": "slide"
    },
    "tags": []
   },
   "source": [
    "---\n",
    "### Task 4:\n",
    "- It can be hard to see the pattern like this. Let's plot them on the same axis. Figure out a creative way to visualize both the biceps and triceps EMG data to visualize the biceps $\\rightarrow$ triceps $\\rightarrow$ biceps pattern"
   ]
  },
  {
   "cell_type": "code",
   "execution_count": null,
   "id": "951931af-ad68-4da0-9612-17a4b8709f51",
   "metadata": {
    "editable": true,
    "slideshow": {
     "slide_type": "slide"
    },
    "tags": []
   },
   "outputs": [],
   "source": [
    "# your answer here"
   ]
  },
  {
   "cell_type": "markdown",
   "id": "b54fc65c-d239-4cd5-ac4f-0e37dba9219e",
   "metadata": {
    "editable": true,
    "slideshow": {
     "slide_type": "slide"
    },
    "tags": []
   },
   "source": [
    "---\n",
    "# Back to our adaptation data set\n",
    "<img src=\"../images/function_overview_8_0.png\" width=\"500\" height=\"300\">   \n",
    "\n",
    "- Previously, we have focused on the figure level graphics. Now we will focus on using the axis level plots and combine it with matplotlib as we did above."
   ]
  },
  {
   "cell_type": "markdown",
   "id": "52b871b3-9537-4b64-bde9-671e60528479",
   "metadata": {
    "editable": true,
    "slideshow": {
     "slide_type": "slide"
    },
    "tags": []
   },
   "source": [
    "---\n",
    "### Task 1\n",
    "- Load the adaptation data set and look at a random sample of 7 participants."
   ]
  },
  {
   "cell_type": "code",
   "execution_count": null,
   "id": "a9a91152-6f57-400e-a3d0-9458aadf2e4c",
   "metadata": {
    "editable": true,
    "slideshow": {
     "slide_type": "slide"
    },
    "tags": []
   },
   "outputs": [],
   "source": [
    "# Your answer here\n"
   ]
  },
  {
   "cell_type": "markdown",
   "id": "07d0b453-a355-4ebb-a2dd-8cd58065b9e4",
   "metadata": {
    "editable": true,
    "slideshow": {
     "slide_type": "slide"
    },
    "tags": []
   },
   "source": [
    "---\n",
    "### Task 2\n",
    "- Make a histogram to look at the distributions of the following variables. The plots should all be on one figure, with separate subplots.\n",
    "1. Adaptation\n",
    "1. Age\n",
    "1. Sleep\n",
    "- Add appropriate titles and labels\n",
    "- What do you think of these distributions?"
   ]
  },
  {
   "cell_type": "code",
   "execution_count": null,
   "id": "78b20e96-3712-42c6-bb0d-de729a5a21d3",
   "metadata": {
    "editable": true,
    "slideshow": {
     "slide_type": "slide"
    },
    "tags": []
   },
   "outputs": [],
   "source": [
    "# Your answer here\n",
    "\n"
   ]
  },
  {
   "cell_type": "markdown",
   "id": "9ef71e9a-5fdb-40ed-a643-bd84ba3f99e7",
   "metadata": {
    "editable": true,
    "slideshow": {
     "slide_type": "slide"
    },
    "tags": []
   },
   "source": [
    "---\n",
    "### Task 3\n",
    "- Create a joint plot to examine the relationsip between age and adaptation, with sex as different colours.\n",
    "- Look at the documentation and determine if this is a figure level or axis level function.\n",
    "    - https://seaborn.pydata.org/generated/seaborn.jointplot.html\n",
    "- How do you interpret a plot like this?"
   ]
  },
  {
   "cell_type": "code",
   "execution_count": null,
   "id": "dbc2a4cd-4869-4635-80f0-abf0ca3e757f",
   "metadata": {
    "editable": true,
    "slideshow": {
     "slide_type": "slide"
    },
    "tags": []
   },
   "outputs": [],
   "source": [
    "# your answer here"
   ]
  },
  {
   "cell_type": "markdown",
   "id": "e622e054-c18d-4da2-9c8c-f27c89c868b3",
   "metadata": {
    "editable": true,
    "slideshow": {
     "slide_type": "slide"
    },
    "tags": []
   },
   "source": [
    "---\n",
    "### Task 4\n",
    "- Create a visualization of the adaptation results that demonstrates the effect of 3 variables of your choice on the level of adaptation. You should not use the figure level plots, and use a combination of matplotlib and seaborn.\n",
    "- Your visualization should show a measure of the central tendency and some way to demonstrate the distribution of data around that central tendency measure. Hint: you may want to combine multiple plots on the same axis.\n",
    "- Note: this visualization should all be in one single figure, with subplots."
   ]
  },
  {
   "cell_type": "code",
   "execution_count": null,
   "id": "f0fdc9cb-528c-430d-83df-619460885739",
   "metadata": {
    "editable": true,
    "slideshow": {
     "slide_type": "slide"
    },
    "tags": []
   },
   "outputs": [],
   "source": [
    "# Your answer here\n"
   ]
  }
 ],
 "metadata": {
  "kernelspec": {
   "display_name": "Python 3 (ipykernel)",
   "language": "python",
   "name": "python3"
  },
  "language_info": {
   "codemirror_mode": {
    "name": "ipython",
    "version": 3
   },
   "file_extension": ".py",
   "mimetype": "text/x-python",
   "name": "python",
   "nbconvert_exporter": "python",
   "pygments_lexer": "ipython3",
   "version": "3.10.14"
  }
 },
 "nbformat": 4,
 "nbformat_minor": 5
}
