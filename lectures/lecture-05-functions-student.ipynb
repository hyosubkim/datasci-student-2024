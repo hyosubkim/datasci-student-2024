{
 "cells": [
  {
   "cell_type": "markdown",
   "id": "8d9add63-025c-46dd-8a24-6eba91123487",
   "metadata": {
    "editable": true,
    "slideshow": {
     "slide_type": ""
    },
    "tags": []
   },
   "source": [
    "# Writing Functions\n",
    "## Pre-readings:\n",
    "- Chapter 3: Writing Functions\n",
    "\n",
    "## Objectives:\n",
    "- Explain and identify the difference between function definition and function call.\n",
    "- Write a function that takes a small, fixed number of arguments and produces a single result.\n",
    "\n",
    "## Keypoints:\n",
    "- Break programs down into functions to make them easier to understand.\n",
    "- Define a function using `def` with a name, parameters, and a block of code.\n",
    "- Defining a function does not run (execute) it.\n",
    "- Arguments in a function call are matched to its defined parameters.\n",
    "- Functions may return a result to their caller using `return`.\n",
    "---"
   ]
  },
  {
   "cell_type": "markdown",
   "id": "dd6ae176-6704-4a2f-bd9d-a8e235c8b361",
   "metadata": {
    "editable": true,
    "slideshow": {
     "slide_type": "slide"
    },
    "tags": []
   },
   "source": [
    "# A motivating example \n",
    "- Let's work through a small example.  Suppose we find ourselves repeatedly needing to compute the average of three numbers.  So, at many places in our code, we have expressions like:\n",
    "\n",
    "```python\n",
    "(2 + 3 + 4) / 3\n",
    "(-1 + 7 + 5) / 3\n",
    "(2 + 12 + 3) / 3\n",
    "```\n",
    "\n",
    "- Note that these expressions are similar. They all look like:  \n",
    "\n",
    "$$\\dfrac{(\\alpha + \\beta + \\gamma)}{3}$$  \n",
    "\n",
    "- where I've simply used Greek letters as placeholders for numbers. Having identified these placeholders (or \"points of variation\") in the expressions above, we can define a function that takes a value for each of these placeholders as input. In Python, we use `def` to define a new function: "
   ]
  },
  {
   "cell_type": "code",
   "execution_count": 1,
   "id": "19f6e57c-81f8-4f11-9b63-a7df355a92e9",
   "metadata": {
    "editable": true,
    "slideshow": {
     "slide_type": ""
    },
    "tags": []
   },
   "outputs": [],
   "source": [
    "def average_of_three(a, b, c):\n",
    "    return (a + b + c) / 3"
   ]
  },
  {
   "cell_type": "markdown",
   "id": "35822f2b-42ec-44f2-9e88-f92fd177afb5",
   "metadata": {
    "editable": true,
    "slideshow": {
     "slide_type": "slide"
    },
    "tags": []
   },
   "source": [
    "- Here, `a`, `b`, and `c` are called *parameters* - think of a parameter as a kind of variable that is assigned a value when the function is called.  The function body is all the code (in this case, just one line) that is indented after the first.  Note that in this case it returns the average of the values of `a`, `b`, and `c`.\n",
    "\n",
    "- We call a function using its name followed by a value for each of the parameters that the function expects:\n",
    "```python\n",
    "average_of_three(-1, 7, 6)\n",
    "```\n",
    "- When we evaluate this expression, the value -1 is assigned to the parameter `a`, 7 to `b`, and 5 to `c`. We then evaluate the body of the function:\n",
    "```python\n",
    "return (-1 + 7 + 6) / 3\n",
    "```\n",
    "\n",
    "- which returns the value 4 to the point in the code at which the function was called.  Note that the body of a function is not evaluated unless the function is called. \n",
    "\n",
    "- `return` is a special keyword in Python. If there is a value to the right of the keyword, that value is returned to the function's caller. If there is no value to the right of the keyword return, the special value `None` is returned to the function's caller. When a return statement is executed in Python, its value (or None) is returned to the function's caller immediately and no further lines of code in the function are executed.\n"
   ]
  },
  {
   "cell_type": "code",
   "execution_count": 2,
   "id": "c4d9a12d-977b-4c49-b572-da8544e895a6",
   "metadata": {
    "editable": true,
    "slideshow": {
     "slide_type": ""
    },
    "tags": []
   },
   "outputs": [
    {
     "name": "stdout",
     "output_type": "stream",
     "text": [
      "15.666666666666666\n"
     ]
    }
   ],
   "source": [
    "answer = average_of_three(10, 15, 22)\n",
    "print(answer)"
   ]
  },
  {
   "cell_type": "markdown",
   "id": "40b8e4dd-89f8-4c98-88f2-ab1ec52f7e43",
   "metadata": {
    "editable": true,
    "slideshow": {
     "slide_type": "slide"
    },
    "tags": []
   },
   "source": [
    "---\n",
    "## Another example\n",
    "Suppose we ran an experiment that involved someone reaching to a target. We ended up with a bunch of error scores and we want to calculate the mean of them. It would be repetitive to write out the code to do this for every participant and condition, we will write a function to do it for us. "
   ]
  },
  {
   "cell_type": "code",
   "execution_count": null,
   "id": "5e724871-20aa-48c9-a869-d3cf27d40ce6",
   "metadata": {
    "editable": true,
    "slideshow": {
     "slide_type": ""
    },
    "tags": []
   },
   "outputs": [],
   "source": [
    "condition_1_error = [0.1, 0.5, 2.0, 4.0, 0.7, 1.2, -0.6, 5.9, 3.3, 1.2]\n",
    "condition_2_error = [-1.0, -0.2, 0.5, -3.0, -1.5, 0.8, -.2, 0.1, -3.0, -0.8]\n",
    "\n",
    "def calculate_mean(values):\n",
    "    sums = 0\n",
    "    for val in values:\n",
    "        sums += val\n",
    "    sums /= len(values)\n",
    "    return sums\n",
    "\n",
    "mean_1 = calculate_mean(condition_1_error)\n",
    "mean_2 = calculate_mean(condition_2_error)\n",
    "mean_1, mean_2"
   ]
  },
  {
   "cell_type": "markdown",
   "id": "2ce42fe3-c638-419f-8cf1-2ec8dbbeaf51",
   "metadata": {
    "editable": true,
    "slideshow": {
     "slide_type": "slide"
    },
    "tags": []
   },
   "source": [
    "Walk your way through the code and be sure you can identify the following:\n",
    "1. The parameter(s)\n",
    "2. The function body\n",
    "3. The output\n"
   ]
  },
  {
   "cell_type": "markdown",
   "id": "07930764-5dfb-4b69-b447-aae9667961f8",
   "metadata": {
    "editable": true,
    "slideshow": {
     "slide_type": "slide"
    },
    "tags": []
   },
   "source": [
    "---\n",
    "### Practice Problem\n",
    "- Summing function.\n",
    "- Write a function called `summing()` that takes a list of numbers as input and returns the sum of all the numbers.  Use a `for` loop to do this.\n",
    "\n",
    "```\n",
    "summing([1, 2, 3]) → 6\n",
    "summing([5, 11, 2]) → 18\n",
    "summming([7, 0, 0]) → 7\n",
    "```"
   ]
  },
  {
   "cell_type": "code",
   "execution_count": 4,
   "id": "2261e96a-bb3f-47ca-b5d2-40fe5e8c5890",
   "metadata": {
    "editable": true,
    "slideshow": {
     "slide_type": "slide"
    },
    "tags": []
   },
   "outputs": [],
   "source": [
    "# your answer here\n"
   ]
  },
  {
   "cell_type": "markdown",
   "id": "d15921e1-1586-4f47-b49a-d22e6c9819aa",
   "metadata": {
    "editable": true,
    "slideshow": {
     "slide_type": "slide"
    },
    "tags": []
   },
   "source": [
    "---\n",
    "### Practice Problem\n",
    "- Create a function that computes the average of a list of values.\n",
    "- Use the summing function you produced in the previous step to do this."
   ]
  },
  {
   "cell_type": "code",
   "execution_count": null,
   "id": "89361ae3-b736-4e7b-9e33-8077add5b9df",
   "metadata": {
    "editable": true,
    "slideshow": {
     "slide_type": "slide"
    },
    "tags": []
   },
   "outputs": [],
   "source": [
    "# your answer here\n"
   ]
  },
  {
   "cell_type": "markdown",
   "id": "2b288036-1812-42a8-bb13-fd29f025aa46",
   "metadata": {
    "editable": true,
    "slideshow": {
     "slide_type": "slide"
    },
    "tags": []
   },
   "source": [
    "---\n",
    "### Practice Problem\n",
    "Given an array length 1 or more of ints, return the difference between the largest and smallest values in the array. Hint: You can use the built-in `min` and `max` functions.\n",
    "\n",
    "```\n",
    "big_diff([10, 3, 5, 6])  # Should return 7\n",
    "big_diff([7, 2, 10, 9])  # Should return 8\n",
    "big_diff([2, 10, 7, 2])  # Should return 8\n",
    "```"
   ]
  },
  {
   "cell_type": "code",
   "execution_count": null,
   "id": "d3555123-cf66-4428-871a-a816ebd144d4",
   "metadata": {
    "editable": true,
    "slideshow": {
     "slide_type": "slide"
    },
    "tags": []
   },
   "outputs": [],
   "source": [
    "# your answer here\n"
   ]
  },
  {
   "cell_type": "markdown",
   "id": "4370d066-d6e9-4715-aba7-3d08380a7b41",
   "metadata": {
    "editable": true,
    "slideshow": {
     "slide_type": "slide"
    },
    "tags": []
   },
   "source": [
    "---\n",
    "# Functions can return multiple outputs\n",
    "- In the previous examples the functions only returned a single value, but in python it can return multiple\n",
    "- For example we can make a function that returns the highest and lowest values in a list\n",
    "\n",
    "```python\n",
    "def max_and_min(values):\n",
    "    return min(values), max(values)\n",
    "```\n",
    "- You can get both the outputs as followed\n",
    "```python\n",
    "minimum, maximum = max_and_min(values)\n",
    "```"
   ]
  },
  {
   "cell_type": "markdown",
   "id": "8a71f20d-2248-4185-97f4-39e55d9fbcb0",
   "metadata": {
    "editable": true,
    "slideshow": {
     "slide_type": "slide"
    },
    "tags": []
   },
   "source": [
    "---\n",
    "### Practice Problem:\n",
    "- Create a function that takes a list as an input and returns the mean and range of the list.\n",
    "- Use the functions you have created previously in this function."
   ]
  },
  {
   "cell_type": "code",
   "execution_count": null,
   "id": "1587c260-0e8c-4d14-9722-432f275c8418",
   "metadata": {
    "editable": true,
    "slideshow": {
     "slide_type": "slide"
    },
    "tags": []
   },
   "outputs": [],
   "source": [
    "# your answer here\n"
   ]
  },
  {
   "cell_type": "markdown",
   "id": "7d440f55-94cb-48c4-acd1-1da4b1d0ad80",
   "metadata": {
    "editable": true,
    "slideshow": {
     "slide_type": "slide"
    },
    "tags": []
   },
   "source": [
    "---\n",
    "### Practice Problem:\n",
    "- Create a function that takes in a list of final grades as percentages and returns a list of corresponding letter grades.\n",
    "- Use the following grading scheme:   \n",
    "A: > 90   \n",
    "B: 80 - 90   \n",
    "C: 70 - 80   \n",
    "D: 60 - 70   \n",
    "F: < 60   "
   ]
  },
  {
   "cell_type": "code",
   "execution_count": null,
   "id": "f16a546a-5e67-4a43-aa35-4650cbe8c700",
   "metadata": {
    "editable": true,
    "slideshow": {
     "slide_type": "slide"
    },
    "tags": []
   },
   "outputs": [],
   "source": [
    "# your answer here\n",
    "\n",
    "\n",
    "\n",
    "# Now test your function on these grades\n",
    "grades = [\n",
    "    85.5, 92.0, 78.3, 89.7, 95.2,\n",
    "    76.8, 88.1, 91.5, 82.4, 97.0,\n",
    "    79.6, 86.3, 90.8, 74.2, 93.7,\n",
    "    87.9, 83.5, 96.1, 80.0, 94.5\n",
    "]\n"
   ]
  },
  {
   "cell_type": "markdown",
   "id": "893a7824-f356-4d8d-8265-34f3a712f17f",
   "metadata": {
    "editable": true,
    "slideshow": {
     "slide_type": "slide"
    },
    "tags": []
   },
   "source": [
    "## Summary: Define a function using `def` with a name, parameters, and a block of code.\n",
    "\n",
    "*   Begin the definition of a new function with `def`.\n",
    "*   `def` is then followed by the name of the function.\n",
    "    *   Must obey the same rules as variable names.\n",
    "*   Then *parameters* in parentheses.\n",
    "    *   Empty parentheses if the function doesn't take any inputs.\n",
    "    *   We will discuss this in detail in a moment.\n",
    "*   Then a colon.\n",
    "*   Then an indented block of code.\n",
    "*   Functions can return values"
   ]
  }
 ],
 "metadata": {
  "kernelspec": {
   "display_name": "Python 3 (ipykernel)",
   "language": "python",
   "name": "python3"
  },
  "language_info": {
   "codemirror_mode": {
    "name": "ipython",
    "version": 3
   },
   "file_extension": ".py",
   "mimetype": "text/x-python",
   "name": "python",
   "nbconvert_exporter": "python",
   "pygments_lexer": "ipython3",
   "version": "3.10.14"
  }
 },
 "nbformat": 4,
 "nbformat_minor": 5
}
