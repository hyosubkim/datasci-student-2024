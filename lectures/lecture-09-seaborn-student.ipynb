{
 "cells": [
  {
   "cell_type": "markdown",
   "metadata": {
    "editable": true,
    "slideshow": {
     "slide_type": "slide"
    },
    "tags": []
   },
   "source": [
    "# Seaborn \n",
    "\n",
    "### Pre-Readings:\n",
    "- Chapter 4\n",
    "## Learning Objectives\n",
    "- Learn to visualize data from DataFrames with the seaborn library.\n",
    "- Explore data through visualization."
   ]
  },
  {
   "cell_type": "markdown",
   "metadata": {
    "editable": true,
    "slideshow": {
     "slide_type": "slide"
    },
    "tags": []
   },
   "source": [
    "# Introduction\n",
    "&nbsp;  \n",
    "***Hi Hyosub,***\n",
    "\n",
    "***Just wanted to say thank you for the recommendation to start using seaborn plotting in python. Wow. That's it.***\n",
    "\n",
    "***-Jonathan***   \n",
    "&nbsp;  \n",
    "\n",
    "This message was copied verbatim from an email sent to me by a former PhD mentee and kind of says it all. [Seaborn](https://seaborn.pydata.org) is a great Python plotting package that is built on top of Matplotlib. That is, it uses Matplotlib \"under the hood\", but it offers the user a much simpler API (\"Application Programming Interface\"; aka, a set of commands) that enable us to generate a variety of great-looking plots that are particularly useful in data science. You can check out Seaborn's [examples gallery](https://seaborn.pydata.org/examples/index.html) to see some of the cool stuff you can do. Seaborn was written by [Michael Waskom](https://mwaskom.github.io/)."
   ]
  },
  {
   "cell_type": "markdown",
   "metadata": {
    "editable": true,
    "slideshow": {
     "slide_type": "slide"
    },
    "tags": []
   },
   "source": [
    "## Figure vs Axis level plots\n",
    "- Two main types of functions in seaborn. Those that generate both the figure and the axis (figure level) and those that only operate on a specific axis.\n",
    "- Figure level plots are typically easier to use, but provide less flexibility.\n",
    "- Today we will focus on figure level plots and how to interpret them."
   ]
  },
  {
   "cell_type": "markdown",
   "metadata": {
    "editable": true,
    "slideshow": {
     "slide_type": "slide"
    },
    "tags": []
   },
   "source": [
    "---\n",
    "### Task 1: Load the adaptation data\n",
    "- Load the data named 'adaptation_data' in the data folder\n",
    "- Look at 5 random rows to familiarize yourself with the data"
   ]
  },
  {
   "cell_type": "code",
   "execution_count": null,
   "metadata": {
    "editable": true,
    "slideshow": {
     "slide_type": "slide"
    },
    "tags": []
   },
   "outputs": [],
   "source": [
    "# Imports\n",
    "import pandas as pd\n",
    "import matplotlib.pyplot as plt\n",
    "import seaborn as sns\n",
    "\n",
    "# your answer here\n"
   ]
  },
  {
   "cell_type": "markdown",
   "metadata": {
    "editable": true,
    "slideshow": {
     "slide_type": "slide"
    },
    "tags": []
   },
   "source": [
    "---\n",
    "## Figure level plots\n",
    "<img src=\"../images/function_overview_8_0.png\" width=\"500\" height=\"300\">\n",
    "\n"
   ]
  },
  {
   "cell_type": "markdown",
   "metadata": {
    "editable": true,
    "slideshow": {
     "slide_type": "slide"
    },
    "tags": []
   },
   "source": [
    "---\n",
    "## Categorical plots\n",
    "- We can use these to look at differences between multiple categorical variables.\n",
    "- Let's visualize the adaptation data as a barplot.\n",
    "- The data we are plotting is the amount of adaptation"
   ]
  },
  {
   "cell_type": "code",
   "execution_count": null,
   "metadata": {
    "editable": true,
    "slideshow": {
     "slide_type": "slide"
    },
    "tags": []
   },
   "outputs": [],
   "source": [
    "# Walk through code example\n"
   ]
  },
  {
   "cell_type": "markdown",
   "metadata": {
    "editable": true,
    "slideshow": {
     "slide_type": "slide"
    },
    "tags": []
   },
   "source": [
    "---\n",
    "## What does this plot tell us?\n"
   ]
  },
  {
   "cell_type": "markdown",
   "metadata": {
    "editable": true,
    "slideshow": {
     "slide_type": ""
    },
    "tags": []
   },
   "source": [
    "**Your answer here**"
   ]
  },
  {
   "cell_type": "markdown",
   "metadata": {
    "editable": true,
    "slideshow": {
     "slide_type": "slide"
    },
    "tags": []
   },
   "source": [
    "### Grouping our data with seaborn\n",
    "- This doesn't provide us with my information, except the mean adaptation across our entire dataset. So we can use the `x` argument to now see the real benefit of seaborn."
   ]
  },
  {
   "cell_type": "code",
   "execution_count": null,
   "metadata": {
    "editable": true,
    "slideshow": {
     "slide_type": "slide"
    },
    "tags": []
   },
   "outputs": [],
   "source": [
    "sns.catplot(data=data, y='adaptation', x='major', kind='bar')\n",
    "plt.show()"
   ]
  },
  {
   "cell_type": "markdown",
   "metadata": {
    "editable": true,
    "slideshow": {
     "slide_type": "slide"
    },
    "tags": []
   },
   "source": [
    "---\n",
    "## The x-axis is difficult to read now\n",
    "### Task 2: \n",
    "- Change the size of the figure so we can read all the x-axis labels\n",
    "- Here is the documentation for the `catplot` function:  \n",
    "https://seaborn.pydata.org/generated/seaborn.catplot.html"
   ]
  },
  {
   "cell_type": "code",
   "execution_count": null,
   "metadata": {
    "editable": true,
    "slideshow": {
     "slide_type": "slide"
    },
    "tags": []
   },
   "outputs": [],
   "source": [
    "# Your answer here\n"
   ]
  },
  {
   "cell_type": "markdown",
   "metadata": {
    "editable": true,
    "slideshow": {
     "slide_type": "slide"
    },
    "tags": []
   },
   "source": [
    "---\n",
    "### Updating the look of our figure instead of the size\n",
    "If we don't like how big our figure is now, we can also change how the x axis labels look."
   ]
  },
  {
   "cell_type": "code",
   "execution_count": null,
   "metadata": {
    "editable": true,
    "slideshow": {
     "slide_type": "slide"
    },
    "tags": []
   },
   "outputs": [],
   "source": [
    "# Return seaborn object from catplot function call\n",
    "\n",
    "# Use the method set_xticklabels to rotate the x axis by 45 degrees so we can see it better.\n"
   ]
  },
  {
   "cell_type": "markdown",
   "metadata": {
    "editable": true,
    "slideshow": {
     "slide_type": "slide"
    },
    "tags": []
   },
   "source": [
    "---\n",
    "## Visualizing more than one relationship\n",
    "What if we want to visuzalize more than just one categorical variable?\n",
    "We have two options here:\n",
    "1. Add sub categories in our original plot using the `hue` argument\n",
    "1. Create multiple subplots using the `col` and/or `row` argument\n"
   ]
  },
  {
   "cell_type": "markdown",
   "metadata": {
    "editable": true,
    "slideshow": {
     "slide_type": "slide"
    },
    "tags": []
   },
   "source": [
    "---\n",
    "### Task 3:\n",
    "- Use the `hue` argument to look at adaptation for both the `major` and the `sex` variables"
   ]
  },
  {
   "cell_type": "code",
   "execution_count": null,
   "metadata": {
    "editable": true,
    "slideshow": {
     "slide_type": "slide"
    },
    "tags": []
   },
   "outputs": [],
   "source": [
    "# your answer here\n"
   ]
  },
  {
   "cell_type": "markdown",
   "metadata": {
    "editable": true,
    "slideshow": {
     "slide_type": "slide"
    },
    "tags": []
   },
   "source": [
    "---\n",
    "### Task 4:\n",
    "- Use the `col` argument to look at the effects of `sex` and `major` on adaptation.\n",
    "- Create another figure to look at the effects of `handedness`, `sex`, and `major`. Organize your figure such that the columns represent different levels of `sex` and the rows represent different levels of `handedness`. "
   ]
  },
  {
   "cell_type": "code",
   "execution_count": null,
   "metadata": {
    "editable": true,
    "slideshow": {
     "slide_type": "slide"
    },
    "tags": []
   },
   "outputs": [],
   "source": [
    "# your answer here\n"
   ]
  },
  {
   "cell_type": "code",
   "execution_count": null,
   "metadata": {
    "editable": true,
    "slideshow": {
     "slide_type": "slide"
    },
    "tags": []
   },
   "outputs": [],
   "source": [
    "# your answer here\n"
   ]
  },
  {
   "cell_type": "markdown",
   "metadata": {
    "editable": true,
    "slideshow": {
     "slide_type": "slide"
    },
    "tags": []
   },
   "source": [
    "## Are bar plots a good way to visuzalize data?\n",
    "- They provide information about the mean and potentially the variance with error bars, but that's it.\n",
    "- Other types of visuzalizations that seaborn is capable of can give us a much better understanding of our data\n",
    "- For categorical plots, seaborn has the following options, which we can use by changing the `kind` argument.\n",
    "\n",
    "**Categorical scatterplots: relplot**   \n",
    "- strip plot (with kind=\"strip\"; the default)   \n",
    "- swarm plot (with kind=\"swarm\")\n",
    " \n",
    "**Categorical distribution plots: catplot**  \n",
    "- box plot (with kind=\"box\")  \n",
    "- violin plot (with kind=\"violin\")  \n",
    "- boxen plot (with kind=\"boxen\")\n",
    "\n",
    "**Categorical estimate plots: catplot**  \n",
    "- point plot (with kind=\"point\")  \n",
    "- bar plot (with kind=\"bar\")  \n",
    "- count plot (with kind=\"count\")  \n"
   ]
  },
  {
   "cell_type": "markdown",
   "metadata": {
    "editable": true,
    "slideshow": {
     "slide_type": "slide"
    },
    "tags": []
   },
   "source": [
    "### Explore the different types of categorical visualization and make a pros and cons list of each"
   ]
  },
  {
   "cell_type": "code",
   "execution_count": null,
   "metadata": {
    "editable": true,
    "slideshow": {
     "slide_type": ""
    },
    "tags": []
   },
   "outputs": [],
   "source": [
    "# your answers here"
   ]
  }
 ],
 "metadata": {
  "anaconda-cloud": {},
  "kernel_info": {
   "name": "python3"
  },
  "kernelspec": {
   "display_name": "Python 3 (ipykernel)",
   "language": "python",
   "name": "python3"
  },
  "language_info": {
   "codemirror_mode": {
    "name": "ipython",
    "version": 3
   },
   "file_extension": ".py",
   "mimetype": "text/x-python",
   "name": "python",
   "nbconvert_exporter": "python",
   "pygments_lexer": "ipython3",
   "version": "3.10.14"
  },
  "nteract": {
   "version": "0.15.0"
  },
  "toc": {
   "base_numbering": 1,
   "nav_menu": {
    "height": "44px",
    "width": "252px"
   },
   "number_sections": true,
   "sideBar": true,
   "skip_h1_title": false,
   "title_cell": "Table of Contents",
   "title_sidebar": "Contents",
   "toc_cell": false,
   "toc_position": {
    "height": "calc(100% - 180px)",
    "left": "10px",
    "top": "150px",
    "width": "299px"
   },
   "toc_section_display": "block",
   "toc_window_display": true
  }
 },
 "nbformat": 4,
 "nbformat_minor": 4
}
