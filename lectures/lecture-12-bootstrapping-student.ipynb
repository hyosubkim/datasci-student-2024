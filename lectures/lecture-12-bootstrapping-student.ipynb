{
 "cells": [
  {
   "cell_type": "markdown",
   "metadata": {
    "editable": true,
    "slideshow": {
     "slide_type": ""
    },
    "tags": []
   },
   "source": [
    "# KIN 482E - Programming and Data Science for Kinesiology\n",
    "\n",
    "\n",
    "## Lecture: Bootstrapping!"
   ]
  },
  {
   "cell_type": "markdown",
   "metadata": {},
   "source": [
    "## Objectives\n",
    "\n",
    "* Describe real-world examples of questions that can be answered with statistical inference.\n",
    "* Define common population parameters (e.g., mean, proportion, standard deviation) that are often estimated using sampled data, and estimate these from a sample.\n",
    "* Define the following statistical sampling terms (population, sample, population parameter, point estimate, sampling distribution).\n",
    "* Explain the difference between a population parameter and a sample point estimate.\n",
    "* Use Python to draw random samples from a finite population.\n",
    "* Use Python to create a sampling distribution from a finite population.\n",
    "* Describe how sample size influences the sampling distribution.\n",
    "* Define bootstrapping.\n",
    "* Understand why we would want to bootstrap data\n",
    "* Use Python to create a bootstrap distribution to approximate a sampling distribution.\n",
    "* Contrast the bootstrap and sampling distributions."
   ]
  },
  {
   "cell_type": "markdown",
   "metadata": {
    "editable": true,
    "slideshow": {
     "slide_type": "slide"
    },
    "tags": []
   },
   "source": [
    "## Review\n",
    "\n",
    "**Inference:** Using a sample to make a conclusion about the wider population\n",
    "\n",
    "What do the following terms mean:\n",
    "\n",
    "- population (and population parameter)\n",
    "- sample\n",
    "- estimation (and estimate)\n",
    "- sampling distribution"
   ]
  },
  {
   "cell_type": "markdown",
   "metadata": {
    "editable": true,
    "slideshow": {
     "slide_type": ""
    },
    "tags": []
   },
   "source": [
    "**Your answer here**\n",
    "\n",
    "- A **population** is the *complete* collection of individuals or cases we are interested in studying; rarely do we ever have access to the full population, which is why we need statistics!\n",
    "- A **sample** is a subset of the population\n",
    "- **Estimation** refers to the process of computing a numerical characteristic of our data (an estimate)&mdash;for example, the sample mean, the sample standard deviation\n",
    "- **Sampling distribution** refers to a distribution of the estimate for all possible samples (i.e., an arbitrarily large number of samples) of a given size from a population"
   ]
  },
  {
   "cell_type": "code",
   "execution_count": null,
   "metadata": {
    "editable": true,
    "slideshow": {
     "slide_type": "slide"
    },
    "tags": []
   },
   "outputs": [],
   "source": [
    "# load libraries for wrangling and plotting\n",
    "import pandas as pd\n",
    "import numpy as np\n",
    "import matplotlib.pyplot as plt\n",
    "import seaborn as sns\n",
    "\n",
    "sns.set_theme()"
   ]
  },
  {
   "cell_type": "markdown",
   "metadata": {
    "editable": true,
    "slideshow": {
     "slide_type": "slide"
    },
    "tags": []
   },
   "source": [
    "---\n",
    "### Task 1:\n",
    "- Read in the `listings.csv` data set and put it into a dataframe called `airbnb`\n",
    "- Print 7 random rows"
   ]
  },
  {
   "cell_type": "code",
   "execution_count": null,
   "metadata": {
    "editable": true,
    "slideshow": {
     "slide_type": "slide"
    },
    "tags": []
   },
   "outputs": [],
   "source": [
    "# Read in data\n"
   ]
  },
  {
   "cell_type": "markdown",
   "metadata": {
    "editable": true,
    "slideshow": {
     "slide_type": "slide"
    },
    "tags": []
   },
   "source": [
    "---\n",
    "### Task 2\n",
    "We will assume that our listings csv contained all Airbnb rentals in Vancouver. In other words, we are in the rare situation of having access to the entire population of interest. \n",
    "\n",
    "- Confirm that the true population mean price per night is $154.51\n"
   ]
  },
  {
   "cell_type": "code",
   "execution_count": null,
   "metadata": {
    "editable": true,
    "slideshow": {
     "slide_type": "slide"
    },
    "tags": []
   },
   "outputs": [],
   "source": [
    "# your answer here\n"
   ]
  },
  {
   "cell_type": "markdown",
   "metadata": {
    "editable": true,
    "slideshow": {
     "slide_type": "slide"
    },
    "tags": []
   },
   "source": [
    "---\n",
    "### Task 3:\n",
    "- Use list comprehension to produce 20,000 samples of size 40; assign all 20,000 samples to a data frame called `samples`\n",
    "    - Remember to create a new column `replicate` which keeps track of sample number\n",
    "- Calculate the mean for each sample and plot the distribution of means\n",
    "    - Remember to create to rename the `price` column and call it `mean_price`"
   ]
  },
  {
   "cell_type": "code",
   "execution_count": null,
   "metadata": {
    "editable": true,
    "slideshow": {
     "slide_type": ""
    },
    "tags": []
   },
   "outputs": [],
   "source": [
    "# Set seed for reproducibility\n",
    "np.random.seed(255)\n",
    "\n",
    "# Use list comprehension to calculate 20,000 samples of size 40\n"
   ]
  },
  {
   "cell_type": "code",
   "execution_count": null,
   "metadata": {
    "editable": true,
    "slideshow": {
     "slide_type": "slide"
    },
    "tags": []
   },
   "outputs": [],
   "source": [
    "# Calculate 20,000 sample estimates of the mean price\n",
    "\n",
    "\n",
    "# Plot the sampling distribution \n"
   ]
  },
  {
   "cell_type": "markdown",
   "metadata": {
    "editable": true,
    "slideshow": {
     "slide_type": "slide"
    },
    "tags": []
   },
   "source": [
    "---\n",
    "## Questions for you\n",
    "\n",
    "1) What does this figure represent?\n",
    "\n",
    "2) What happens if we make my sample smaller / larger? Where is the peak of the histogram centered?\n",
    "\n",
    "3) Can we actually create this figure in a real data analysis problem?\n",
    "\n",
    "4) What problem does that cause for us?"
   ]
  },
  {
   "cell_type": "markdown",
   "metadata": {
    "editable": true,
    "slideshow": {
     "slide_type": "slide"
    },
    "tags": []
   },
   "source": [
    "## Answers\n",
    "1. This is a visualization of the sampling distribution. In other words, we took the mean of an arbitrarily large number of samples from our population.\n",
    "2. If sample size gets larger, the spread of the distribution shrinks (and vice versa). The peak is centered at the true population parameter value.\n",
    "3. No; in a real data analysis problem we typically only have one sample to work with (we can't create many samples)\n",
    "4. This means we cannot visualize the spread, and so have no way of understanding how reliable our point estimate is using just one sample (unless we make lots of assumptions)."
   ]
  },
  {
   "cell_type": "markdown",
   "metadata": {
    "editable": true,
    "slideshow": {
     "slide_type": "slide"
    },
    "tags": []
   },
   "source": [
    "---\n",
    "## Bootstrapping\n",
    "\n",
    "We only have one sample... but if it's big enough, the sample looks like the population! This means we can create what's known as a \"bootstrap\" (or \"bootstrapped\") distribution that makes the absolute *most* out of our single sample. This is *very very* good!\n",
    "\n",
    "### Your tasks:\n",
    "Set-up a figure with 6 (3 x 2) subplots.\n",
    "1. Plot the population distribution in the last subplot (ie., axs[2, 1]).\n",
    "2. Create 1 sample each of sizes `[10, 20, 50, 100, 200]`\n",
    "3. Plot the distributions of these different samples in the remaining 5 subplots."
   ]
  },
  {
   "cell_type": "code",
   "execution_count": null,
   "metadata": {
    "editable": true,
    "slideshow": {
     "slide_type": "slide"
    },
    "tags": []
   },
   "outputs": [],
   "source": [
    "# Plot sample distributions for n = 10, 20, 50, 100, 200\n",
    "\n",
    "\n",
    "# Set up subplots\n",
    "\n",
    "# Plot population distribution\n",
    "\n",
    "# # Plot sample distributions for different sample sizes (some starter code provided)\n",
    "# for i, sample_n in enumerate(sample_sizes):\n",
    "#     sample = airbnb.sample(sample_n)\n",
    "#     ax = axs[i % 3, i // 3]...\n",
    "\n",
    "# # Adjust layout\n",
    "# plt.tight_layout(rect=[0, 0, 1, 0.96])\n",
    "# plt.show()"
   ]
  },
  {
   "cell_type": "markdown",
   "metadata": {
    "editable": true,
    "slideshow": {
     "slide_type": "slide"
    },
    "tags": []
   },
   "source": [
    "---\n",
    "# Working through the bootstrapping process\n"
   ]
  },
  {
   "cell_type": "markdown",
   "metadata": {
    "editable": true,
    "slideshow": {
     "slide_type": "slide"
    },
    "tags": []
   },
   "source": [
    "---\n",
    "## Creating a *bootstrap* sampling distribution\n",
    "\n",
    "1. Randomly select an observation from the original sample (e.g., 9 Airbnb listings, 15 individuals post-stroke, 20 healthy young adults, etc.), which was drawn from the population (all Vancouver Airbnb listings, all Canadian adults post-stroke, all healthy, neurotypical adults between the ages of 18-35 across the globe, etc.).\n",
    "2. Record the observation's value.\n",
    "3. Replace that observation.\n",
    "4. Repeat steps 1&ndash;3 (sampling *with* replacement) until you have $n$ observations (where n=# of observations in your single sample from the population), which form a bootstrap sample.\n",
    "5. Calculate the bootstrap point estimate (e.g., mean, median, proportion, slope, etc.) of the $n$ observations in your bootstrap sample.\n",
    "6. Repeat steps 1&ndash;5 many times to create a distribution of point estimates (the bootstrap distribution).\n",
    "7. Calculate the plausible range of values around our observed point estimate."
   ]
  },
  {
   "cell_type": "markdown",
   "metadata": {
    "editable": true,
    "slideshow": {
     "slide_type": "slide"
    },
    "tags": []
   },
   "source": [
    "![](../images/intro-bootstrap.jpeg)"
   ]
  },
  {
   "cell_type": "markdown",
   "metadata": {
    "editable": true,
    "slideshow": {
     "slide_type": "slide"
    },
    "tags": []
   },
   "source": [
    "---\n",
    "### Task 1:\n",
    "- Let's pretend our *sample* **is** our population. Then we can take many samples from our original sample (called *bootstrap samples*) to give us an approximation of the sampling distribution (the *bootstrap sampling distribution*).\n",
    "We can use its shape and spread to get the plausible range for our population parameter!\n",
    "- This is typically what's done in nearly all experiments. You collect your ***single*** sample of rental prices/individuals with diabetes/control subjects/etc from the population of interest (Airbnb rentals, all North American adults with diabetes, all neurotypical adults, etc.). ***The big difference here is that we have access to the full population, so we can compare our estimates to ground truth!***\n",
    "- Generate a single sample of 40 from the airbnb data and calculate the mean."
   ]
  },
  {
   "cell_type": "code",
   "execution_count": null,
   "metadata": {
    "editable": true,
    "slideshow": {
     "slide_type": "slide"
    },
    "tags": []
   },
   "outputs": [],
   "source": [
    "# Generate a single sample \n"
   ]
  },
  {
   "cell_type": "markdown",
   "metadata": {
    "editable": true,
    "slideshow": {
     "slide_type": "slide"
    },
    "tags": []
   },
   "source": [
    "---\n",
    "### Task 2: Generating a single bootstrap sample\n",
    "\n",
    "1. randomly draw an observation from the original sample (which was drawn from the population)\n",
    "\n",
    "2. record the observation's value\n",
    "\n",
    "3. return the observation to the original sample\n",
    "\n",
    "4. repeat the above the **same number of times as there are observations in the original sample**"
   ]
  },
  {
   "cell_type": "code",
   "execution_count": null,
   "metadata": {
    "editable": true,
    "slideshow": {
     "slide_type": "slide"
    },
    "tags": []
   },
   "outputs": [],
   "source": [
    "# Calculate and plot a single bootstrap sample\n"
   ]
  },
  {
   "cell_type": "markdown",
   "metadata": {
    "editable": true,
    "slideshow": {
     "slide_type": "slide"
    },
    "tags": []
   },
   "source": [
    "### Question\n",
    "- What would happen if we sampled *without* replacement? What does that mean?"
   ]
  },
  {
   "cell_type": "markdown",
   "metadata": {},
   "source": [
    "**Your answer here**"
   ]
  },
  {
   "cell_type": "markdown",
   "metadata": {
    "editable": true,
    "slideshow": {
     "slide_type": "slide"
    },
    "tags": []
   },
   "source": [
    "---\n",
    "### Task 3:\n",
    "- Generate 20,000 bootstrapped samples from our single sample we made previously"
   ]
  },
  {
   "cell_type": "code",
   "execution_count": null,
   "metadata": {
    "editable": true,
    "slideshow": {
     "slide_type": "slide"
    },
    "tags": []
   },
   "outputs": [],
   "source": [
    "# We will first create 20,000 bootstrapped samples\n"
   ]
  },
  {
   "cell_type": "markdown",
   "metadata": {
    "editable": true,
    "slideshow": {
     "slide_type": "slide"
    },
    "tags": []
   },
   "source": [
    "### Think\n",
    "\n",
    "- Why are there are 800,000 rows instead of 20,000?"
   ]
  },
  {
   "cell_type": "markdown",
   "metadata": {
    "editable": true,
    "slideshow": {
     "slide_type": "slide"
    },
    "tags": []
   },
   "source": [
    "---\n",
    "### Task 4: Create the bootstrapped sampling distribution\n",
    "\n",
    "- We must calculate our sample statistic (i.e., the mean) for each of the 20,000 samples.\n",
    "- For every sample we have made, calculate the mean for each and store them in a new variable (column) called \"mean_price\".\n",
    "- Plot this distribution."
   ]
  },
  {
   "cell_type": "code",
   "execution_count": null,
   "metadata": {
    "editable": true,
    "scrolled": true,
    "slideshow": {
     "slide_type": "slide"
    },
    "tags": []
   },
   "outputs": [],
   "source": [
    "# From our bootstrapped samples, we calculate the mean of each one\n"
   ]
  },
  {
   "cell_type": "code",
   "execution_count": null,
   "metadata": {
    "editable": true,
    "slideshow": {
     "slide_type": "slide"
    },
    "tags": []
   },
   "outputs": [],
   "source": [
    "# Plot the bootstrapped sampling distribution\n"
   ]
  },
  {
   "cell_type": "markdown",
   "metadata": {
    "editable": true,
    "slideshow": {
     "slide_type": "slide"
    },
    "tags": []
   },
   "source": [
    "---\n",
    "## Sampling vs bootstrap distribution\n",
    "### Task 1:\n",
    "- Visualize the sampling distribution and compare it to our bootstrapped distribution.\n",
    "\n",
    "Reminder - true population mean = \\\\$154.51. \n"
   ]
  },
  {
   "cell_type": "code",
   "execution_count": null,
   "metadata": {
    "editable": true,
    "slideshow": {
     "slide_type": "slide"
    },
    "tags": []
   },
   "outputs": [],
   "source": [
    "# Create subplots\n",
    "\n",
    "\n",
    "# Plot sampling distribution\n",
    "\n",
    "\n",
    "# Plot bootstrap distribution\n",
    "\n",
    "\n",
    "# Set titles\n",
    "\n",
    "\n",
    "# Adjust layout\n",
    "\n"
   ]
  },
  {
   "cell_type": "markdown",
   "metadata": {
    "editable": true,
    "slideshow": {
     "slide_type": "slide"
    },
    "tags": []
   },
   "source": [
    "---\n",
    "## Two essential points that we can take away from the above histograms\n",
    "\n",
    "- First, the shape and spread of the true sampling\n",
    "distribution and the bootstrap distribution are similar; the bootstrap\n",
    "distribution lets us get a sense of the point estimate's variability. \n",
    "- The second important point is that the means of these two distributions are\n",
    "slightly different. The sampling distribution is centered at\n",
    "\\\\$154.51, the population mean value. However, the bootstrap\n",
    "distribution is centered at the original sample's mean price per night,\n",
    "\\\\$148.24. Because we are resampling from the\n",
    "original sample repeatedly, we see that the bootstrap distribution is centered\n",
    "at the original sample's mean value (unlike the sampling distribution of the\n",
    "sample mean, which is centered at the population parameter value)."
   ]
  },
  {
   "cell_type": "markdown",
   "metadata": {
    "editable": true,
    "slideshow": {
     "slide_type": "slide"
    },
    "tags": []
   },
   "source": [
    "---\n",
    "## Take a minute to appreciate what bootstrapping has done\n",
    "\n",
    "- With a single sample of 40 observations (from a much, much larger population), we've closely approximated the true sampling distribution\n",
    "- We know this because we earlier created the sampling distribution from the entire population of observations, something we almost never have access to in real world data science applications. \n",
    "- In essence, bootstrapping is a means of simulating many data collections (or experiments), premised only on the assumption that our single sample is representative of the population&mdash;amazing!</d>\n",
    "- As an aside, a friend who started working for Google after earning his PhD joked that he aced his technical interviews by answering with \"I'd use bootstrapping,\" for any question he didn't have a real answer for. The point being that bootstrapping is almost never a bad idea."
   ]
  },
  {
   "cell_type": "markdown",
   "metadata": {
    "editable": true,
    "slideshow": {
     "slide_type": "slide"
    },
    "tags": []
   },
   "source": [
    "---\n",
    "## Using the bootstrap to calculate a plausible range\n",
    "\n",
    "We can use our bootstrap distribution to calculate the plausible range of values for the population parameter (only requires 1 sample as opposed to thousands of samples from the entire population!):\n"
   ]
  },
  {
   "cell_type": "markdown",
   "metadata": {
    "editable": true,
    "slideshow": {
     "slide_type": "slide"
    },
    "tags": []
   },
   "source": [
    "### Task 2:\n",
    "We can report **both** our sample point estimate and the plausible range where we expect our true population quantity to fall. The steps invovled are the following: \n",
    "\n",
    "1. Arrange the observations in the bootstrap distribution in ascending order.\n",
    "2. Find the value such that 2.5\\% of observations fall below it (the 2.5\\% percentile). Use that value as the lower bound of the interval.\n",
    "3. Find the value such that 97.5\\% of observations fall below it (the 97.5\\% percentile). Use that value as the upper bound of the interval.\n",
    "\n",
    "To do this in Python, we wiill again use the `quantile` function of our DataFrame.\n",
    "Quantiles are expressed in proportions rather than percentages,\n",
    "so the 2.5th and 97.5th percentiles\n",
    "would be quantiles 0.025 and 0.975, respectively."
   ]
  },
  {
   "cell_type": "code",
   "execution_count": null,
   "metadata": {
    "editable": true,
    "slideshow": {
     "slide_type": "slide"
    },
    "tags": []
   },
   "outputs": [],
   "source": [
    "# Your answer here\n"
   ]
  },
  {
   "cell_type": "code",
   "execution_count": null,
   "metadata": {
    "editable": true,
    "slideshow": {
     "slide_type": "slide"
    },
    "tags": []
   },
   "outputs": [],
   "source": [
    "# Plot bootstrapped distribution with 95% CI\n"
   ]
  },
  {
   "cell_type": "markdown",
   "metadata": {
    "editable": true,
    "slideshow": {
     "slide_type": ""
    },
    "tags": []
   },
   "source": [
    "---\n",
    "This lecture has been adapted from Data Science: A First Introduction (Python Edition), by Trevor Campbell, Tiffany Timbers, Melissa Lee, Lindsey Heagy, and Joel Ostblom of UBC."
   ]
  }
 ],
 "metadata": {
  "celltoolbar": "Slideshow",
  "kernelspec": {
   "display_name": "Python 3 (ipykernel)",
   "language": "python",
   "name": "python3"
  },
  "language_info": {
   "codemirror_mode": {
    "name": "ipython",
    "version": 3
   },
   "file_extension": ".py",
   "mimetype": "text/x-python",
   "name": "python",
   "nbconvert_exporter": "python",
   "pygments_lexer": "ipython3",
   "version": "3.10.14"
  },
  "rise": {
   "scroll": true,
   "transition": "fade"
  }
 },
 "nbformat": 4,
 "nbformat_minor": 4
}
