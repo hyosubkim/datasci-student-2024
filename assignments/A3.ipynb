{
 "cells": [
  {
   "cell_type": "markdown",
   "id": "24e8dc45",
   "metadata": {
    "deletable": false,
    "editable": false,
    "nbgrader": {
     "cell_type": "markdown",
     "checksum": "48278d3b6cdc5c4fcc2e52ccb0b3c3b3",
     "grade": false,
     "grade_id": "cell-c248b5611449f852",
     "locked": true,
     "schema_version": 3,
     "solution": false,
     "task": false
    }
   },
   "source": [
    "# Instructions\n",
    "\n",
    "- **You must include your name in the cell below** \n",
    "- Make sure you fill in any place that says `YOUR CODE HERE` or `YOUR ANSWER HERE`.\n",
    "- Delete all of the `raise NotImplementedError()` lines after you answer the question\n",
    "- You are allowed to ask for help from other students after working on your own, but **make sure the work you submit is your own.** If someone did help you, assign their name(s) to ASSIST below\n",
    "- Before downloading the completed assignment, make sure to **restart the kernel and run all cells** (in the menubar, select **Kernel$\\rightarrow$Restart Kernel and Run All Cells**). If there are any code execution errors, you must fix them before submitting your assignment."
   ]
  },
  {
   "cell_type": "code",
   "execution_count": null,
   "id": "f2bb260f",
   "metadata": {},
   "outputs": [],
   "source": [
    "# YOUR NAME AND ANYONE WHO ASSISTED YOU\n",
    "NAME = \"\"\n",
    "ASSIST = \"\""
   ]
  },
  {
   "cell_type": "markdown",
   "id": "6035a774",
   "metadata": {},
   "source": [
    "---"
   ]
  },
  {
   "cell_type": "markdown",
   "id": "61691f32-1a0a-44af-9344-52c353e14df4",
   "metadata": {
    "deletable": false,
    "editable": false,
    "nbgrader": {
     "cell_type": "markdown",
     "checksum": "ad6fe4c242d2724353ca5a0b49ac01ca",
     "grade": false,
     "grade_id": "cell-78cf445973254544",
     "locked": true,
     "schema_version": 3,
     "solution": false,
     "task": false
    }
   },
   "source": [
    "# Assignment 3: Making functions"
   ]
  },
  {
   "cell_type": "markdown",
   "id": "097e0439-2228-4236-9499-2343d9e93913",
   "metadata": {
    "deletable": false,
    "editable": false,
    "nbgrader": {
     "cell_type": "markdown",
     "checksum": "c1020459a3c2710bb80dae11985064ea",
     "grade": false,
     "grade_id": "cell-4f77cae9653b276a",
     "locked": true,
     "schema_version": 3,
     "solution": false,
     "task": false
    }
   },
   "source": [
    "### Simulating a dynamical system \n",
    "\n",
    "In mathematics, a [dynamical system](https://en.wikipedia.org/wiki/Dynamical_system) is a system\n",
    "in which a function describes the time dependence of a point in a geometrical space. A canonical\n",
    "example of a dynamical system is the [logistic map](https://en.wikipedia.org/wiki/Logistic_map),\n",
    "a growth model that computes a new population density (between  0 and 1) based on the current\n",
    "density. In the model, time takes discrete values 0, 1, 2, ...\n"
   ]
  },
  {
   "cell_type": "markdown",
   "id": "deb2d113-6eec-4f2c-bbd2-d84e51528aaa",
   "metadata": {
    "deletable": false,
    "editable": false,
    "nbgrader": {
     "cell_type": "markdown",
     "checksum": "1cf5d0b8de493d359569cec1d44e0f1e",
     "grade": false,
     "grade_id": "cell-4ec51ecf004c15cc",
     "locked": true,
     "schema_version": 3,
     "solution": false,
     "task": false
    }
   },
   "source": [
    "## Part 1 (1 pt):\n",
    "Define a function called `logistic_map` that takes two inputs: `x`, representing the current\n",
    "population (at time `t`), and a parameter `r`, which we will set to 1 for now (i.e., `r=1`. This function should return a value representing the state of the system (population) at the next time step `t + 1`, as described by the following equation: \n",
    "\n",
    "$$x_{t+1} = r x{_t} (1 - x_{t})$$\n",
    "\n",
    "Note that the indexing is not necessary within the function itself, as you will be using a loop in a later step(s). Make sure you define the function with the name `logistic_map`."
   ]
  },
  {
   "cell_type": "code",
   "execution_count": null,
   "id": "b35782d0-59f5-4c3c-a979-ba6313c402a3",
   "metadata": {
    "deletable": false,
    "nbgrader": {
     "cell_type": "code",
     "checksum": "13edbdcaf7fa1c1c678f0690a98d24ad",
     "grade": false,
     "grade_id": "cell-c40d90d3c3461eab",
     "locked": false,
     "schema_version": 3,
     "solution": true,
     "task": false
    }
   },
   "outputs": [],
   "source": [
    "# Your answer here (Part 1)\n",
    "# YOUR CODE HERE\n",
    "raise NotImplementedError()"
   ]
  },
  {
   "cell_type": "code",
   "execution_count": null,
   "id": "dfc1096a-1207-4a14-981a-7a826f4f6cf8",
   "metadata": {
    "deletable": false,
    "editable": false,
    "nbgrader": {
     "cell_type": "code",
     "checksum": "9eef220e5f5fb0eaf8d989c379ec458b",
     "grade": true,
     "grade_id": "cell-e0883a923b13843c",
     "locked": true,
     "points": 2,
     "schema_version": 3,
     "solution": false,
     "task": false
    }
   },
   "outputs": [],
   "source": []
  },
  {
   "cell_type": "markdown",
   "id": "93000615-db18-46f7-823b-1182e3d423e3",
   "metadata": {
    "deletable": false,
    "editable": false,
    "nbgrader": {
     "cell_type": "markdown",
     "checksum": "4a3a24b3d9c80a442903276c17e89441",
     "grade": false,
     "grade_id": "cell-f9bb8d673908d5ce",
     "locked": true,
     "schema_version": 3,
     "solution": false,
     "task": false
    }
   },
   "source": [
    "---\n",
    "## Part 2 (2 pts):\n",
    "Using a `for` loop, iterate the `logistic_map` function defined in part 1, starting\n",
    "from an initial population of 0.5, for a period of time `t_final = 10`. Store the intermediate results in a list so that after the loop terminates you have accumulated a sequence of values representing the state of the logistic map at times `t = [0,1,...,t_final]` (11 values in total).\n",
    "Assign these values into a list called `population_series`."
   ]
  },
  {
   "cell_type": "code",
   "execution_count": null,
   "id": "eca924cc-4ba6-4814-bb4a-cf2891a4f332",
   "metadata": {
    "deletable": false,
    "nbgrader": {
     "cell_type": "code",
     "checksum": "99814fce63c11b50a3003db1d436f609",
     "grade": false,
     "grade_id": "cell-3ad058801e0fcefb",
     "locked": false,
     "schema_version": 3,
     "solution": true,
     "task": false
    }
   },
   "outputs": [],
   "source": [
    "# Your answer here (Part 2)\n",
    "population_series = []\n",
    "# YOUR CODE HERE\n",
    "raise NotImplementedError()"
   ]
  },
  {
   "cell_type": "code",
   "execution_count": null,
   "id": "749af651-6f62-4c88-a107-fe778cdbf7c0",
   "metadata": {
    "deletable": false,
    "editable": false,
    "nbgrader": {
     "cell_type": "code",
     "checksum": "e141c53a9e076ea45bac3120d31a38c7",
     "grade": true,
     "grade_id": "cell-395844d96a781843",
     "locked": true,
     "points": 2,
     "schema_version": 3,
     "solution": false,
     "task": false
    }
   },
   "outputs": [],
   "source": []
  },
  {
   "cell_type": "markdown",
   "id": "0dce9533-b559-464a-9ef9-a053a1aeadd5",
   "metadata": {
    "deletable": false,
    "editable": false,
    "nbgrader": {
     "cell_type": "markdown",
     "checksum": "b1cdb9684d538c43448b91d83f327bf0",
     "grade": false,
     "grade_id": "cell-099cb14187f545f6",
     "locked": true,
     "schema_version": 3,
     "solution": false,
     "task": false
    }
   },
   "source": [
    "---\n",
    "## Part 3 (2 pts):\n",
    "Encapsulate the logic of your loop into a function called `iterate` that takes the initial\n",
    "population as its first input, the parameter `t_final` as its second input and the parameter\n",
    "`r` as its third input. The function should return the list of values representing the state of\n",
    "the logistic map at times `t = [0,1,...,t_final]`. **Make sure your function is defined as `iterate`.**\n",
    "\n",
    "For your own insight into the model: Run this function for periods `t_final = 100`\n",
    "and `1000` and print some of the values. Try it with different initial populations and different values of `r`. Is the population trending toward a steady state? "
   ]
  },
  {
   "cell_type": "code",
   "execution_count": null,
   "id": "67c6ab46-1141-4f19-bb04-8f545a110aec",
   "metadata": {
    "deletable": false,
    "nbgrader": {
     "cell_type": "code",
     "checksum": "90fdd0fbf6e5752d743b734efe1f01a8",
     "grade": false,
     "grade_id": "cell-c436d93bec552747",
     "locked": false,
     "schema_version": 3,
     "solution": true,
     "task": false
    }
   },
   "outputs": [],
   "source": [
    "# Your answer here (Part 3)\n",
    "# YOUR CODE HERE\n",
    "raise NotImplementedError()\n"
   ]
  },
  {
   "cell_type": "code",
   "execution_count": null,
   "id": "65e70e99-7cc1-4ef5-aed6-13d0469385bc",
   "metadata": {
    "deletable": false,
    "editable": false,
    "nbgrader": {
     "cell_type": "code",
     "checksum": "2c49ad239df8eb5dc4ed2b3f6813234c",
     "grade": true,
     "grade_id": "cell-2919bdd1b8866c72",
     "locked": true,
     "points": 2,
     "schema_version": 3,
     "solution": false,
     "task": false
    }
   },
   "outputs": [],
   "source": []
  }
 ],
 "metadata": {
  "kernelspec": {
   "display_name": "Python 3 (ipykernel)",
   "language": "python",
   "name": "python3"
  },
  "language_info": {
   "codemirror_mode": {
    "name": "ipython",
    "version": 3
   },
   "file_extension": ".py",
   "mimetype": "text/x-python",
   "name": "python",
   "nbconvert_exporter": "python",
   "pygments_lexer": "ipython3",
   "version": "3.10.14"
  }
 },
 "nbformat": 4,
 "nbformat_minor": 5
}
