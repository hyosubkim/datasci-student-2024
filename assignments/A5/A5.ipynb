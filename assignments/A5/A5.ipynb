{
 "cells": [
  {
   "cell_type": "markdown",
   "id": "6dad4b28",
   "metadata": {
    "deletable": false,
    "editable": false,
    "nbgrader": {
     "cell_type": "markdown",
     "checksum": "48278d3b6cdc5c4fcc2e52ccb0b3c3b3",
     "grade": false,
     "grade_id": "cell-c248b5611449f852",
     "locked": true,
     "schema_version": 3,
     "solution": false,
     "task": false
    }
   },
   "source": [
    "# Instructions\n",
    "\n",
    "- **You must include your name in the cell below** \n",
    "- Make sure you fill in any place that says `YOUR CODE HERE` or `YOUR ANSWER HERE`.\n",
    "- Delete all of the `raise NotImplementedError()` lines after you answer the question\n",
    "- You are allowed to ask for help from other students after working on your own, but **make sure the work you submit is your own.** If someone did help you, assign their name(s) to ASSIST below\n",
    "- Before downloading the completed assignment, make sure to **restart the kernel and run all cells** (in the menubar, select **Kernel$\\rightarrow$Restart Kernel and Run All Cells**). If there are any code execution errors, you must fix them before submitting your assignment."
   ]
  },
  {
   "cell_type": "code",
   "execution_count": null,
   "id": "9358724d",
   "metadata": {},
   "outputs": [],
   "source": [
    "# YOUR NAME AND ANYONE WHO ASSISTED YOU\n",
    "NAME = \"\"\n",
    "ASSIST = \"\""
   ]
  },
  {
   "cell_type": "markdown",
   "id": "494ecca6",
   "metadata": {},
   "source": [
    "---"
   ]
  },
  {
   "cell_type": "markdown",
   "id": "5eb5b475-6030-4f4b-bb2d-fdee86863b42",
   "metadata": {
    "deletable": false,
    "editable": false,
    "nbgrader": {
     "cell_type": "markdown",
     "checksum": "547e8d4cffb7c6a61cd8577e6a3bfa36",
     "grade": false,
     "grade_id": "cell-ccfcdec6757ef968",
     "locked": true,
     "schema_version": 3,
     "solution": false,
     "task": false
    }
   },
   "source": [
    "# Assignment 5: Plotting with Matplotlib & Seaborn"
   ]
  },
  {
   "cell_type": "code",
   "execution_count": null,
   "id": "fa0802d6-6c62-49a4-8e75-76b4ce56b0b1",
   "metadata": {
    "deletable": false,
    "editable": false,
    "nbgrader": {
     "cell_type": "code",
     "checksum": "cadebfa75c92253c84d8e520be3bc78e",
     "grade": false,
     "grade_id": "cell-123461c3e2b2fcf9",
     "locked": true,
     "schema_version": 3,
     "solution": false,
     "task": false
    },
    "tags": []
   },
   "outputs": [],
   "source": [
    "import numpy as np\n",
    "import matplotlib.pyplot as plt\n",
    "import matplotlib.gridspec as gridspec\n",
    "import seaborn as sns\n",
    "\n",
    "%matplotlib inline\n",
    "\n",
    "## Uncomment next line if you have a Mac w/retinal display (makes images sharper)\n",
    "# %config InlineBackend.figure_format = 'retina'"
   ]
  },
  {
   "cell_type": "markdown",
   "id": "2e263ccc-fc92-419b-b82a-5d78b1ff7103",
   "metadata": {},
   "source": [
    "## Part 1: Matplotlib"
   ]
  },
  {
   "cell_type": "markdown",
   "id": "1c2a1702-94c7-4536-b14f-cb1057a01506",
   "metadata": {
    "deletable": false,
    "editable": false,
    "nbgrader": {
     "cell_type": "markdown",
     "checksum": "ea1381ee3af07cad26fd3bb79b169eb8",
     "grade": false,
     "grade_id": "cell-cf624fc6477cfcfe",
     "locked": true,
     "schema_version": 3,
     "solution": false,
     "task": false
    }
   },
   "source": [
    "### 1. Plot a sine wave.\n",
    "Define a 1D array `x` containing 10 values starting at 0, ending at 0.9, in increments of 0.1. Next, define a vector `y` that is equal to $sin(2 * \\pi * x)$. Look at the documentation for `np.linspace` and `np.arange` and create `x` with either of these functions (note that they interpret `stop` and `start` values differently, though). \n",
    "\n",
    "Generate a line plot with `x` on the horizontal axis and `y` on the vertical axis. \n",
    "\n",
    "Use blue circles at each data point (markersize of 8.0), connected by blue solid lines, with a linewidth of 2.0. \n",
    "\n",
    "Label the horizontal axis “X” and the vertical axis “Y”. Your figure should look exactly as the one below. "
   ]
  },
  {
   "cell_type": "markdown",
   "id": "96eb45df-7345-4795-98c0-e112e6a11197",
   "metadata": {
    "deletable": false,
    "editable": false,
    "nbgrader": {
     "cell_type": "markdown",
     "checksum": "e24bb218ee070f590b4b93b88fff9249",
     "grade": false,
     "grade_id": "cell-a2956bfc58e5ffe2",
     "locked": true,
     "schema_version": 3,
     "solution": false,
     "task": false
    }
   },
   "source": [
    "<img src=\"../../images/A7-sinewave.jpeg\" width=600>"
   ]
  },
  {
   "cell_type": "code",
   "execution_count": null,
   "id": "8c212849-5000-4b98-86c5-bfaf4bd79a88",
   "metadata": {
    "deletable": false,
    "nbgrader": {
     "cell_type": "code",
     "checksum": "b8421bdfa97161ffe06254964fcae1c8",
     "grade": true,
     "grade_id": "cell-36a12539e2d9b871",
     "locked": false,
     "points": 1,
     "schema_version": 3,
     "solution": true,
     "task": false
    }
   },
   "outputs": [],
   "source": [
    "# YOUR CODE HERE\n",
    "raise NotImplementedError()"
   ]
  },
  {
   "cell_type": "markdown",
   "id": "d4973b91-fa33-4ead-aeee-f3765ee88c45",
   "metadata": {
    "deletable": false,
    "editable": false,
    "nbgrader": {
     "cell_type": "markdown",
     "checksum": "ab9c62bf4242618723166ffe1a423d0a",
     "grade": false,
     "grade_id": "cell-f06dc5ca3475cbdc",
     "locked": true,
     "schema_version": 3,
     "solution": false,
     "task": false
    }
   },
   "source": [
    "### 2: Generate a multi-line plot.\n",
    "Define a 1D array $x$ with values $[1,2,3,4,5]$. Define a 1D array $y1$ with values $[1,2,3,4,4]$, $y2$ with $[1,5,6,8,10]$, and $y3$ with $[5,4,2,1,1]$. Generate a multi-line plot using squares (markersize 6.0) connected with solid lines (linewidth 1.0). Label the axes as shown, and set axis limits and axis ticks as shown. Add a legend as shown. The $y1$ colour is blue, the $y2$ colour is red, and the $y3$ colour is magenta. Your figure should like exactly as the one below. "
   ]
  },
  {
   "cell_type": "markdown",
   "id": "10aea8a5-b0da-4a88-940b-f089d544d2b5",
   "metadata": {
    "deletable": false,
    "editable": false,
    "nbgrader": {
     "cell_type": "markdown",
     "checksum": "5f564e359e65ca88295df4f9c756e567",
     "grade": false,
     "grade_id": "cell-affcc2fe28372412",
     "locked": true,
     "schema_version": 3,
     "solution": false,
     "task": false
    }
   },
   "source": [
    "<img src=\"../../images/A7-multiline-plot.jpeg\" width=600>"
   ]
  },
  {
   "cell_type": "code",
   "execution_count": null,
   "id": "6b86e87f-9674-4cf4-a210-3e504ead9810",
   "metadata": {
    "deletable": false,
    "nbgrader": {
     "cell_type": "code",
     "checksum": "44cdd2313abbf7d09b9e28e56908e511",
     "grade": true,
     "grade_id": "cell-4d258828b3f9a577",
     "locked": false,
     "points": 1,
     "schema_version": 3,
     "solution": true,
     "task": false
    }
   },
   "outputs": [],
   "source": [
    "# YOUR CODE HERE\n",
    "raise NotImplementedError()"
   ]
  },
  {
   "cell_type": "markdown",
   "id": "0db5a66d-c44b-4be0-95e4-e815e14b76ad",
   "metadata": {
    "deletable": false,
    "editable": false,
    "nbgrader": {
     "cell_type": "markdown",
     "checksum": "7990db9c279ad085f28a421b8191bd1d",
     "grade": false,
     "grade_id": "cell-9d19111a9be8aa22",
     "locked": true,
     "schema_version": 3,
     "solution": false,
     "task": false
    }
   },
   "source": [
    "### 3: Scatterplot\n",
    " Define a 100-length 1D array x starting at 1 and ending at 100 in increments of 1 (hint: `np.linspace` or `np.arrange`). Define y equal to (x * 0.15) + N where N is a 100 element 1D array of random values chosen from a gaussian (i.e., \"normal\" or \"bell-shaped\") distribution with mean 0.0 and standard deviation 0.5. Let z be equal to ((x * 0.05) + 2) + N2 where N2 is a 100 element 1D array of random values chosen from a gaussian distribution with mean 0.0 and standard deviation 2.0. **N and N2 are defined below for you.** Generate a scatterplot as shown below, using filled circles (markersize 3.0). The y colour is blue and the z colour is red. Pay attention to the axis labels, tick marks, and ranges. **Your figure should look (almost) exactly as the one below (with very small variations in dot positions due to taking random draws from your distributions).**"
   ]
  },
  {
   "cell_type": "markdown",
   "id": "7fd1a9b2-73d5-411e-a6ee-6ba3d538274a",
   "metadata": {
    "deletable": false,
    "editable": false,
    "nbgrader": {
     "cell_type": "markdown",
     "checksum": "e4e56e9c690abbaff7787dadbf8c678f",
     "grade": false,
     "grade_id": "cell-bf2db5bea0ac6cf1",
     "locked": true,
     "schema_version": 3,
     "solution": false,
     "task": false
    }
   },
   "source": [
    "<img src=\"../../images/A7-scatterplots.jpeg\" width=600>"
   ]
  },
  {
   "cell_type": "code",
   "execution_count": null,
   "id": "836ecafa-9a52-46d7-9464-d2ae86269914",
   "metadata": {
    "deletable": false,
    "nbgrader": {
     "cell_type": "code",
     "checksum": "7efc1a5cadb553c9fa540df157e968b5",
     "grade": true,
     "grade_id": "cell-0fedcdb5d060fdf9",
     "locked": false,
     "points": 1,
     "schema_version": 3,
     "solution": true,
     "task": false
    }
   },
   "outputs": [],
   "source": [
    "# Starter code\n",
    "N = np.random.normal(loc=0.0, scale=0.5, size=100)\n",
    "N2 = np.random.normal(loc=0.0, scale=2.0, size=100)\n",
    "\n",
    "# YOUR CODE HERE\n",
    "raise NotImplementedError()"
   ]
  },
  {
   "cell_type": "markdown",
   "id": "93235123-32b5-4bde-926c-e6d2476496ec",
   "metadata": {
    "deletable": false,
    "editable": false,
    "nbgrader": {
     "cell_type": "markdown",
     "checksum": "300f3fde57f35f26f43dda4dc3994db8",
     "grade": false,
     "grade_id": "cell-a1b2bd3eb80d4e3a",
     "locked": true,
     "schema_version": 3,
     "solution": false,
     "task": false
    }
   },
   "source": [
    "### 4: Subplots:\n",
    "Plot the same data as above, but using subplots. **Reproduce the following figure;** however, the exact size of your figure doesn't have to be the same as below. (Hint: One possible way to plot the panel letters is to use matplotlib's `gridspec` module.)"
   ]
  },
  {
   "cell_type": "markdown",
   "id": "26343ae9-4fa9-4ecf-aa7b-ed86174a13b9",
   "metadata": {
    "deletable": false,
    "editable": false,
    "nbgrader": {
     "cell_type": "markdown",
     "checksum": "79b2bbe15dcb398a8e9ab3e1abea7a23",
     "grade": false,
     "grade_id": "cell-6569ab6d526801a2",
     "locked": true,
     "schema_version": 3,
     "solution": false,
     "task": false
    }
   },
   "source": [
    "<img src=\"../../images/A5-subplots.jpeg\" width=600>"
   ]
  },
  {
   "cell_type": "code",
   "execution_count": null,
   "id": "e2df8621-9c6a-40d3-ac11-4c3a91c7d216",
   "metadata": {
    "deletable": false,
    "nbgrader": {
     "cell_type": "code",
     "checksum": "40852ee4dce08037470c15121240fffb",
     "grade": true,
     "grade_id": "cell-a00e7b5b2d703943",
     "locked": false,
     "points": 1,
     "schema_version": 3,
     "solution": true,
     "task": false
    }
   },
   "outputs": [],
   "source": [
    "# YOUR CODE HERE\n",
    "raise NotImplementedError()"
   ]
  },
  {
   "cell_type": "markdown",
   "id": "5f47d4be-0aac-4052-9ec5-534fc9e9cf6e",
   "metadata": {
    "deletable": false,
    "editable": false,
    "nbgrader": {
     "cell_type": "markdown",
     "checksum": "2f89695aa8ff43b462002a890a395426",
     "grade": false,
     "grade_id": "cell-7e74c9550047c187",
     "locked": true,
     "schema_version": 3,
     "solution": false,
     "task": false
    }
   },
   "source": [
    "## Part 2: Seaborn\n",
    "- We have loaded a dataset from the seaborn libary as `data`.\n",
    "- Investigate the dataset to know what it is."
   ]
  },
  {
   "cell_type": "code",
   "execution_count": null,
   "id": "0281678e-be0d-430b-aa22-b88de4df679a",
   "metadata": {
    "deletable": false,
    "editable": false,
    "nbgrader": {
     "cell_type": "code",
     "checksum": "418fc3772de2d638aca7051fcf512018",
     "grade": false,
     "grade_id": "cell-94b8aa259f18ff89",
     "locked": true,
     "schema_version": 3,
     "solution": false,
     "task": false
    },
    "tags": []
   },
   "outputs": [],
   "source": [
    "# Starter code\n",
    "import pandas as pd\n",
    "data = sns.load_dataset('planets')\n",
    "data.head()"
   ]
  },
  {
   "cell_type": "markdown",
   "id": "1ec91178-bce2-4cf7-ac3c-a9f9c948ec97",
   "metadata": {
    "deletable": false,
    "editable": false,
    "nbgrader": {
     "cell_type": "markdown",
     "checksum": "9ab3ca83e2134ac55c9b17c1e5386d07",
     "grade": false,
     "grade_id": "cell-8707dbd94ed2c8e0",
     "locked": true,
     "schema_version": 3,
     "solution": false,
     "task": false
    }
   },
   "source": [
    "### 1: Looking at the data. \n",
    "- Look at the distribution of `orbital_period`, `mass`, and `distance`.\n",
    "- Calculate the mean and median for each of the these values. Include these values on the figure itself as vertical lines."
   ]
  },
  {
   "cell_type": "code",
   "execution_count": null,
   "id": "afb3c98f-65f8-4f04-b972-f9ff4b692870",
   "metadata": {
    "deletable": false,
    "nbgrader": {
     "cell_type": "code",
     "checksum": "0f9da32e7a61f507fd8514b6471eb2fb",
     "grade": true,
     "grade_id": "cell-9992b59c88353414",
     "locked": false,
     "points": 1,
     "schema_version": 3,
     "solution": true,
     "task": false
    },
    "tags": []
   },
   "outputs": [],
   "source": [
    "# YOUR CODE HERE\n",
    "raise NotImplementedError()"
   ]
  },
  {
   "cell_type": "markdown",
   "id": "4e61ebd6-2b53-4347-bffb-4531bed5333f",
   "metadata": {
    "deletable": false,
    "editable": false,
    "nbgrader": {
     "cell_type": "markdown",
     "checksum": "4f2bed04b39ab5667f870e2af805664b",
     "grade": false,
     "grade_id": "cell-9f77aaf088fa71e1",
     "locked": true,
     "schema_version": 3,
     "solution": false,
     "task": false
    }
   },
   "source": [
    "### 2: Remove outliers\n",
    "The data for `orbital_period` is difficult to interpret due to some large outliers. Repeat the above figure but only include the data if the value of `orbital_period` is less than 2000."
   ]
  },
  {
   "cell_type": "code",
   "execution_count": null,
   "id": "53e79856-f4b2-4e54-8d33-e6f54d05faa6",
   "metadata": {
    "deletable": false,
    "nbgrader": {
     "cell_type": "code",
     "checksum": "b1fb05de2ed0e42acc105cfaacd0f449",
     "grade": true,
     "grade_id": "cell-8cb56661e8cf37ad",
     "locked": false,
     "points": 1,
     "schema_version": 3,
     "solution": true,
     "task": false
    },
    "tags": []
   },
   "outputs": [],
   "source": [
    "# YOUR CODE HERE\n",
    "raise NotImplementedError()"
   ]
  },
  {
   "cell_type": "markdown",
   "id": "ed55e12f-8ee4-49e3-8077-56c06707208d",
   "metadata": {
    "deletable": false,
    "editable": false,
    "nbgrader": {
     "cell_type": "markdown",
     "checksum": "fd2bc6d4917fb27626223024ac082284",
     "grade": false,
     "grade_id": "cell-76650bd04bbb7da0",
     "locked": true,
     "schema_version": 3,
     "solution": false,
     "task": false
    },
    "tags": []
   },
   "source": [
    "### 3: When were planets discovered?\n",
    "- Calculate the number of planets discovered between the following epochs:\n",
    "    - 1990-1994\n",
    "    - 1995-1999\n",
    "    - 2000-2004\n",
    "    - 2005-2009\n",
    "    - 2010-2014\n",
    "- Plot this data to show how the number of planets discovered has changed over time."
   ]
  },
  {
   "cell_type": "code",
   "execution_count": null,
   "id": "3f4b1b4e-b097-4724-814e-e5875c10e41a",
   "metadata": {
    "deletable": false,
    "nbgrader": {
     "cell_type": "code",
     "checksum": "1c3dab72c8ebd1e8440e3243ccc2bc59",
     "grade": true,
     "grade_id": "cell-b5e72b64b9a46503",
     "locked": false,
     "points": 1,
     "schema_version": 3,
     "solution": true,
     "task": false
    }
   },
   "outputs": [],
   "source": [
    "# YOUR CODE HERE\n",
    "raise NotImplementedError()"
   ]
  },
  {
   "cell_type": "markdown",
   "id": "cd14765b-926b-4c53-a4ab-d00540cf47e6",
   "metadata": {
    "deletable": false,
    "editable": false,
    "nbgrader": {
     "cell_type": "markdown",
     "checksum": "c4c6fb338b8b092de8b36acb01a188b3",
     "grade": false,
     "grade_id": "cell-e3f8b996dcebde28",
     "locked": true,
     "schema_version": 3,
     "solution": false,
     "task": false
    }
   },
   "source": [
    "---\n",
    "This assignment was adapted from Paul Gribble's [Scientific Computing course](https://gribblelab.org/teaching/scicomp2020/)."
   ]
  }
 ],
 "metadata": {
  "kernelspec": {
   "display_name": "Python 3 (ipykernel)",
   "language": "python",
   "name": "python3"
  },
  "language_info": {
   "codemirror_mode": {
    "name": "ipython",
    "version": 3
   },
   "file_extension": ".py",
   "mimetype": "text/x-python",
   "name": "python",
   "nbconvert_exporter": "python",
   "pygments_lexer": "ipython3",
   "version": "3.10.14"
  }
 },
 "nbformat": 4,
 "nbformat_minor": 5
}
