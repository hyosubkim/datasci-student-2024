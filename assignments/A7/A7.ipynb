{
 "cells": [
  {
   "attachments": {},
   "cell_type": "markdown",
   "id": "935f2222-48ef-4f3c-a39a-3e26ff1690f9",
   "metadata": {},
   "source": [
    "# Assignment 7 (due Sunday, Nov 24)\n",
    "---\n",
    "### \"Option\" 1: For those who did not receive full marks on A6\n",
    "\n",
    "- Resubmit A6 -- A6 has been reopened on Canvas\n",
    "- Fix your code AND create a new cell explaining where you originally went wrong and how you fixed the problem.\n",
    "- Feel free to also complete Option 2 (but not mandatory).\n",
    "\n",
    "\n",
    "### Option 2: Provide a one-paragraph update on your final project\n",
    "\n",
    "- Describe what you have completed so far? What has gone smoothly? What has been difficult. Be specific and clear.\n",
    "- Feel free to share anything else you want me to know before I see your final submission .\n",
    "- If you haven't made progress since part 1, provide a clear roadmap with dates for completing the project. \n",
    "- Submit this notebook to A7 for this option\n",
    "\n",
    "---\n"
   ]
  },
  {
   "cell_type": "markdown",
   "id": "6e2b6766-5ebc-491d-88ed-2a2adb1158f9",
   "metadata": {},
   "source": [
    "#### Provide your summary in the cell below."
   ]
  },
  {
   "cell_type": "code",
   "execution_count": null,
   "id": "a1883630-25ca-43fb-9a73-051dbfb128a5",
   "metadata": {},
   "outputs": [],
   "source": []
  }
 ],
 "metadata": {
  "kernelspec": {
   "display_name": "Python 3 (ipykernel)",
   "language": "python",
   "name": "python3"
  },
  "language_info": {
   "codemirror_mode": {
    "name": "ipython",
    "version": 3
   },
   "file_extension": ".py",
   "mimetype": "text/x-python",
   "name": "python",
   "nbconvert_exporter": "python",
   "pygments_lexer": "ipython3",
   "version": "3.10.14"
  }
 },
 "nbformat": 4,
 "nbformat_minor": 5
}
