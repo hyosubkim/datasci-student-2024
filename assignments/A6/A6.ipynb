{
 "cells": [
  {
   "cell_type": "markdown",
   "id": "64930f83",
   "metadata": {
    "deletable": false,
    "editable": false,
    "nbgrader": {
     "cell_type": "markdown",
     "checksum": "48278d3b6cdc5c4fcc2e52ccb0b3c3b3",
     "grade": false,
     "grade_id": "cell-c248b5611449f852",
     "locked": true,
     "schema_version": 3,
     "solution": false,
     "task": false
    }
   },
   "source": [
    "# Instructions\n",
    "\n",
    "- **You must include your name in the cell below** \n",
    "- Make sure you fill in any place that says `YOUR CODE HERE` or `YOUR ANSWER HERE`.\n",
    "- Delete all of the `raise NotImplementedError()` lines after you answer the question\n",
    "- You are allowed to ask for help from other students after working on your own, but **make sure the work you submit is your own.** If someone did help you, assign their name(s) to ASSIST below\n",
    "- Before downloading the completed assignment, make sure to **restart the kernel and run all cells** (in the menubar, select **Kernel$\\rightarrow$Restart Kernel and Run All Cells**). If there are any code execution errors, you must fix them before submitting your assignment."
   ]
  },
  {
   "cell_type": "code",
   "execution_count": null,
   "id": "14c97498",
   "metadata": {},
   "outputs": [],
   "source": [
    "# YOUR NAME AND ANYONE WHO ASSISTED YOU\n",
    "NAME = \"\"\n",
    "ASSIST = \"\""
   ]
  },
  {
   "cell_type": "markdown",
   "id": "97e5a790",
   "metadata": {},
   "source": [
    "---"
   ]
  },
  {
   "cell_type": "markdown",
   "id": "cae8622e-2296-4364-a9f1-43677406425a",
   "metadata": {
    "deletable": false,
    "editable": false,
    "nbgrader": {
     "cell_type": "markdown",
     "checksum": "f94834e0e56fe4fb511e26f7c370c563",
     "grade": false,
     "grade_id": "cell-feca621dcabcaaca",
     "locked": true,
     "schema_version": 3,
     "solution": false,
     "task": false
    },
    "slideshow": {
     "slide_type": ""
    },
    "tags": []
   },
   "source": [
    "# Assignment 5: Build your own bootstrap function (1 point)\n",
    "\n",
    "Your goal for this assignment is to write your own bootstrapping function. \n",
    "\n",
    "Imagine you live in a world without `pandas`. I know&mdash;horrifying! Even though `pandas` does not exist, you still need to process loads of data in your job as a data scientist for an athletic wear start-up. You will be working with various data sets and will need to bootstrap often. It would be inefficient to re-write your code each time, so you decide to create a function to accomplish your bootstrapping goals. \n",
    "\n",
    "The function should take in 3 arguments:\n",
    "- The data (which will come in the form of a `np.array`) \n",
    "- The number of bootstrapped estimates to compute\n",
    "- The confidence level you want to use to quantify the uncertainty around your point estimate\n",
    "\n",
    "The function should return 4 outputs:  \n",
    "- The distribution of bootstrapped means (you will use this to plot your results)\n",
    "- The mean of your bootstrapped distribution\n",
    "- The lower confidence bound\n",
    "- The upper confidence bound\n"
   ]
  },
  {
   "cell_type": "code",
   "execution_count": null,
   "id": "3eb66b95-c974-4f0e-a498-b0054cc2b83c",
   "metadata": {
    "deletable": false,
    "editable": false,
    "nbgrader": {
     "cell_type": "code",
     "checksum": "09b4cbd4f3d30889b3bb54b8d7483f85",
     "grade": false,
     "grade_id": "cell-23d01bd2fa37f681",
     "locked": true,
     "schema_version": 3,
     "solution": false,
     "task": false
    },
    "slideshow": {
     "slide_type": ""
    },
    "tags": []
   },
   "outputs": [],
   "source": [
    "# Run this cell. Do NOT import any other packages!\n",
    "import numpy as np"
   ]
  },
  {
   "cell_type": "code",
   "execution_count": null,
   "id": "769073ed-cc15-447c-b57b-7932e229c2f3",
   "metadata": {
    "deletable": false,
    "editable": false,
    "nbgrader": {
     "cell_type": "code",
     "checksum": "dbcdcd5953773459c0953b34e7448058",
     "grade": false,
     "grade_id": "cell-23e01bd2fa37f681",
     "locked": true,
     "schema_version": 3,
     "solution": false,
     "task": false
    },
    "slideshow": {
     "slide_type": ""
    },
    "tags": []
   },
   "outputs": [],
   "source": [
    "# Run this cell. \n",
    "# It will generate a dataset of 1000 adult heights for you to test your function with.\n",
    "mean_height = 170  # mean height in cm\n",
    "std_dev_height = 10  # standard deviation in cm\n",
    "sample_size = 1000\n",
    "\n",
    "heights = np.random.normal(loc=mean_height, scale=std_dev_height, size=sample_size)"
   ]
  },
  {
   "cell_type": "markdown",
   "id": "43f719c2-0811-4b8c-a6ba-7ed6bfbcc324",
   "metadata": {
    "deletable": false,
    "editable": false,
    "nbgrader": {
     "cell_type": "markdown",
     "checksum": "353da8c7cc66c3216563461da4f795e0",
     "grade": false,
     "grade_id": "cell-399b9f702ed3e33b",
     "locked": true,
     "schema_version": 3,
     "solution": false,
     "task": false
    }
   },
   "source": [
    "The point of this assignment is to further familiarize yourself with the bootstrapping technique. Although we've practiced how to bootstrap using `pandas`, it is helpful to know how to code it up without the use of `pandas`, for the exact same reasons it's helpful to know multiple ways to plot some data or play a musical passage or coach an athlete&mdash;it helps to look at a thing from multiple perspectives and be mentally flexible, and it's fun!\n",
    "\n",
    "Below is the basic recipe I want you to use within your function. You are not allowed to use any functions other than the ones specified in this recipe. \n",
    "\n",
    "1. Initialize an array to store the means from each bootstrap sample. Use `np.zeros()` for this.\n",
    "2. Write a for loop to generate bootstrap samples and calculate (and store) the mean of each sample.\n",
    "    - To generate each sample, use `np.random.choice()`\n",
    "    - Use `np.mean()` to compute the mean\n",
    "3. Calculate the mean of your bootstrapped distribution (i.e., the mean of means)\n",
    "4. Calculate the lower and upper bounds of your confidence interval. You will find `np.percentile()` helpful for this.\n",
    "5. Return the 4 outputs."
   ]
  },
  {
   "cell_type": "code",
   "execution_count": null,
   "id": "fd17ee55-aa48-47bb-a0cc-484a742d820b",
   "metadata": {
    "deletable": false,
    "editable": true,
    "nbgrader": {
     "cell_type": "code",
     "checksum": "e4a6712f35a8e4ecbb5c5bd152826548",
     "grade": false,
     "grade_id": "cell-6f5e49bec83c0053",
     "locked": false,
     "schema_version": 3,
     "solution": true,
     "task": false
    },
    "slideshow": {
     "slide_type": ""
    },
    "tags": []
   },
   "outputs": [],
   "source": [
    "def bootstrap(data, n_bootstrap_samples, confidence_level):\n",
    "    # YOUR CODE HERE\n",
    "    raise NotImplementedError()\n",
    "    return bootstrap_means, mean_of_means, lower_bound, upper_bound\n"
   ]
  },
  {
   "cell_type": "code",
   "execution_count": null,
   "id": "f9b45363-9302-4768-a354-1de8837318e7",
   "metadata": {
    "deletable": false,
    "editable": false,
    "nbgrader": {
     "cell_type": "code",
     "checksum": "eed145fb92eec27f2a0dce67e0057b49",
     "grade": true,
     "grade_id": "cell-d6f48e698ae42da6",
     "locked": true,
     "points": 1,
     "schema_version": 3,
     "solution": false,
     "task": false
    },
    "slideshow": {
     "slide_type": ""
    },
    "tags": []
   },
   "outputs": [],
   "source": []
  },
  {
   "cell_type": "markdown",
   "id": "26ce247a-913d-4e43-b106-bc3474e68cb9",
   "metadata": {
    "deletable": false,
    "editable": false,
    "nbgrader": {
     "cell_type": "markdown",
     "checksum": "cd0bcf5b9c2d0fdab16aa0fcccc3a88d",
     "grade": false,
     "grade_id": "cell-64d5f0bd9ee305f0",
     "locked": true,
     "schema_version": 3,
     "solution": false,
     "task": false
    }
   },
   "source": [
    "---\n",
    "### Plot your data \n",
    "\n",
    "This next part will not be graded, but do this anyways as a sanity check, and more importantly, so you can visualize some nice results! \n",
    "\n",
    "Use the heights from before and compute a bootstrapped distribution of means. Run 10,000 simulations and compute the 95% CI. Plot a nice histogram with confidence bounds using only `matplotlib`. "
   ]
  },
  {
   "cell_type": "code",
   "execution_count": null,
   "id": "df6c0ddf-f5b4-406f-9e58-494d36835c6c",
   "metadata": {
    "deletable": false,
    "nbgrader": {
     "cell_type": "code",
     "checksum": "c5bdd9a3688a16443007cd906c0ac3ea",
     "grade": true,
     "grade_id": "cell-29f4f8417ea18856",
     "locked": false,
     "points": 0,
     "schema_version": 3,
     "solution": true,
     "task": false
    }
   },
   "outputs": [],
   "source": [
    "# Call your function here \n",
    "# YOUR CODE HERE\n",
    "raise NotImplementedError()"
   ]
  },
  {
   "cell_type": "code",
   "execution_count": null,
   "id": "d5eb8844-815c-427b-aa16-717b8a92dba9",
   "metadata": {
    "deletable": false,
    "editable": true,
    "nbgrader": {
     "cell_type": "code",
     "checksum": "6b3dab0d979c891b44a7137fe9516aae",
     "grade": true,
     "grade_id": "cell-0c1834ff1cc1c80b",
     "locked": false,
     "points": 0,
     "schema_version": 3,
     "solution": true,
     "task": false
    },
    "slideshow": {
     "slide_type": ""
    },
    "tags": []
   },
   "outputs": [],
   "source": [
    "# Create your plot in this cell using matplotlib ONLY\n",
    "import matplotlib.pyplot as plt\n",
    "\n",
    "# YOUR CODE HERE\n",
    "raise NotImplementedError()"
   ]
  }
 ],
 "metadata": {
  "kernelspec": {
   "display_name": "Python 3 (ipykernel)",
   "language": "python",
   "name": "python3"
  },
  "language_info": {
   "codemirror_mode": {
    "name": "ipython",
    "version": 3
   },
   "file_extension": ".py",
   "mimetype": "text/x-python",
   "name": "python",
   "nbconvert_exporter": "python",
   "pygments_lexer": "ipython3",
   "version": "3.10.14"
  }
 },
 "nbformat": 4,
 "nbformat_minor": 5
}
