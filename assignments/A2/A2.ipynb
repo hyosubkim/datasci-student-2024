{
 "cells": [
  {
   "cell_type": "markdown",
   "id": "257b2c2b",
   "metadata": {
    "deletable": false,
    "editable": false,
    "nbgrader": {
     "cell_type": "markdown",
     "checksum": "48278d3b6cdc5c4fcc2e52ccb0b3c3b3",
     "grade": false,
     "grade_id": "cell-c248b5611449f852",
     "locked": true,
     "schema_version": 3,
     "solution": false,
     "task": false
    }
   },
   "source": [
    "# Instructions\n",
    "\n",
    "- **You must include your name in the cell below** \n",
    "- Make sure you fill in any place that says `YOUR CODE HERE` or `YOUR ANSWER HERE`.\n",
    "- Delete all of the `raise NotImplementedError()` lines after you answer the question\n",
    "- You are allowed to ask for help from other students after working on your own, but **make sure the work you submit is your own.** If someone did help you, assign their name(s) to ASSIST below\n",
    "- Before downloading the completed assignment, make sure to **restart the kernel and run all cells** (in the menubar, select **Kernel$\\rightarrow$Restart Kernel and Run All Cells**). If there are any code execution errors, you must fix them before submitting your assignment."
   ]
  },
  {
   "cell_type": "code",
   "execution_count": null,
   "id": "9aede87d",
   "metadata": {},
   "outputs": [],
   "source": [
    "# YOUR NAME AND ANYONE WHO ASSISTED YOU\n",
    "NAME = \"\"\n",
    "ASSIST = \"\""
   ]
  },
  {
   "cell_type": "markdown",
   "id": "a29c25bd",
   "metadata": {},
   "source": [
    "---"
   ]
  },
  {
   "cell_type": "markdown",
   "id": "6c519341-6388-4ae1-bcd9-5fc16fe8a795",
   "metadata": {
    "deletable": false,
    "editable": false,
    "nbgrader": {
     "cell_type": "markdown",
     "checksum": "e4557c72f51dd026c6a80da1dfd18b11",
     "grade": false,
     "grade_id": "cell-c76d4d04f5242f87",
     "locked": true,
     "schema_version": 3,
     "solution": false,
     "task": false
    }
   },
   "source": [
    "# Assignment 2: For Loops and Conditionals"
   ]
  },
  {
   "cell_type": "markdown",
   "id": "f3621230-e59b-414a-b2ae-84c45bcf561d",
   "metadata": {
    "deletable": false,
    "editable": false,
    "nbgrader": {
     "cell_type": "markdown",
     "checksum": "3a69230e50ddeda326f8223bd2823343",
     "grade": false,
     "grade_id": "cell-26a5e213fb222d2b",
     "locked": true,
     "schema_version": 3,
     "solution": false,
     "task": false
    }
   },
   "source": [
    "## Part 1. Compute a dot product (3 pts) \n",
    "The dot product is defined as:\n",
    "\n",
    "$$\\vec{a} \\cdot \\vec{b} = a_1 \\times b_1 + a_2 \\times b_2 + ... + a_n \\times b_n = \\sum_{i=1}^{n} a_i b_i$$\n",
    "\n",
    "where $a_i$ and $b_i$ are the components of vectors $\\vec{a}$ and $\\vec{b}$ in the ith position, respectively. \n",
    "\n",
    "Given the following two lists, compute a dot product using a for loop. Assign your answer to the variable `answer_1`"
   ]
  },
  {
   "cell_type": "code",
   "execution_count": null,
   "id": "e3660512-a234-4af7-a481-26d575585aec",
   "metadata": {
    "deletable": false,
    "editable": false,
    "nbgrader": {
     "cell_type": "code",
     "checksum": "732fb4b79c5075d7e334141be2564d80",
     "grade": false,
     "grade_id": "cell-ed715f1b0e93b259",
     "locked": true,
     "schema_version": 3,
     "solution": false,
     "task": false
    }
   },
   "outputs": [],
   "source": [
    "# run this cell\n",
    "a = [10, 15, 99, 2, 3, -5, -9, 10, 5, 20]\n",
    "b = [1, -5, 0, 2, 10, 4, -3, 2, 76, -8]"
   ]
  },
  {
   "cell_type": "code",
   "execution_count": null,
   "id": "fb7ff9c5-cbdb-4078-ab9e-b21d32c5db34",
   "metadata": {
    "deletable": false,
    "nbgrader": {
     "cell_type": "code",
     "checksum": "446bd5705cd0cb9866b4ab3c92cc78c4",
     "grade": false,
     "grade_id": "cell-9ffecc2016e9c301",
     "locked": false,
     "schema_version": 3,
     "solution": true,
     "task": false
    }
   },
   "outputs": [],
   "source": [
    "# YOUR CODE HERE\n",
    "raise NotImplementedError()"
   ]
  },
  {
   "cell_type": "code",
   "execution_count": null,
   "id": "5734d2f8-6a0e-4fd5-b582-26d544ee27a2",
   "metadata": {
    "deletable": false,
    "editable": false,
    "nbgrader": {
     "cell_type": "code",
     "checksum": "69a8da3493eae8d6daec961687e0f6b0",
     "grade": true,
     "grade_id": "cell-a91c730293159806",
     "locked": true,
     "points": 3,
     "schema_version": 3,
     "solution": false,
     "task": false
    }
   },
   "outputs": [],
   "source": [
    "# Leave this blank"
   ]
  },
  {
   "cell_type": "markdown",
   "id": "c9817474-e185-4d85-99af-63cc602d90a0",
   "metadata": {
    "deletable": false,
    "editable": false,
    "nbgrader": {
     "cell_type": "markdown",
     "checksum": "b5ed495c32bb9ba932a852aa4f5ac0ba",
     "grade": false,
     "grade_id": "cell-298043a8b8df0dbb",
     "locked": true,
     "schema_version": 3,
     "solution": false,
     "task": false
    }
   },
   "source": [
    "---\n",
    "## Part 2.  Newton’s Method for Finding the Square Root (5 pts)\n",
    "Write a short program to estimate the square root of any number using [Newton’s method](https://en.wikipedia.org/wiki/Newton%27s_method#Examples). The method itself is secondary (although it's pretty neat); the point of this assignment is to provide you with more practice with writing loops and using conditionals. Write your program so that the number whose square root is to be taken, and the number of iterations to be used, are both variables that can be set at the top of the program. You can choose the initial guess on your own, but try starting with the number 10.0 as in the Wikipedia example.\n",
    "\n",
    "This is the relevant section of the Wikipedia entry and the only bit you need in order to complete this assignment. The relevant equation is highlighted in a red box."
   ]
  },
  {
   "cell_type": "markdown",
   "id": "1b451ae0-db40-4340-a577-743d919f7caf",
   "metadata": {
    "deletable": false,
    "editable": false,
    "nbgrader": {
     "cell_type": "markdown",
     "checksum": "2b262f40ab172b98be7b4b2ebdf83661",
     "grade": false,
     "grade_id": "cell-36861c507301269a",
     "locked": true,
     "schema_version": 3,
     "solution": false,
     "task": false
    }
   },
   "source": [
    "<center><img src=\"../images/newton_method.png\" width=850}<center>"
   ]
  },
  {
   "cell_type": "markdown",
   "id": "122c1194-70d1-481e-bf0b-1e44d8a4fc04",
   "metadata": {
    "deletable": false,
    "editable": false,
    "nbgrader": {
     "cell_type": "markdown",
     "checksum": "9f0dafa8e6fae183355e2e64c07cec94",
     "grade": false,
     "grade_id": "cell-07bc4bdcfb33bcc5",
     "locked": true,
     "schema_version": 3,
     "solution": false,
     "task": false
    }
   },
   "source": [
    "The idea is you start with an initial guess (in this case, 10). The initial guess is then passed through an equation (shown in the red box) to refine it (in the example, it gets refined to 35.6). That refined guess then becomes the next guess which is passed through the same equation again, and further refined."
   ]
  },
  {
   "cell_type": "markdown",
   "id": "f0362478-5d46-4537-aa79-1e16e3cf9df7",
   "metadata": {
    "deletable": false,
    "editable": false,
    "nbgrader": {
     "cell_type": "markdown",
     "checksum": "3ee5f4e674afb314b6ecc3de6cdde7ac",
     "grade": false,
     "grade_id": "cell-7b1406b2252d8da9",
     "locked": true,
     "schema_version": 3,
     "solution": false,
     "task": false
    }
   },
   "source": [
    "**Hint:** For finding the square root of 612, the first 3 iterations (after the initial guess of 10) should produce this:\n",
    "```    \n",
    "10  \n",
    "35.6  \n",
    "26.395505617977527  \n",
    "24.790635492455475\n",
    "```\n"
   ]
  },
  {
   "cell_type": "markdown",
   "id": "769665cc-5713-4762-bee6-a5d2dfaf7eb0",
   "metadata": {
    "deletable": false,
    "editable": false,
    "nbgrader": {
     "cell_type": "markdown",
     "checksum": "4365ca96c9db56d6c7a80e9b3fb58480",
     "grade": false,
     "grade_id": "cell-5ff82059cd49fc96",
     "locked": true,
     "schema_version": 3,
     "solution": false,
     "task": false
    }
   },
   "source": [
    "**For this problem, find the square root of 989 using 10 iterations.** Assign an initial guess of 10 to the variable `initial_guess` and assign your final answer after 10 iterations to the variable `answer_2`"
   ]
  },
  {
   "cell_type": "code",
   "execution_count": null,
   "id": "6bd6b107-e6c4-452c-8809-bc7206d64137",
   "metadata": {
    "deletable": false,
    "nbgrader": {
     "cell_type": "code",
     "checksum": "f7c71cc8af4b046a047396bbab770fa3",
     "grade": false,
     "grade_id": "cell-77b5c0d44adb6747",
     "locked": false,
     "schema_version": 3,
     "solution": true,
     "task": false
    }
   },
   "outputs": [],
   "source": [
    "# YOUR CODE HERE\n",
    "raise NotImplementedError()\n"
   ]
  },
  {
   "cell_type": "code",
   "execution_count": null,
   "id": "335bd9f9-bb56-4b17-81af-b5a2bfadca38",
   "metadata": {
    "deletable": false,
    "editable": false,
    "nbgrader": {
     "cell_type": "code",
     "checksum": "ae18be5208873f0c7161746c5fdf0a71",
     "grade": true,
     "grade_id": "cell-d24601b26ce62f0e",
     "locked": true,
     "points": 5,
     "schema_version": 3,
     "solution": false,
     "task": false
    }
   },
   "outputs": [],
   "source": [
    "# Leave this blank"
   ]
  },
  {
   "cell_type": "markdown",
   "id": "1a41e3e4-616f-46d7-a999-e05730bdec3c",
   "metadata": {
    "deletable": false,
    "editable": false,
    "nbgrader": {
     "cell_type": "markdown",
     "checksum": "1b6d34de7040760657a19c3d517f42bb",
     "grade": false,
     "grade_id": "cell-591aa6e61dd7d3d3",
     "locked": true,
     "schema_version": 3,
     "solution": false,
     "task": false
    }
   },
   "source": [
    "--- \n",
    "## Part 3: Estimate $\\pi$ by throwing darts (5 pts)\n",
    "\n",
    "Imagine a circle of radius $r$ inscribed inside a square with side length $2r$. Now imagine throwing a dart which lands at some random location within the square. In fact, you are so perfectly random at throwing darts that the probabilities of the dart landing in any location on the board are all equal (i.e., probabilities are uniformly distributed). Sometimes the dart will be inside the circle and sometimes it will not. (You may want to actually sketch this out for yourself.) If you count the number of darts that land inside the circle and divide that by the total number of darts, that ratio should equal $\\frac{\\pi}{4}$. (To understand why, recall that the area of a circle is equal to $\\pi r^2$ and the area of a square with side length $2r$ is $(2r)^2$).\n",
    "\n",
    "**As an exercise, implement this method of estimating $\\pi$. Create a program that takes an integer $n$ as input, and returns as output the estimated value of $\\pi$ using $n$ throws of the dart. Assign your estimate of pi after 1000 throws to the variable `answer_3`.**\n",
    "\n",
    "Very soon, we'll learn about Python libraries. But since we haven't talked about them yet, I've included the lines necessary to import NumPy and the `np.random.rand()` function. All you need to know for now is that this function samples from a uniform random distribution over the interval $(0,1)$. In other words, if you pass the argument $n$ to it (as in `np.random.rand(n)`, then it will return $n$ random values between 0 and 1 (with each value having equal probability of being drawn because the distribution is uniform). Because it's random, each time you run the function it will give you different values. (**Hint:** This is the function you need to use in order to simulate $n$ throws of a dart.)\n",
    "\n",
    "**Hint Hint:** To determine whether each point is inside or outside of the circle you can compute the distance between the point and the centre of the circle. If this distance is greater than the radius of the circle, it must be outside of the circle. Using the Pythagorean theorem you can easily show that the equation for the distance between two points $(x_1,y_1)$ and $(x_2,y_2)$ is: \n",
    "\n",
    "$$d=\\sqrt{(x_2 - x_1)^2 + (y_2 - y_1)^2}$$\n"
   ]
  },
  {
   "cell_type": "code",
   "execution_count": null,
   "id": "128b966e-0bdb-4f7f-a8dd-87a8933a9cb4",
   "metadata": {
    "deletable": false,
    "editable": false,
    "nbgrader": {
     "cell_type": "code",
     "checksum": "265642afab667ed3630cfcd5fbf811ca",
     "grade": false,
     "grade_id": "cell-6114d8f229540703",
     "locked": true,
     "schema_version": 3,
     "solution": false,
     "task": false
    }
   },
   "outputs": [],
   "source": [
    "# Run this cell\n",
    "import numpy as np \n"
   ]
  },
  {
   "cell_type": "code",
   "execution_count": null,
   "id": "afd5d92f-56b4-44bf-b8a1-9c7259591d9e",
   "metadata": {
    "deletable": false,
    "nbgrader": {
     "cell_type": "code",
     "checksum": "28ad374f4e19cf0ddf9495ad663d5f4f",
     "grade": false,
     "grade_id": "cell-5b31a108f3404e7b",
     "locked": false,
     "schema_version": 3,
     "solution": true,
     "task": false
    }
   },
   "outputs": [],
   "source": [
    "# Do NOT delete this next line\n",
    "np.random.seed(808)\n",
    "\n",
    "# YOUR CODE HERE\n",
    "raise NotImplementedError()\n"
   ]
  },
  {
   "cell_type": "code",
   "execution_count": null,
   "id": "61b8882c-52f1-4761-8d5f-0ae3f24b9410",
   "metadata": {
    "deletable": false,
    "editable": false,
    "nbgrader": {
     "cell_type": "code",
     "checksum": "b437acaaff7c4dc0d8ea7f878e5a3133",
     "grade": true,
     "grade_id": "cell-02314720bec28026",
     "locked": true,
     "points": 5,
     "schema_version": 3,
     "solution": false,
     "task": false
    }
   },
   "outputs": [],
   "source": [
    "# Leave this blank"
   ]
  }
 ],
 "metadata": {
  "kernelspec": {
   "display_name": "Python 3 (ipykernel)",
   "language": "python",
   "name": "python3"
  },
  "language_info": {
   "codemirror_mode": {
    "name": "ipython",
    "version": 3
   },
   "file_extension": ".py",
   "mimetype": "text/x-python",
   "name": "python",
   "nbconvert_exporter": "python",
   "pygments_lexer": "ipython3",
   "version": "3.10.14"
  }
 },
 "nbformat": 4,
 "nbformat_minor": 5
}
