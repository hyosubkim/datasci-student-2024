{
 "cells": [
  {
   "cell_type": "markdown",
   "id": "2bb27967",
   "metadata": {},
   "source": [
    "# Instructions\n",
    "\n",
    "- **You must include your name in the cell below** \n",
    "- Make sure you fill in any place that says `YOUR CODE HERE` or `YOUR ANSWER HERE`.\n",
    "- Delete all of the `raise NotImplementedError()` lines after you answer the question\n",
    "- You are allowed to ask for help from other students after working on your own, but **make sure the work you submit is your own.** If someone did help you, assign their name(s) to ASSIST below\n",
    "- Before downloading the completed assignment, make sure to **restart the kernel and run all cells** (in the menubar, select **Kernel$\\rightarrow$Restart Kernel and Run All Cells**). If there are any code execution errors, you must fix them before submitting your assignment."
   ]
  },
  {
   "cell_type": "code",
   "execution_count": null,
   "id": "1e1279f7",
   "metadata": {},
   "outputs": [],
   "source": [
    "# YOUR NAME AND ANYONE WHO ASSISTED YOU\n",
    "NAME = \"\"\n",
    "ASSIST = \"\""
   ]
  },
  {
   "cell_type": "markdown",
   "id": "d6995410",
   "metadata": {},
   "source": [
    "---"
   ]
  },
  {
   "cell_type": "markdown",
   "id": "c0a350d1-1e8a-4694-b228-588365ad0858",
   "metadata": {
    "deletable": false,
    "editable": false,
    "nbgrader": {
     "cell_type": "markdown",
     "checksum": "1c5fb67e90fdd647f6753306c5478da7",
     "grade": false,
     "grade_id": "cell-d8a31a79b04f83c4",
     "locked": true,
     "schema_version": 3,
     "solution": false,
     "task": false
    }
   },
   "source": [
    "# Assignment 1: Python basics\n",
    "---\n",
    "## Part 1: Variable assignment, evaluating expressions, and data types.\n",
    "### 1. Translating math to code, and variable assignment. (5pts)\n",
    "\n",
    "Given parabolic flight, the height $y$ of a ball is given by the equation:\n",
    "$$ y = x\\tan(\\theta) - \\left[ \\frac{1}{2 v_{0}^2} \\right] \\left[\\frac{g x^{2}}{cos(\\theta)^{2}} \\right] + y_{0} $$\n",
    "\n",
    "<!-- $$ y = x\\tan(\\theta) - \\frac{1}{2 v_{0}^2} \\cdot \\frac{g x^{2}}{cos(\\theta)^{2}}  + y_{0} $$ -->\n",
    "\n",
    "\n",
    "where $x$ is a horizontal coordinate (meters), $g$ is the acceleration of gravity (meters per second per second), $v_{0}$ is the initial velocity (meters per second) at an angle $\\theta$ (radians) with the x-axis, and $y_0$ is the initial position of the ball (meters).\n",
    "\n",
    "Write a program to compute the vertical height $y$ of a ball. "
   ]
  },
  {
   "cell_type": "markdown",
   "id": "922042ed-89bf-4891-a2a3-2ed0627a3279",
   "metadata": {
    "deletable": false,
    "editable": false,
    "nbgrader": {
     "cell_type": "markdown",
     "checksum": "7c4c36d7e94b72b0fb340a28f0e281cd",
     "grade": false,
     "grade_id": "cell-c7524f9133d9cdc7",
     "locked": true,
     "schema_version": 3,
     "solution": false,
     "task": false
    }
   },
   "source": [
    "Test your program with the values given in the example below. Assign your answer to the variable `answer_1`\n",
    "\n",
    "g (m/s/s): 9.8   \n",
    "for v0 (m/s): 6.789   \n",
    "theta (rad): 0.123   \n",
    "x (m): 4.5   \n",
    "y0 (m): 5.4   \n",
    " "
   ]
  },
  {
   "cell_type": "code",
   "execution_count": null,
   "id": "9f2e66a0-f81f-406f-880a-1ec320e2339a",
   "metadata": {
    "deletable": false,
    "editable": false,
    "nbgrader": {
     "cell_type": "code",
     "checksum": "678e616a4d67d43da29e585688dd942e",
     "grade": false,
     "grade_id": "cell-4436e5271de9dcd7",
     "locked": true,
     "schema_version": 3,
     "solution": false,
     "task": false
    }
   },
   "outputs": [],
   "source": [
    "# Run this line of code\n",
    "from math import tan, cos"
   ]
  },
  {
   "cell_type": "code",
   "execution_count": null,
   "id": "be299156-16d3-4332-8b76-a24c9a2284b8",
   "metadata": {
    "deletable": false,
    "nbgrader": {
     "cell_type": "code",
     "checksum": "dfe6109fa067e8738b304ccb80111b6f",
     "grade": false,
     "grade_id": "cell-ca71036a28ab6cb1",
     "locked": false,
     "schema_version": 3,
     "solution": true,
     "task": false
    }
   },
   "outputs": [],
   "source": [
    "# YOUR CODE HERE\n",
    "raise NotImplementedError()"
   ]
  },
  {
   "cell_type": "code",
   "execution_count": null,
   "id": "c1f8170b-dc29-46cb-9e0d-8d9a07cb8051",
   "metadata": {
    "deletable": false,
    "editable": false,
    "nbgrader": {
     "cell_type": "code",
     "checksum": "d87b970092f029c9393c816a1daf7c9f",
     "grade": true,
     "grade_id": "cell-912fcbebae085b65",
     "locked": true,
     "points": 5,
     "schema_version": 3,
     "solution": false,
     "task": false
    }
   },
   "outputs": [],
   "source": [
    "# Leave this blank"
   ]
  },
  {
   "cell_type": "markdown",
   "id": "4b442462-76cf-4687-9315-056c859a53d0",
   "metadata": {
    "deletable": false,
    "editable": false,
    "nbgrader": {
     "cell_type": "markdown",
     "checksum": "9ced7beb896eae4925017ad43d8a280e",
     "grade": false,
     "grade_id": "cell-90766fc79c1703e6",
     "locked": true,
     "schema_version": 3,
     "solution": false,
     "task": false
    }
   },
   "source": [
    "---\n",
    "### 2. Variable Types and Slicing (2 pts)\n",
    "\n",
    "**a.** Using the values provided to you in Q1, assign your answer for `y` *only up to, and including, the fourth decimal place* to the variable `answer_2`"
   ]
  },
  {
   "cell_type": "code",
   "execution_count": null,
   "id": "4c99ab3e-6862-4dc8-8813-1683fb26c3ea",
   "metadata": {
    "deletable": false,
    "nbgrader": {
     "cell_type": "code",
     "checksum": "1ff9b0afba2e25cb4791f7253885bafc",
     "grade": false,
     "grade_id": "cell-934b49bd7e6e0f08",
     "locked": false,
     "schema_version": 3,
     "solution": true,
     "task": false
    }
   },
   "outputs": [],
   "source": [
    "# YOUR CODE HERE\n",
    "raise NotImplementedError()"
   ]
  },
  {
   "cell_type": "code",
   "execution_count": null,
   "id": "c6b0f4ca-c12f-46c9-9855-c051f6b22cce",
   "metadata": {
    "deletable": false,
    "editable": false,
    "nbgrader": {
     "cell_type": "code",
     "checksum": "942023dc5751a88c69a872b154e85dbe",
     "grade": true,
     "grade_id": "cell-8b943cf17a587454",
     "locked": true,
     "points": 1,
     "schema_version": 3,
     "solution": false,
     "task": false
    }
   },
   "outputs": [],
   "source": [
    "# Leave this blank"
   ]
  },
  {
   "cell_type": "markdown",
   "id": "6116c88f-d297-4485-b37e-606e64437d85",
   "metadata": {
    "deletable": false,
    "editable": false,
    "nbgrader": {
     "cell_type": "markdown",
     "checksum": "1d3f90107b1f41f7c9eff8ad77188177",
     "grade": false,
     "grade_id": "cell-7e6ba62d046a9d15",
     "locked": true,
     "schema_version": 3,
     "solution": false,
     "task": false
    }
   },
   "source": [
    "**b.** How much did the ball change in height (current position relative to initial position)? Assign your answer to the variable `answer_3`. Round to 2 decimal places."
   ]
  },
  {
   "cell_type": "code",
   "execution_count": null,
   "id": "fbcbff3d-be77-4048-a7e7-3c2f689b25e2",
   "metadata": {
    "deletable": false,
    "nbgrader": {
     "cell_type": "code",
     "checksum": "1288120f15fbce636628af48c196df9a",
     "grade": false,
     "grade_id": "cell-64574f82ce16a133",
     "locked": false,
     "schema_version": 3,
     "solution": true,
     "task": false
    }
   },
   "outputs": [],
   "source": [
    "# YOUR CODE HERE\n",
    "raise NotImplementedError()"
   ]
  },
  {
   "cell_type": "code",
   "execution_count": null,
   "id": "2ec8516e-7fe5-4d1b-98c1-7aa21b83a0c7",
   "metadata": {
    "deletable": false,
    "editable": false,
    "nbgrader": {
     "cell_type": "code",
     "checksum": "c8339003633721525d96efcf506dcbb3",
     "grade": true,
     "grade_id": "cell-665cb4d1b266ac70",
     "locked": true,
     "points": 1,
     "schema_version": 3,
     "solution": false,
     "task": false
    }
   },
   "outputs": [],
   "source": [
    "# Leave this blank"
   ]
  },
  {
   "cell_type": "markdown",
   "id": "af5af5f8-0658-4a84-b275-b21cec3a5713",
   "metadata": {
    "deletable": false,
    "editable": false,
    "nbgrader": {
     "cell_type": "markdown",
     "checksum": "5dec0675099a2bea7e8a5d9671e0adaa",
     "grade": false,
     "grade_id": "cell-d61a56fd2b6b9c52",
     "locked": true,
     "schema_version": 3,
     "solution": false,
     "task": false
    }
   },
   "source": [
    "---\n",
    "## Part 2: Lists, dictionaries\n"
   ]
  },
  {
   "cell_type": "markdown",
   "id": "8ae88a28-8023-4fc6-9d49-5335cdf3e8a7",
   "metadata": {
    "deletable": false,
    "editable": false,
    "nbgrader": {
     "cell_type": "markdown",
     "checksum": "648718fdc87c65379f39f1c7111955ee",
     "grade": false,
     "grade_id": "cell-87dd56a5bfc1f266",
     "locked": true,
     "schema_version": 3,
     "solution": false,
     "task": false
    }
   },
   "source": [
    "### 1. How Large is a Slice? (1 pt)\n",
    "\n",
    "Imagine we have a list of subjects' ages from for our research project: `age = [48.1, 56.6, 64.0, 71.0, 75.2, 79.2, 82.3, 72.1]`. If `a = 1` and `b = 5`, how long is the list `age[a:b]`? Assign your answer to `answer_4`."
   ]
  },
  {
   "cell_type": "code",
   "execution_count": null,
   "id": "80d74c03-2d64-4380-b73b-c75ca52276fc",
   "metadata": {
    "deletable": false,
    "nbgrader": {
     "cell_type": "code",
     "checksum": "927527f7e30473a98499c7ced39f38c2",
     "grade": false,
     "grade_id": "cell-a1097d8906a5057d",
     "locked": false,
     "schema_version": 3,
     "solution": true,
     "task": false
    }
   },
   "outputs": [],
   "source": [
    "# YOUR CODE HERE\n",
    "raise NotImplementedError()"
   ]
  },
  {
   "cell_type": "code",
   "execution_count": null,
   "id": "24a7293c-5858-47ae-9a45-31cdcf2bd042",
   "metadata": {
    "deletable": false,
    "editable": false,
    "nbgrader": {
     "cell_type": "code",
     "checksum": "c9367f15f4a32a361d3a289f6e3aa4b6",
     "grade": true,
     "grade_id": "cell-94c5f48e4c0b98f6",
     "locked": true,
     "points": 1,
     "schema_version": 3,
     "solution": false,
     "task": false
    }
   },
   "outputs": [],
   "source": [
    "# Leave this blank"
   ]
  },
  {
   "cell_type": "markdown",
   "id": "e647d1e6-dc8f-4519-9157-02bec870c131",
   "metadata": {
    "deletable": false,
    "editable": false,
    "nbgrader": {
     "cell_type": "markdown",
     "checksum": "634aef9b6b108b01191e7b9fd94666c4",
     "grade": false,
     "grade_id": "cell-8ec13ea89e82fd7b",
     "locked": true,
     "schema_version": 3,
     "solution": false,
     "task": false
    }
   },
   "source": [
    "---\n",
    "### 2. Reversing the list completely. (1 pt)  \n",
    "You should reverse the list completely (somehow the ages got reversed when you first entered them into `age`). Do this to the `age` list using slicing commands, but now make sure to include the first value (i.e., 48.1, which will turn into the final value after correctly reversing). Think about how `start:stop:step` works and what part of that you should change. Remember to assign this newly ordered list back to `age`!"
   ]
  },
  {
   "cell_type": "code",
   "execution_count": null,
   "id": "08d3b0b8-eaf2-4c9a-abf8-2b04f7c33db2",
   "metadata": {
    "deletable": false,
    "nbgrader": {
     "cell_type": "code",
     "checksum": "9af74cbf97c6b6b74ba5e760c2334b6f",
     "grade": false,
     "grade_id": "cell-99ccf5d7c00d1e18",
     "locked": false,
     "schema_version": 3,
     "solution": true,
     "task": false
    }
   },
   "outputs": [],
   "source": [
    "age = [48.1, 56.6, 64.0, 71.0, 75.2, 79.2, 82.3, 72.1]\n",
    "# YOUR CODE HERE\n",
    "raise NotImplementedError()"
   ]
  },
  {
   "cell_type": "code",
   "execution_count": null,
   "id": "32a31402-c601-4749-86b0-8406160a28cf",
   "metadata": {
    "deletable": false,
    "editable": false,
    "nbgrader": {
     "cell_type": "code",
     "checksum": "5dbc34a5a73ef4499aa4910385d1f0bd",
     "grade": true,
     "grade_id": "cell-4e6a54ba511de7ae",
     "locked": true,
     "points": 1,
     "schema_version": 3,
     "solution": false,
     "task": false
    }
   },
   "outputs": [],
   "source": [
    "# Leave this blank"
   ]
  },
  {
   "cell_type": "markdown",
   "id": "874e8b82-4702-4f48-b1d6-1db1d3989b33",
   "metadata": {
    "deletable": false,
    "editable": false,
    "nbgrader": {
     "cell_type": "markdown",
     "checksum": "890ed0077df2f79cfb6f19e0cd7e701c",
     "grade": false,
     "grade_id": "cell-b68feb39c2244f61",
     "locked": true,
     "schema_version": 3,
     "solution": false,
     "task": false
    }
   },
   "source": [
    "---\n",
    "### 3. Index into every odd-numbered item. (1 pt)\n",
    "Now that you're more comfortable indexing lists, the director of the lab you volunteer in asks you to report the age of every odd-numbered subject. Write an expression to do just that. Assign this new list to `answer_5`"
   ]
  },
  {
   "cell_type": "code",
   "execution_count": null,
   "id": "6de1c363-5cf9-4c05-8390-171358a29e46",
   "metadata": {
    "deletable": false,
    "nbgrader": {
     "cell_type": "code",
     "checksum": "4b3dd055a8f4f6f10c0b7a9ad9614b46",
     "grade": false,
     "grade_id": "cell-313ddd52be239d67",
     "locked": false,
     "schema_version": 3,
     "solution": true,
     "task": false
    }
   },
   "outputs": [],
   "source": [
    "# YOUR CODE HERE\n",
    "raise NotImplementedError()\n"
   ]
  },
  {
   "cell_type": "code",
   "execution_count": null,
   "id": "b2d5b628-9608-4511-8832-7ed8916e66e6",
   "metadata": {
    "deletable": false,
    "editable": false,
    "nbgrader": {
     "cell_type": "code",
     "checksum": "5297fe3d765506f934816caab93d5155",
     "grade": true,
     "grade_id": "cell-245415e2e6a12fcb",
     "locked": true,
     "points": 1,
     "schema_version": 3,
     "solution": false,
     "task": false
    }
   },
   "outputs": [],
   "source": [
    "# Leave this blank"
   ]
  },
  {
   "cell_type": "markdown",
   "id": "ea0b5ca2-c809-486a-bcce-ff0fb4df2d67",
   "metadata": {
    "deletable": false,
    "editable": false,
    "nbgrader": {
     "cell_type": "markdown",
     "checksum": "ebfe03d6b6a6a9ac848f760bd4eb6f1b",
     "grade": false,
     "grade_id": "cell-2aecb2ea63bb4fb1",
     "locked": true,
     "schema_version": 3,
     "solution": false,
     "task": false
    }
   },
   "source": [
    "---\n",
    "### 4. Extend your list. (1 pt) \n",
    "You've just been told by the graduate student in the lab you are helping that two more subjects' worth of data has been collected. The two subjects' ages are 47.4 and 56.5. Add them to your `age` list. Make sure you do it in one line and in a manner such that `age` remains a flat list (i.e., not a nested list)."
   ]
  },
  {
   "cell_type": "code",
   "execution_count": null,
   "id": "df653343-8822-4b36-ba70-dd7adf44dc13",
   "metadata": {
    "deletable": false,
    "nbgrader": {
     "cell_type": "code",
     "checksum": "fda7e1318e08650da41575bd923aec26",
     "grade": false,
     "grade_id": "cell-2c471763d5ca2f2e",
     "locked": false,
     "schema_version": 3,
     "solution": true,
     "task": false
    }
   },
   "outputs": [],
   "source": [
    "# YOUR CODE HERE\n",
    "raise NotImplementedError()"
   ]
  },
  {
   "cell_type": "code",
   "execution_count": null,
   "id": "4b0aa087-259b-41c1-8790-652ab2507f14",
   "metadata": {
    "deletable": false,
    "editable": false,
    "nbgrader": {
     "cell_type": "code",
     "checksum": "e7cb18800cf8df18a83093e32caa891e",
     "grade": true,
     "grade_id": "cell-a958749c2a10b2e3",
     "locked": true,
     "points": 1,
     "schema_version": 3,
     "solution": false,
     "task": false
    }
   },
   "outputs": [],
   "source": [
    "# Leave this blank"
   ]
  },
  {
   "cell_type": "markdown",
   "id": "c4a0ba2a-3282-48ba-9324-5fbd5605db33",
   "metadata": {
    "deletable": false,
    "editable": false,
    "nbgrader": {
     "cell_type": "markdown",
     "checksum": "b769f3b392a2b7776e0078dd47d56266",
     "grade": false,
     "grade_id": "cell-bfede71ef2fd7aa4",
     "locked": true,
     "schema_version": 3,
     "solution": false,
     "task": false
    }
   },
   "source": [
    "---\n",
    "### 5. Creating a dictionary (3 pts)\n",
    "We want to link each subject's unique ID to their respective age. First, use a Python built-in to determine how many subjects' data we've collected. Then create a list of subject IDs that begins with `s1` and ends with `sN`, where N is the total number of subjects. Assisgn this list to the variable `subject_ids`. Note the lower case 's'. (1 point)\n"
   ]
  },
  {
   "cell_type": "code",
   "execution_count": null,
   "id": "2117dabb-01a3-4917-821f-bbf804e7c409",
   "metadata": {
    "collapsed": false,
    "deletable": false,
    "jupyter": {
     "outputs_hidden": false
    },
    "nbgrader": {
     "cell_type": "code",
     "checksum": "5d4a099b1da35b6b6dde4530680b667c",
     "grade": false,
     "grade_id": "cell-89b979039d594a9e",
     "locked": false,
     "schema_version": 3,
     "solution": true,
     "task": false
    }
   },
   "outputs": [],
   "source": [
    "# YOUR CODE HERE\n",
    "raise NotImplementedError()"
   ]
  },
  {
   "cell_type": "code",
   "execution_count": null,
   "id": "d996d610-93dc-42e7-a1d5-ce6201f8a86d",
   "metadata": {
    "deletable": false,
    "editable": false,
    "nbgrader": {
     "cell_type": "code",
     "checksum": "3f2ac0441032830d76c1a99eca0b84b6",
     "grade": true,
     "grade_id": "cell-c4e623e7b39ef389",
     "locked": true,
     "points": 1,
     "schema_version": 3,
     "solution": false,
     "task": false
    }
   },
   "outputs": [],
   "source": [
    "# Leave this blank"
   ]
  },
  {
   "cell_type": "markdown",
   "id": "2bb39c3b-6881-492b-819f-fd45dd5abe59",
   "metadata": {
    "deletable": false,
    "editable": false,
    "nbgrader": {
     "cell_type": "markdown",
     "checksum": "40e162b2c032a3f1dbfd937da40bdc49",
     "grade": false,
     "grade_id": "cell-3af0f17ecce85568",
     "locked": true,
     "schema_version": 3,
     "solution": false,
     "task": false
    }
   },
   "source": [
    "Now create a dictionary named `data` for which the keys will be the first five subjects' IDs, with with their corresponding ages serving as values. That is, the keys will go from `s1` through `s5` in order, and the values will be the first five ages that have been stored. (2 points)"
   ]
  },
  {
   "cell_type": "code",
   "execution_count": null,
   "id": "9ffc564f-9163-40be-a1ea-3c951bb9e122",
   "metadata": {
    "deletable": false,
    "nbgrader": {
     "cell_type": "code",
     "checksum": "2ee95ca38689b654816d0ae53c7905b6",
     "grade": false,
     "grade_id": "cell-af3eb74bdb437cf1",
     "locked": false,
     "schema_version": 3,
     "solution": true,
     "task": false
    }
   },
   "outputs": [],
   "source": [
    "# YOUR CODE HERE\n",
    "raise NotImplementedError()"
   ]
  },
  {
   "cell_type": "code",
   "execution_count": null,
   "id": "8b8f71a0-3a09-4314-a9b4-d15577d1dfae",
   "metadata": {
    "collapsed": false,
    "deletable": false,
    "editable": false,
    "jupyter": {
     "outputs_hidden": false
    },
    "nbgrader": {
     "cell_type": "code",
     "checksum": "5a1a7a3251316a2aaae943f4b0ebf242",
     "grade": true,
     "grade_id": "cell-dcf54ae7266f0d96",
     "locked": true,
     "points": 2,
     "schema_version": 3,
     "solution": false,
     "task": false
    }
   },
   "outputs": [],
   "source": [
    "# Leave this blank\n"
   ]
  },
  {
   "cell_type": "markdown",
   "id": "9d90674a-3938-461b-a125-124d1fbfd3d3",
   "metadata": {
    "deletable": false,
    "editable": false,
    "nbgrader": {
     "cell_type": "markdown",
     "checksum": "90ce18838d4a4e1079d53747e9b7ffe1",
     "grade": false,
     "grade_id": "cell-4273330c32f3a9b7",
     "locked": true,
     "schema_version": 3,
     "solution": false,
     "task": false
    }
   },
   "source": [
    "---\n",
    "### 6. Extending dictionaries (1 pt)"
   ]
  },
  {
   "cell_type": "markdown",
   "id": "7a188515-b418-4326-83ba-03ea97140fa3",
   "metadata": {
    "deletable": false,
    "editable": false,
    "nbgrader": {
     "cell_type": "markdown",
     "checksum": "39e2b3c1359401153963235cbb610251",
     "grade": false,
     "grade_id": "cell-ca72b7f45a8c9e2b",
     "locked": true,
     "schema_version": 3,
     "solution": false,
     "task": false
    }
   },
   "source": [
    "Add `key:value` pairs for subjects 6-8, using corresponding age values from `age` and print the dictionary. (It turns out that data from subjects 9 and 10 were invalid due to a technical error during data collection, so we will no longer be analyzing those data.) "
   ]
  },
  {
   "cell_type": "code",
   "execution_count": null,
   "id": "4a0dca1a-e01b-4bb9-bd83-ff180657fea9",
   "metadata": {
    "collapsed": false,
    "deletable": false,
    "jupyter": {
     "outputs_hidden": false
    },
    "nbgrader": {
     "cell_type": "code",
     "checksum": "2c987b0780b83b27795d5406e425de48",
     "grade": false,
     "grade_id": "cell-23e5f55a2c1b3bf5",
     "locked": false,
     "schema_version": 3,
     "solution": true,
     "task": false
    }
   },
   "outputs": [],
   "source": [
    "# YOUR CODE HERE\n",
    "raise NotImplementedError()"
   ]
  },
  {
   "cell_type": "code",
   "execution_count": null,
   "id": "786f40df-4ac2-4e55-9979-f2a706e8f400",
   "metadata": {
    "deletable": false,
    "editable": false,
    "nbgrader": {
     "cell_type": "code",
     "checksum": "84de1c3dad50fa431846c92cd3de6f21",
     "grade": true,
     "grade_id": "cell-7198604212cebfe1",
     "locked": true,
     "points": 1,
     "schema_version": 3,
     "solution": false,
     "task": false
    }
   },
   "outputs": [],
   "source": [
    "# Leave this blank"
   ]
  },
  {
   "cell_type": "markdown",
   "id": "754b2b16-2898-445d-932c-671a0f8eb5e8",
   "metadata": {
    "deletable": false,
    "editable": false,
    "nbgrader": {
     "cell_type": "markdown",
     "checksum": "336e09a8852150ac825b72c266ccf5db",
     "grade": false,
     "grade_id": "cell-20bbbe656011f66d",
     "locked": true,
     "schema_version": 3,
     "solution": false,
     "task": false
    }
   },
   "source": [
    "---\n",
    "### 7. Deleting dictionary entries (1 pt)\n",
    "\n",
    "Later, you realize that subject 8 did not complete the testing protocol, so we will remove her data from all analyses, including her entry from the `data` dictionary. Remember to check your answer by printing your dictionary. "
   ]
  },
  {
   "cell_type": "code",
   "execution_count": null,
   "id": "606cda21-71d7-4a76-bd09-9b8ed1eb1424",
   "metadata": {
    "collapsed": false,
    "deletable": false,
    "jupyter": {
     "outputs_hidden": false
    },
    "nbgrader": {
     "cell_type": "code",
     "checksum": "fb51bb280aa1fcd640295fc1980ac4b5",
     "grade": false,
     "grade_id": "cell-11eb6113b57bd599",
     "locked": false,
     "schema_version": 3,
     "solution": true,
     "task": false
    }
   },
   "outputs": [],
   "source": [
    "# YOUR CODE HERE\n",
    "raise NotImplementedError()"
   ]
  },
  {
   "cell_type": "code",
   "execution_count": null,
   "id": "da1b47e1-3715-4dd8-be24-b223b5b20168",
   "metadata": {
    "deletable": false,
    "editable": false,
    "nbgrader": {
     "cell_type": "code",
     "checksum": "f64dbca2364e680ca8e959aec38e27b4",
     "grade": true,
     "grade_id": "cell-f4850fe65489b743",
     "locked": true,
     "points": 0,
     "schema_version": 3,
     "solution": false,
     "task": false
    }
   },
   "outputs": [],
   "source": [
    "# Leave this blank"
   ]
  },
  {
   "cell_type": "markdown",
   "id": "9a8624b5-1dca-42e2-b7ae-ad6e14aabd80",
   "metadata": {
    "deletable": false,
    "editable": false,
    "nbgrader": {
     "cell_type": "markdown",
     "checksum": "22cbeb2d613fec9c704c6a664d363b7d",
     "grade": false,
     "grade_id": "cell-b2e99fa21c0512e0",
     "locked": true,
     "schema_version": 3,
     "solution": false,
     "task": false
    }
   },
   "source": [
    "---\n",
    "### 8. Creating a nested dictionary. (3 pts)\n",
    "\n",
    "We also have data on the maximum heart rate achieved by each subject during a moderately intensive exercise protocol involving treadmill walking. These data are held in the variable `hr_max` below. Now, to better organize our data, create a dictionary called `data_all` that has a nested structure such that each ***valid*** subject's ID serves as the key into a dictionary containing `key:value` pairs for that subject's age and maximum heart rate. Once you've created `data_all`, print out the age and heart rate max for `s5`.\n",
    "\n",
    "Note that creating this new dictionary will be somewhat tedious, but that will only make you appreciate the future use of loops and `pandas` data frames so much more!"
   ]
  },
  {
   "cell_type": "code",
   "execution_count": null,
   "id": "937622d9-1f13-40cd-8399-5ebf9905d652",
   "metadata": {
    "deletable": false,
    "nbgrader": {
     "cell_type": "code",
     "checksum": "abc55d615028b9193de7acccb61717ec",
     "grade": false,
     "grade_id": "cell-ff232f6ecab855b7",
     "locked": false,
     "schema_version": 3,
     "solution": true,
     "task": false
    }
   },
   "outputs": [],
   "source": [
    "hr_max = [97, 140, 110, 134, 123, 145, 119]  # Data for the 7 valid subjects\n",
    "\n",
    "# YOUR CODE HERE\n",
    "raise NotImplementedError()"
   ]
  },
  {
   "cell_type": "code",
   "execution_count": null,
   "id": "c849cd0b-1635-454a-8d33-1ab1f94f58cb",
   "metadata": {
    "deletable": false,
    "editable": false,
    "nbgrader": {
     "cell_type": "code",
     "checksum": "5669a033ab42fd0b14c364f960b34331",
     "grade": true,
     "grade_id": "cell-334a2786b29d3e60",
     "locked": true,
     "points": 3,
     "schema_version": 3,
     "solution": false,
     "task": false
    }
   },
   "outputs": [],
   "source": [
    "# Leave this blank"
   ]
  },
  {
   "cell_type": "markdown",
   "id": "b82eec8e-2eb3-44f9-a48c-9a7de881dca2",
   "metadata": {
    "deletable": false,
    "editable": false,
    "nbgrader": {
     "cell_type": "markdown",
     "checksum": "af36fff1aed2a947f67f571dcdcb98cd",
     "grade": false,
     "grade_id": "cell-3195d04c64c7a3e1",
     "locked": true,
     "schema_version": 3,
     "solution": false,
     "task": false
    }
   },
   "source": [
    "---\n",
    "### 9. Let's do some preliminary data analysis with these data! (3 pts)\n",
    "\n",
    "It turns out that \"s1\", \"s3\", and \"s7\" in `data_all` were on an experimental medication that should have blunted their maximum heart rate. *Using proper indexing into `data_all`,* as well as variable assignment, calculate the average `hr_max` for the subjects that were on this medication versus those that weren't. This should only require two lines of code to calculate, and one line to print the answer. (Hint: As a reminder, an average is the sum of elements divided by the number of elements -- i.e., $\\dfrac{\\sum_{i=1}^{N} x_i}{N}$.)\n",
    "\n",
    "Note that while this analysis isn't enough for us to make a strong inference about the effects of the medication, it is still helpful to explore the data this way to see if it's consistent with the possibility of there being an effect of medication. "
   ]
  },
  {
   "cell_type": "code",
   "execution_count": null,
   "id": "1a5ee1a9-1ac0-43c7-a277-0565b56a5708",
   "metadata": {
    "deletable": false,
    "nbgrader": {
     "cell_type": "code",
     "checksum": "46e644e2139441c781c1233c1cf62c1d",
     "grade": false,
     "grade_id": "cell-0cecc418ed59fff1",
     "locked": false,
     "schema_version": 3,
     "solution": true,
     "task": false
    }
   },
   "outputs": [],
   "source": [
    "# YOUR CODE HERE\n",
    "raise NotImplementedError()"
   ]
  },
  {
   "cell_type": "code",
   "execution_count": null,
   "id": "21e2e1ad-20e6-40e7-ab9f-5e7962543774",
   "metadata": {
    "deletable": false,
    "editable": false,
    "nbgrader": {
     "cell_type": "code",
     "checksum": "16db1a940ea7ccf7144463565bf7baf6",
     "grade": true,
     "grade_id": "cell-3f3b8a9fb1293715",
     "locked": true,
     "points": 3,
     "schema_version": 3,
     "solution": false,
     "task": false
    }
   },
   "outputs": [],
   "source": [
    "# Leave this blank"
   ]
  }
 ],
 "metadata": {
  "kernelspec": {
   "display_name": "Python 3 (ipykernel)",
   "language": "python",
   "name": "python3"
  },
  "language_info": {
   "codemirror_mode": {
    "name": "ipython",
    "version": 3
   },
   "file_extension": ".py",
   "mimetype": "text/x-python",
   "name": "python",
   "nbconvert_exporter": "python",
   "pygments_lexer": "ipython3",
   "version": "3.10.14"
  }
 },
 "nbformat": 4,
 "nbformat_minor": 5
}
