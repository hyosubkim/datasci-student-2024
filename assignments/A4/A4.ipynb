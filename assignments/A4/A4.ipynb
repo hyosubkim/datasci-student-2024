{
 "cells": [
  {
   "cell_type": "markdown",
   "id": "27163465",
   "metadata": {
    "deletable": false,
    "editable": false,
    "nbgrader": {
     "cell_type": "markdown",
     "checksum": "48278d3b6cdc5c4fcc2e52ccb0b3c3b3",
     "grade": false,
     "grade_id": "cell-c248b5611449f852",
     "locked": true,
     "schema_version": 3,
     "solution": false,
     "task": false
    }
   },
   "source": [
    "# Instructions\n",
    "\n",
    "- **You must include your name in the cell below** \n",
    "- Make sure you fill in any place that says `YOUR CODE HERE` or `YOUR ANSWER HERE`.\n",
    "- Delete all of the `raise NotImplementedError()` lines after you answer the question\n",
    "- You are allowed to ask for help from other students after working on your own, but **make sure the work you submit is your own.** If someone did help you, assign their name(s) to ASSIST below\n",
    "- Before downloading the completed assignment, make sure to **restart the kernel and run all cells** (in the menubar, select **Kernel$\\rightarrow$Restart Kernel and Run All Cells**). If there are any code execution errors, you must fix them before submitting your assignment."
   ]
  },
  {
   "cell_type": "code",
   "execution_count": null,
   "id": "26553b89",
   "metadata": {},
   "outputs": [],
   "source": [
    "# YOUR NAME AND ANYONE WHO ASSISTED YOU\n",
    "NAME = \"\"\n",
    "ASSIST = \"\""
   ]
  },
  {
   "cell_type": "markdown",
   "id": "515442ed",
   "metadata": {},
   "source": [
    "---"
   ]
  },
  {
   "cell_type": "markdown",
   "id": "f72b6346-8a42-4802-99f0-6c0fae082053",
   "metadata": {
    "deletable": false,
    "editable": false,
    "nbgrader": {
     "cell_type": "markdown",
     "checksum": "426936601f7cb5833854e9fb256e0b17",
     "grade": false,
     "grade_id": "cell-722700a2f6036a9c",
     "locked": true,
     "schema_version": 3,
     "solution": false,
     "task": false
    }
   },
   "source": [
    "# Assignment 4: `pandas`\n",
    "---"
   ]
  },
  {
   "cell_type": "markdown",
   "id": "3027ddda-b2cf-4b3e-b602-45f8b15a5671",
   "metadata": {
    "deletable": false,
    "editable": false,
    "nbgrader": {
     "cell_type": "markdown",
     "checksum": "9d3a9992bfea97c13fec3ab85942a18a",
     "grade": false,
     "grade_id": "cell-9780db30698f490e",
     "locked": true,
     "schema_version": 3,
     "solution": false,
     "task": false
    }
   },
   "source": [
    "## `pandas` (Each question is worth 1 point; Total = 12 points)\n",
    "\n",
    "For the first part of this assignment, you will be working with daily weather data from 2019 from Toronto, ON, and Vancouver, BC, by loading the following CSVs from inside your `data` subdirectory:\n",
    "\n",
    "- en_climate_daily_ON_6158731_2019_P1D.csv\n",
    "- en_climate_daily_BC_1108395_2019_P1D.csv\n",
    "\n"
   ]
  },
  {
   "cell_type": "markdown",
   "id": "8b1565f4-f7e9-4c00-8f98-dce46f55bf76",
   "metadata": {
    "deletable": false,
    "editable": false,
    "nbgrader": {
     "cell_type": "markdown",
     "checksum": "2a104fc35a389f6beb9d17ec42ec91c8",
     "grade": false,
     "grade_id": "cell-b40c1472c3f3bae5",
     "locked": true,
     "schema_version": 3,
     "solution": false,
     "task": false
    }
   },
   "source": [
    "### 1. Import each file as a data frame, one called `toronto` and one called `vancouver`.\n",
    "\n",
    "The prefix you will want to use to find the csv files is: `../../data/`. Use the `.info()` method to view each data frame's contents. "
   ]
  },
  {
   "cell_type": "code",
   "execution_count": null,
   "id": "a6b33967-8fe3-4ecc-a44c-0068320b8eaf",
   "metadata": {
    "deletable": false,
    "nbgrader": {
     "cell_type": "code",
     "checksum": "259ea40f4f18dfd8dcc41a2b2f4d08be",
     "grade": false,
     "grade_id": "cell-7c9b71c554c3faf6",
     "locked": false,
     "schema_version": 3,
     "solution": true,
     "task": false
    }
   },
   "outputs": [],
   "source": [
    "# Import numpy and pandas and use standard aliases \n",
    "import numpy as np\n",
    "import pandas as pd\n",
    "\n",
    "# Load the data here. \n",
    "# YOUR CODE HERE\n",
    "raise NotImplementedError()\n"
   ]
  },
  {
   "cell_type": "code",
   "execution_count": null,
   "id": "67d7ded3-2b3b-4846-b49a-bc126ccd8baa",
   "metadata": {
    "deletable": false,
    "editable": false,
    "nbgrader": {
     "cell_type": "code",
     "checksum": "e2d3f3c9c7ef7a6ddee642b97ca5a732",
     "grade": true,
     "grade_id": "cell-762285d6eb1dc3c2",
     "locked": true,
     "points": 1,
     "schema_version": 3,
     "solution": false,
     "task": false
    }
   },
   "outputs": [],
   "source": []
  },
  {
   "cell_type": "markdown",
   "id": "6725088d-54e6-48d7-b936-c247dc6b33a0",
   "metadata": {
    "deletable": false,
    "editable": false,
    "nbgrader": {
     "cell_type": "markdown",
     "checksum": "735dfe1c5ea088ede6cdac8f91351450",
     "grade": false,
     "grade_id": "cell-e7cf4f3a77e76526",
     "locked": true,
     "schema_version": 3,
     "solution": false,
     "task": false
    }
   },
   "source": [
    "---\n",
    "### 2. For each city, calculate the maximum temperature range over the whole year (i.e., the difference between the highest maximum daily temperature and the lowest daily minimum temperature). Assign your answer to `tor2` and `van2`"
   ]
  },
  {
   "cell_type": "code",
   "execution_count": null,
   "id": "023dfd15-8fc0-44e9-a042-b1e972bddd61",
   "metadata": {
    "deletable": false,
    "nbgrader": {
     "cell_type": "code",
     "checksum": "b25f0f4d112db55e3cc28c48f7724c32",
     "grade": false,
     "grade_id": "cell-d02a68449539864e",
     "locked": false,
     "schema_version": 3,
     "solution": true,
     "task": false
    }
   },
   "outputs": [],
   "source": [
    "# YOUR CODE HERE\n",
    "raise NotImplementedError()"
   ]
  },
  {
   "cell_type": "code",
   "execution_count": null,
   "id": "23c0d69b-17e5-4448-a714-d27095567709",
   "metadata": {
    "deletable": false,
    "editable": false,
    "nbgrader": {
     "cell_type": "code",
     "checksum": "81770aed1cf7766fa852ab88428608d8",
     "grade": true,
     "grade_id": "cell-f4019fe177dbf2eb",
     "locked": true,
     "points": 1,
     "schema_version": 3,
     "solution": false,
     "task": false
    }
   },
   "outputs": [],
   "source": []
  },
  {
   "cell_type": "markdown",
   "id": "9e2d023a-1b67-4507-9402-c939454b9cf5",
   "metadata": {
    "deletable": false,
    "editable": false,
    "nbgrader": {
     "cell_type": "markdown",
     "checksum": "b0fae282263889972ffbae6e7521f9a8",
     "grade": false,
     "grade_id": "cell-e99e7e15b6d0843f",
     "locked": true,
     "schema_version": 3,
     "solution": false,
     "task": false
    }
   },
   "source": [
    "---\n",
    "### 3(a) How many days did Vancouver have a maximum temperature less than 0 degrees Celsius? What about Toronto? Assign your answers to `van3a` and `tor3a`\n"
   ]
  },
  {
   "cell_type": "code",
   "execution_count": null,
   "id": "8911e53e-c988-453e-b74e-03bdcd812d0d",
   "metadata": {
    "deletable": false,
    "nbgrader": {
     "cell_type": "code",
     "checksum": "0939c81bff8028e3c49474a6bea6598c",
     "grade": false,
     "grade_id": "cell-b88bd56db7967521",
     "locked": false,
     "schema_version": 3,
     "solution": true,
     "task": false
    }
   },
   "outputs": [],
   "source": [
    "# YOUR CODE HERE\n",
    "raise NotImplementedError()"
   ]
  },
  {
   "cell_type": "code",
   "execution_count": null,
   "id": "e3756e69-59bd-4068-829e-26f9dd6e8fd1",
   "metadata": {
    "deletable": false,
    "editable": false,
    "nbgrader": {
     "cell_type": "code",
     "checksum": "b3e197f3ed4d8a846cff95b3c4714882",
     "grade": true,
     "grade_id": "cell-d34485857599bc60",
     "locked": true,
     "points": 1,
     "schema_version": 3,
     "solution": false,
     "task": false
    }
   },
   "outputs": [],
   "source": []
  },
  {
   "cell_type": "markdown",
   "id": "dd371cda-1e86-466b-a16b-e13c9b086560",
   "metadata": {
    "deletable": false,
    "editable": false,
    "nbgrader": {
     "cell_type": "markdown",
     "checksum": "357f822e7e8730099e7113f35102b46c",
     "grade": false,
     "grade_id": "cell-dc4495cedc96314a",
     "locked": true,
     "schema_version": 3,
     "solution": false,
     "task": false
    }
   },
   "source": [
    "### 3(b) What was the Total Rain (mm) over the year in Vancouver? What about Toronto? Assign your answers to `van3b` and `tor3b`."
   ]
  },
  {
   "cell_type": "code",
   "execution_count": null,
   "id": "b68919ab-c5f4-43b3-bed0-7bd257e34f39",
   "metadata": {
    "deletable": false,
    "nbgrader": {
     "cell_type": "code",
     "checksum": "d4f98e7f8330f6de8c44a30af7e94134",
     "grade": false,
     "grade_id": "cell-a23f76117695c60a",
     "locked": false,
     "schema_version": 3,
     "solution": true,
     "task": false
    }
   },
   "outputs": [],
   "source": [
    "# YOUR CODE HERE\n",
    "raise NotImplementedError()"
   ]
  },
  {
   "cell_type": "code",
   "execution_count": null,
   "id": "6dbf31e5-f367-4a93-8e56-e92ac80780a3",
   "metadata": {
    "deletable": false,
    "editable": false,
    "nbgrader": {
     "cell_type": "code",
     "checksum": "53a41a4b7617beeade42d33d24a45689",
     "grade": true,
     "grade_id": "cell-5bbd67bed67a0677",
     "locked": true,
     "points": 1,
     "schema_version": 3,
     "solution": false,
     "task": false
    }
   },
   "outputs": [],
   "source": []
  },
  {
   "cell_type": "markdown",
   "id": "b2cbfd62-1768-4814-8257-be0ba58204c1",
   "metadata": {
    "deletable": false,
    "editable": false,
    "nbgrader": {
     "cell_type": "markdown",
     "checksum": "f1f2d6d6c1249c615f29d45b9a81722b",
     "grade": false,
     "grade_id": "cell-c88c00363d5fa464",
     "locked": true,
     "schema_version": 3,
     "solution": false,
     "task": false
    }
   },
   "source": [
    "### 3(c) What was the Total Snow (cm) over the year in Vancouver? In Toronto? Assign your answers to `van3c` and `tor3c`."
   ]
  },
  {
   "cell_type": "code",
   "execution_count": null,
   "id": "49955182-df43-45e3-989f-52ec2e208f4e",
   "metadata": {
    "deletable": false,
    "nbgrader": {
     "cell_type": "code",
     "checksum": "265262e777628485b870177c6b9430db",
     "grade": false,
     "grade_id": "cell-4121c83b484ae58c",
     "locked": false,
     "schema_version": 3,
     "solution": true,
     "task": false
    }
   },
   "outputs": [],
   "source": [
    "# YOUR CODE HERE\n",
    "raise NotImplementedError()"
   ]
  },
  {
   "cell_type": "code",
   "execution_count": null,
   "id": "5c2ac39b-e367-4b6f-8438-8ca0e16f68bc",
   "metadata": {
    "deletable": false,
    "editable": false,
    "nbgrader": {
     "cell_type": "code",
     "checksum": "4331e474d258ea8647c2509e905a2328",
     "grade": true,
     "grade_id": "cell-5e764d10b3c3457b",
     "locked": true,
     "points": 1,
     "schema_version": 3,
     "solution": false,
     "task": false
    }
   },
   "outputs": [],
   "source": []
  },
  {
   "cell_type": "markdown",
   "id": "479f069a-7d42-48b9-ba84-1f42b67172be",
   "metadata": {
    "deletable": false,
    "editable": false,
    "nbgrader": {
     "cell_type": "markdown",
     "checksum": "364f0ebce439f284ff83ddededf66f88",
     "grade": false,
     "grade_id": "cell-f6ca62a0072ac95c",
     "locked": true,
     "schema_version": 3,
     "solution": false,
     "task": false
    }
   },
   "source": [
    "---\n",
    "### 4(a) How many days over the course of the whole year did Vancouver have Total Rain (mm) greater than zero? What about Toronto? Assign your answers to `van4a` and `tor4a`.\n"
   ]
  },
  {
   "cell_type": "code",
   "execution_count": null,
   "id": "9d2677c2-6fb0-4eb1-96bd-d67dd37e9255",
   "metadata": {
    "deletable": false,
    "nbgrader": {
     "cell_type": "code",
     "checksum": "d09ba37b79f5fc77c9b78c497aa0bd35",
     "grade": false,
     "grade_id": "cell-036aa88ed363c801",
     "locked": false,
     "schema_version": 3,
     "solution": true,
     "task": false
    }
   },
   "outputs": [],
   "source": [
    "# YOUR CODE HERE\n",
    "raise NotImplementedError()"
   ]
  },
  {
   "cell_type": "code",
   "execution_count": null,
   "id": "9bfbe17d-d37d-474e-8aff-64c0331bb7d5",
   "metadata": {
    "deletable": false,
    "editable": false,
    "nbgrader": {
     "cell_type": "code",
     "checksum": "eefd6723a3cedd04724c836128a393c2",
     "grade": true,
     "grade_id": "cell-4db7a5ca7e1e07e8",
     "locked": true,
     "points": 1,
     "schema_version": 3,
     "solution": false,
     "task": false
    }
   },
   "outputs": [],
   "source": []
  },
  {
   "cell_type": "markdown",
   "id": "958af810-4d07-49a9-a6b0-d4acc78fc87b",
   "metadata": {
    "deletable": false,
    "editable": false,
    "nbgrader": {
     "cell_type": "markdown",
     "checksum": "21205424a84d9e824e07fafd66b92f5d",
     "grade": false,
     "grade_id": "cell-56b1331745b88c55",
     "locked": true,
     "schema_version": 3,
     "solution": false,
     "task": false
    }
   },
   "source": [
    "### 4(b) How many days over the course of the whole year did Vancouver have Total Snow (cm) greater than zero? What about Toronto? Assign your answers to `van4b` and `tor4b` "
   ]
  },
  {
   "cell_type": "code",
   "execution_count": null,
   "id": "7fd9bb70-4ba0-4c2a-a17d-cab0dc2c1fe9",
   "metadata": {
    "deletable": false,
    "nbgrader": {
     "cell_type": "code",
     "checksum": "42ecef5a50f604191bf058e5d1cd52ab",
     "grade": false,
     "grade_id": "cell-d2794cec4409a137",
     "locked": false,
     "schema_version": 3,
     "solution": true,
     "task": false
    }
   },
   "outputs": [],
   "source": [
    "# YOUR CODE HERE\n",
    "raise NotImplementedError()"
   ]
  },
  {
   "cell_type": "code",
   "execution_count": null,
   "id": "982abf4e-599e-41e3-aced-6a05766b5b72",
   "metadata": {
    "deletable": false,
    "editable": false,
    "nbgrader": {
     "cell_type": "code",
     "checksum": "ef67796145220587e66772b55341638a",
     "grade": true,
     "grade_id": "cell-5ac1ce78f8ad02b8",
     "locked": true,
     "points": 1,
     "schema_version": 3,
     "solution": false,
     "task": false
    }
   },
   "outputs": [],
   "source": []
  },
  {
   "cell_type": "markdown",
   "id": "369a199d-7a0c-48b2-aa54-5bd4f17ea718",
   "metadata": {
    "deletable": false,
    "editable": false,
    "nbgrader": {
     "cell_type": "markdown",
     "checksum": "492984bcd1c01e9e52f483630af77dbc",
     "grade": false,
     "grade_id": "cell-fc8fe06146ff95e1",
     "locked": true,
     "schema_version": 3,
     "solution": false,
     "task": false
    }
   },
   "source": [
    "### 4(c) How many days did Vancouver have Snow on Grnd (cm) greater than zero? What about Toronto? Assign your answers to `van4c` and `tor4c`."
   ]
  },
  {
   "cell_type": "code",
   "execution_count": null,
   "id": "09c56f26-a923-40f9-b664-131aeefe510c",
   "metadata": {
    "deletable": false,
    "nbgrader": {
     "cell_type": "code",
     "checksum": "b24b692435ea6af848322f4e1cf4c103",
     "grade": false,
     "grade_id": "cell-dd4d326b36e00b9a",
     "locked": false,
     "schema_version": 3,
     "solution": true,
     "task": false
    }
   },
   "outputs": [],
   "source": [
    "# YOUR CODE HERE\n",
    "raise NotImplementedError()\n"
   ]
  },
  {
   "cell_type": "code",
   "execution_count": null,
   "id": "cfd5819a-8776-476d-bb8c-15f5f663e29b",
   "metadata": {
    "deletable": false,
    "editable": false,
    "nbgrader": {
     "cell_type": "code",
     "checksum": "c88023802018b03faf9c6131b5dd6a54",
     "grade": true,
     "grade_id": "cell-0b46a8adc5ba6023",
     "locked": true,
     "points": 1,
     "schema_version": 3,
     "solution": false,
     "task": false
    }
   },
   "outputs": [],
   "source": []
  },
  {
   "cell_type": "markdown",
   "id": "cb2328cf-a435-4b41-ab6c-08b470624d48",
   "metadata": {
    "deletable": false,
    "editable": false,
    "nbgrader": {
     "cell_type": "markdown",
     "checksum": "29f9df6f38defd2fc749fd080f77d183",
     "grade": false,
     "grade_id": "cell-b9449fd55b6cacfb",
     "locked": true,
     "schema_version": 3,
     "solution": false,
     "task": false
    }
   },
   "source": [
    "---\n",
    "### 5(a) How many days did both Toronto and Vancouver have Total Rain (mm) greater than 1.0 mm? Assign your answer to `ans5a`."
   ]
  },
  {
   "cell_type": "code",
   "execution_count": null,
   "id": "c1f6e196-ce47-4b44-8185-53c569e761ca",
   "metadata": {
    "deletable": false,
    "nbgrader": {
     "cell_type": "code",
     "checksum": "f8abec3bd7f98ffdf8f9fdc3294e2d06",
     "grade": false,
     "grade_id": "cell-49b1dc2f0402f8e6",
     "locked": false,
     "schema_version": 3,
     "solution": true,
     "task": false
    }
   },
   "outputs": [],
   "source": [
    "# YOUR CODE HERE\n",
    "raise NotImplementedError()"
   ]
  },
  {
   "cell_type": "code",
   "execution_count": null,
   "id": "26676666-0121-419f-ba36-977cbf1c9258",
   "metadata": {
    "deletable": false,
    "editable": false,
    "nbgrader": {
     "cell_type": "code",
     "checksum": "34dca485b3d55c1965d4c293755fb1c2",
     "grade": true,
     "grade_id": "cell-cd178a64fc6e04f3",
     "locked": true,
     "points": 1,
     "schema_version": 3,
     "solution": false,
     "task": false
    }
   },
   "outputs": [],
   "source": []
  },
  {
   "cell_type": "markdown",
   "id": "da1529ab-6490-4003-83eb-a9d3eec6d655",
   "metadata": {
    "deletable": false,
    "editable": false,
    "nbgrader": {
     "cell_type": "markdown",
     "checksum": "7972a020016073f4c26fc551b50b7b7f",
     "grade": false,
     "grade_id": "cell-02700da3f6840f0a",
     "locked": true,
     "schema_version": 3,
     "solution": false,
     "task": false
    }
   },
   "source": [
    "### 5(b) What proportion of those days, in percent out of 100 and rounding to 1 decimal place (e.g., 12.3%), did Vancouver have greater Total Rain (mm) than Toronto? Assign your answer to `ans5b` (only numeric value, do not include \"%\" symbol)."
   ]
  },
  {
   "cell_type": "code",
   "execution_count": null,
   "id": "7a5a36ec-a230-4e1d-86ac-78a7b4be2bda",
   "metadata": {
    "deletable": false,
    "nbgrader": {
     "cell_type": "code",
     "checksum": "281240ee5920e55aaa3244f61a8e3cf2",
     "grade": false,
     "grade_id": "cell-14c4f81203da8d9d",
     "locked": false,
     "schema_version": 3,
     "solution": true,
     "task": false
    }
   },
   "outputs": [],
   "source": [
    "# YOUR CODE HERE\n",
    "raise NotImplementedError()"
   ]
  },
  {
   "cell_type": "code",
   "execution_count": null,
   "id": "c48b31e1-71c1-4efc-8bfa-63985d7a5438",
   "metadata": {
    "deletable": false,
    "editable": false,
    "nbgrader": {
     "cell_type": "code",
     "checksum": "6ddf57e83000f6d6f7cf868028aa7cbe",
     "grade": true,
     "grade_id": "cell-13824d4e55a3d071",
     "locked": true,
     "points": 1,
     "schema_version": 3,
     "solution": false,
     "task": false
    }
   },
   "outputs": [],
   "source": []
  },
  {
   "cell_type": "markdown",
   "id": "687ecd1a-73bc-44a8-a3dc-7abf1b9faabb",
   "metadata": {
    "deletable": false,
    "editable": false,
    "nbgrader": {
     "cell_type": "markdown",
     "checksum": "48075fc033d762d7443499f70bce2e4e",
     "grade": false,
     "grade_id": "cell-bd3f0ca978c842b2",
     "locked": true,
     "schema_version": 3,
     "solution": false,
     "task": false
    }
   },
   "source": [
    "### 5(c) How many days did both Toronto and Vancouver have Total Snow (cm) greater than 0.0 cm? "
   ]
  },
  {
   "cell_type": "code",
   "execution_count": null,
   "id": "8e5db0e2-0b03-4737-921c-937e1633429d",
   "metadata": {
    "deletable": false,
    "nbgrader": {
     "cell_type": "code",
     "checksum": "765f2f68a33f9a243919c1c5bdfe5d9e",
     "grade": false,
     "grade_id": "cell-c6695ddb3c383d84",
     "locked": false,
     "schema_version": 3,
     "solution": true,
     "task": false
    }
   },
   "outputs": [],
   "source": [
    "# YOUR CODE HERE\n",
    "raise NotImplementedError()"
   ]
  },
  {
   "cell_type": "code",
   "execution_count": null,
   "id": "67153d09-ab7d-49b7-9b6b-f6aef2041e97",
   "metadata": {
    "deletable": false,
    "editable": false,
    "nbgrader": {
     "cell_type": "code",
     "checksum": "42d9983659380da6a99b54c768fdf796",
     "grade": true,
     "grade_id": "cell-46625d326f627209",
     "locked": true,
     "points": 1,
     "schema_version": 3,
     "solution": false,
     "task": false
    }
   },
   "outputs": [],
   "source": []
  },
  {
   "cell_type": "markdown",
   "id": "0d4e5cfc-4d0f-458a-bf34-3dcd8bdf8fc6",
   "metadata": {
    "deletable": false,
    "editable": false,
    "nbgrader": {
     "cell_type": "markdown",
     "checksum": "90563f672d9be8d119821d3cc200d555",
     "grade": false,
     "grade_id": "cell-4d4749f6405a5104",
     "locked": true,
     "schema_version": 3,
     "solution": false,
     "task": false
    }
   },
   "source": [
    "### 5(d) What proportion of those days, in percent out of 100, again rounding to 1 decimal place, did Vancouver have greater Total Snow (cm) than Toronto? Assign your answer to `ans5d` (again, only numeric value, do not include \"%\" symbol)."
   ]
  },
  {
   "cell_type": "code",
   "execution_count": null,
   "id": "72998309-e6bc-498b-801f-3d62cb4b8462",
   "metadata": {
    "deletable": false,
    "nbgrader": {
     "cell_type": "code",
     "checksum": "d1edcc93fdc80dfba09bf49d1af26764",
     "grade": false,
     "grade_id": "cell-c8610e5d5f951269",
     "locked": false,
     "schema_version": 3,
     "solution": true,
     "task": false
    }
   },
   "outputs": [],
   "source": [
    "# YOUR CODE HERE\n",
    "raise NotImplementedError()"
   ]
  },
  {
   "cell_type": "code",
   "execution_count": null,
   "id": "6a0ccbb0-0a7e-4218-a4c4-24a2b0e0ce96",
   "metadata": {
    "deletable": false,
    "editable": false,
    "nbgrader": {
     "cell_type": "code",
     "checksum": "79b020ef9e08fa5dfeafead0d938409d",
     "grade": true,
     "grade_id": "cell-07e87cb82f825a4f",
     "locked": true,
     "points": 1,
     "schema_version": 3,
     "solution": false,
     "task": false
    }
   },
   "outputs": [],
   "source": []
  }
 ],
 "metadata": {
  "kernelspec": {
   "display_name": "Python 3 (ipykernel)",
   "language": "python",
   "name": "python3"
  },
  "language_info": {
   "codemirror_mode": {
    "name": "ipython",
    "version": 3
   },
   "file_extension": ".py",
   "mimetype": "text/x-python",
   "name": "python",
   "nbconvert_exporter": "python",
   "pygments_lexer": "ipython3",
   "version": "3.10.14"
  }
 },
 "nbformat": 4,
 "nbformat_minor": 5
}
