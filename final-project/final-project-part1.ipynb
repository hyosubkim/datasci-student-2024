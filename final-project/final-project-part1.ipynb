{
 "cells": [
  {
   "cell_type": "markdown",
   "id": "16c78efd-f44f-42f1-a3f3-c3d4862f135f",
   "metadata": {
    "slideshow": {
     "slide_type": "slide"
    }
   },
   "source": [
    "# Final project: Your very own data science project!\n",
    "---"
   ]
  },
  {
   "cell_type": "markdown",
   "id": "cf543f55-7ffc-4078-b3e4-9db7374545a1",
   "metadata": {
    "slideshow": {
     "slide_type": "slide"
    }
   },
   "source": [
    "## Data Science in Practice\n",
    "\n",
    "For the final project, you (and possibly one other peer) will complete a mini-project. For your project, you will complete a Jupyter notebook that contains an analysis program that shows off your newfound coding and visualization skills (with `Matplotlib` and `seaborn`) to help answer some interesting question(s) about a data set. This notebook must be thorough, well-structured, and convey something novel about the data (i.e., you cannot reproduce someone else's analysis). I should be able to go through the notebook top-to-bottom and understand (at minimum) the following:\n",
    "\n",
    "- Your rationale for choosing the data you chose\n",
    "- How you found your data set (provide source link)\n",
    "- The question you are asking\n",
    "- The steps you went through to read-in and process your data\n",
    "- Your choice of visualizations and how they help answer your question\n",
    "- The different exploratory data analysis methods you used to help answer your question\n",
    "\n",
    "Technical components I'm absolutely expecting to see in your notebook include (but are not limited to):\n",
    "\n",
    "- Use of `pandas` for reading in data and organizing data frame\n",
    "- Proper subsetting of data and grouping\n",
    "- 2-3 figures (or subplot panels) that shed light on the data *and* your question of interest\n",
    "- Descriptive statistics - this should be available in the figure along with some textual explanation\n",
    "- Explanatory text regarding each major step (Note: The point here is to clarify your intent, not to be verbose. Be clear and succinct.)\n",
    "\n",
    "Good to have, but not absolutely necessary:\n",
    "\n",
    "- Custom-written function(s) \n"
   ]
  },
  {
   "cell_type": "markdown",
   "id": "92a99b1f-76fb-41fb-918d-ac6cc4289b24",
   "metadata": {
    "slideshow": {
     "slide_type": "slide"
    }
   },
   "source": [
    "---\n",
    "## Parrt 1: Choose your data set and start formulating your question\n",
    "\n",
    "### Provide information regarding the data set (e.g., link) and question(s) you would like to explore by Sunday, Nov 3. \n",
    "\n",
    "The first step is to pick your data set and start thinking about the question(s) you'll address and visualizations you might use to address it (them). Provide a statement regarding your motivation and rationale in the cell below and submit it on Canvas. I know this is new for many of you, so I'm not expecting anything very polished, but I do want to see that you are seriously thinking about this. \n",
    "\n",
    "You may choose one of the data sets below for your project or you may wish to find your own data set to work with. ***If you go the latter route, you must ensure that the data you're proposing to use is shareable, as we may post it for current and future students to consider for their own projects.*** \n",
    "\n",
    "My advice is to spend some time seriously considering what sort of data and questions you are interested in exploring -- but don't get stuck! No matter what data you choose, you will learn a lot from this process, so don't let choosing between data sets be the bottle neck! The same goes for your question. Take it seriously, but if you're stuck, you may just want to start exploring some of the data sets below and *discover* what you're interested in asking.\n",
    "\n",
    "### Open data sets \n",
    "\n",
    "Here are some publicly available data sets I was able to find. Note that I know nothing about these data, including how they are organized, whether they've been cleaned, file type, etc. It's your job, should you choose to work with one of them, to decipher this information. This is what data scientists do! It may be helpful (but not necessary) to find data that come as CSV files, and in long form. Of course, you are encouraged to figure out ways to wrangle other file types and less tidy data if you find the data set to be of interest. Remember, you can always Google \"[topic of interest] open data\", and there's a good chance you'll find something. **Regardless of the data you choose, you must not modify the original data file(s) in any way.**\n",
    "\n",
    "Physiological data: \n",
    "- https://www.journals.elsevier.com/physiology-and-behavior/mendeley-datasets\n",
    "- https://www.physionet.org/about/database/\n",
    "\n",
    "Exercise data:\n",
    "- https://data.world/datasets/exercise\n",
    "\n",
    "Neuroscience data:\n",
    "- https://crcns.org/data-sets/motor-cortex/alm-1/about-alm-1\n",
    "- https://openneuro.org/\n",
    "\n",
    "Basketball: \n",
    "- https://github.com/fivethirtyeight/nba-player-advanced-metrics\n",
    "- https://github.com/fivethirtyeight/WNBA-stats\n",
    "\n",
    "\n",
    "**Other data sources (taken from CPSC 103):**\n",
    "- The Avengers: https://github.com/fivethirtyeight/data/tree/master/avengers\n",
    "- Covid cases in Canada: https://health-infobase.canada.ca/covid-19/?redir=1#tiles\n",
    "- Caffeine content in drinks: https://www.kaggle.com/datasets/heitornunes/caffeine-content-of-drinks\n",
    "- Air quality at Vancouver International Airport: https://openaq.org/#/location/1528\n",
    "- Bicycle crashes in Austin (2010 - 2017): https://openaq.org/#/location/1528\n",
    "- Urban Park Ranger Engagement Tracker: https://data.cityofnewyork.us/Education/Urban-Park-Ranger-Engagement-Tracker/rcd4-qkns\n",
    "- Movies: https://github.com/fivethirtyeight/data/blob/master/bechdel/movies.csv"
   ]
  },
  {
   "cell_type": "markdown",
   "id": "cdc883ee-497a-4388-acf5-0fefadeb3fea",
   "metadata": {
    "slideshow": {
     "slide_type": "-"
    }
   },
   "source": [
    "---\n",
    "### Provide your answers below in Markdown text.\n",
    "\n",
    "\n"
   ]
  },
  {
   "cell_type": "markdown",
   "id": "baaa7746-c4ca-4e48-b68f-8a6b48ba004b",
   "metadata": {
    "tags": []
   },
   "source": [
    "### Data Set   \n",
    "\n",
    "Write 1 paragraph on what data set have you chosen and why. How large is your data set&mdash;how many observations and variables? Provide a link to the data set. If you are working with data from your lab and there's no url for it, you can look into sharing a link through [OneDrive](https://it.ubc.ca/services/web-servers-storage/microsoft-onedrive). The Open Science Framework [(OSF)](https://osf.io/) is another good option. **Remember: You must ensure that the data you're proposing to use is shareable (e.g., receive written consent from your lab's PI), as we may post it for current and future students to consider for their own projects.** "
   ]
  },
  {
   "cell_type": "markdown",
   "id": "322eacff-4191-4013-8554-73c335af2113",
   "metadata": {},
   "source": []
  },
  {
   "cell_type": "markdown",
   "id": "802adfbe-0a92-4a64-9d6b-56eabe79f4ae",
   "metadata": {
    "tags": []
   },
   "source": [
    "### Project Question \n",
    "\n",
    "Write down 1-3 main questions you would like to try and answer with your final project. Feel free to provide secondary questions, if you have them. "
   ]
  },
  {
   "cell_type": "markdown",
   "id": "ebc49b6a-f308-4161-9bbe-2e81d3097d70",
   "metadata": {},
   "source": []
  },
  {
   "cell_type": "markdown",
   "id": "8a87e880-2910-462c-a951-15ded306ac3f",
   "metadata": {},
   "source": [
    "### Partner? \n",
    "\n",
    "Write down the name of the person you are working on this project with. If you choose to work with another student, you must provide details on each of your individual contributions to the project ***when the completed work is turned in.*** "
   ]
  },
  {
   "cell_type": "code",
   "execution_count": null,
   "id": "29eb92f1-24c4-4b4d-8659-00993abb18c5",
   "metadata": {},
   "outputs": [],
   "source": []
  }
 ],
 "metadata": {
  "kernelspec": {
   "display_name": "Python 3 (ipykernel)",
   "language": "python",
   "name": "python3"
  },
  "language_info": {
   "codemirror_mode": {
    "name": "ipython",
    "version": 3
   },
   "file_extension": ".py",
   "mimetype": "text/x-python",
   "name": "python",
   "nbconvert_exporter": "python",
   "pygments_lexer": "ipython3",
   "version": "3.10.14"
  }
 },
 "nbformat": 4,
 "nbformat_minor": 5
}
